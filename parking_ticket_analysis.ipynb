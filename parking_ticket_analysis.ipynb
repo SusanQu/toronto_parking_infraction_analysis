{
 "cells": [
  {
   "cell_type": "markdown",
   "metadata": {},
   "source": [
    "# Toronto Parking Tickets Analysis #"
   ]
  },
  {
   "cell_type": "markdown",
   "metadata": {},
   "source": [
    "#### Dataset Description ####\n",
    "\n",
    "Approximately 2.8 million parking tickets are issued annually across the City of Toronto. This dataset contains non-identifiable information relating to each parking ticket issued for each calendar year. The tickets are issued by Toronto Police Services (TPS) personnel as well as persons certified and authorized to issue tickets by TPS.\n",
    "\n",
    "This data set contains complete records only. Incomplete records in the City database are not included in the data set. Incomplete records may exist due to a variety of reasons e.g. the vehicle registration is out-of-province, tickets paid prior to staff entering the ticket data, etc.The volume of incomplete records relative to the overall volume is low and therefore presents insignificant impact to trend analysis.\n",
    "\n",
    "Data source: https://open.toronto.ca/dataset/parking-tickets/"
   ]
  },
  {
   "cell_type": "code",
   "execution_count": 144,
   "metadata": {},
   "outputs": [],
   "source": [
    "# Import libraries\n",
    "import pandas as pd\n",
    "import requests\n",
    "import numpy as np\n",
    "from geopy.geocoders import Nominatim\n",
    "import config\n",
    "\n",
    "import plotly.express as px\n",
    "import plotly.io as pio\n",
    "import plotly.graph_objects as go"
   ]
  },
  {
   "cell_type": "code",
   "execution_count": 3,
   "metadata": {},
   "outputs": [],
   "source": [
    "# Get the dataset metadata by passing package_id to the package_search endpoint\n",
    "# For example, to retrieve the metadata for this dataset:\n",
    "\n",
    "url = \"https://ckan0.cf.opendata.inter.prod-toronto.ca/api/3/action/package_show\"\n",
    "params = { \"id\": \"8c233bc2-1879-44ff-a0e4-9b69a9032c54\"}\n",
    "package = requests.get(url, params = params).json()\n",
    "#print(package['result']['resources'])"
   ]
  },
  {
   "cell_type": "markdown",
   "metadata": {},
   "source": [
    "### Data Exploration and Cleaning ###"
   ]
  },
  {
   "cell_type": "code",
   "execution_count": 132,
   "metadata": {},
   "outputs": [
    {
     "name": "stdout",
     "output_type": "stream",
     "text": [
      "Number of rows and cols:  (750000, 11)\n"
     ]
    }
   ],
   "source": [
    "# Import and prepare data\n",
    "\n",
    "data = pd.read_csv('parking-tickets-2018/Parking_Tags_Data_2018_1.csv')\n",
    "df = pd.DataFrame(data)\n",
    "print('Number of rows and cols: ', str(df.shape))"
   ]
  },
  {
   "cell_type": "code",
   "execution_count": 5,
   "metadata": {},
   "outputs": [
    {
     "data": {
      "text/html": [
       "<div>\n",
       "<style scoped>\n",
       "    .dataframe tbody tr th:only-of-type {\n",
       "        vertical-align: middle;\n",
       "    }\n",
       "\n",
       "    .dataframe tbody tr th {\n",
       "        vertical-align: top;\n",
       "    }\n",
       "\n",
       "    .dataframe thead th {\n",
       "        text-align: right;\n",
       "    }\n",
       "</style>\n",
       "<table border=\"1\" class=\"dataframe\">\n",
       "  <thead>\n",
       "    <tr style=\"text-align: right;\">\n",
       "      <th></th>\n",
       "      <th>tag_number_masked</th>\n",
       "      <th>date_of_infraction</th>\n",
       "      <th>infraction_code</th>\n",
       "      <th>infraction_description</th>\n",
       "      <th>set_fine_amount</th>\n",
       "      <th>time_of_infraction</th>\n",
       "      <th>location1</th>\n",
       "      <th>location2</th>\n",
       "      <th>location3</th>\n",
       "      <th>location4</th>\n",
       "      <th>province</th>\n",
       "    </tr>\n",
       "  </thead>\n",
       "  <tbody>\n",
       "    <tr>\n",
       "      <th>0</th>\n",
       "      <td>***92517</td>\n",
       "      <td>20180101</td>\n",
       "      <td>16</td>\n",
       "      <td>PARK-WITHIN 9M INTERSECT ROAD</td>\n",
       "      <td>50</td>\n",
       "      <td>0.0</td>\n",
       "      <td>S/S</td>\n",
       "      <td>PRYOR AVE</td>\n",
       "      <td>E/O</td>\n",
       "      <td>CLOVERDALE RD</td>\n",
       "      <td>ON</td>\n",
       "    </tr>\n",
       "    <tr>\n",
       "      <th>1</th>\n",
       "      <td>***71708</td>\n",
       "      <td>20180101</td>\n",
       "      <td>29</td>\n",
       "      <td>PARK PROHIBITED TIME NO PERMIT</td>\n",
       "      <td>30</td>\n",
       "      <td>2.0</td>\n",
       "      <td>NR</td>\n",
       "      <td>266 DOVERCOURT RD</td>\n",
       "      <td>NaN</td>\n",
       "      <td>NaN</td>\n",
       "      <td>ON</td>\n",
       "    </tr>\n",
       "    <tr>\n",
       "      <th>2</th>\n",
       "      <td>***92311</td>\n",
       "      <td>20180101</td>\n",
       "      <td>29</td>\n",
       "      <td>PARK PROHIBITED TIME NO PERMIT</td>\n",
       "      <td>30</td>\n",
       "      <td>2.0</td>\n",
       "      <td>NR</td>\n",
       "      <td>15 FAIRBANK AVE</td>\n",
       "      <td>NaN</td>\n",
       "      <td>NaN</td>\n",
       "      <td>ON</td>\n",
       "    </tr>\n",
       "    <tr>\n",
       "      <th>3</th>\n",
       "      <td>***92312</td>\n",
       "      <td>20180101</td>\n",
       "      <td>29</td>\n",
       "      <td>PARK PROHIBITED TIME NO PERMIT</td>\n",
       "      <td>30</td>\n",
       "      <td>2.0</td>\n",
       "      <td>NR</td>\n",
       "      <td>15 FAIRBANK AVE</td>\n",
       "      <td>NaN</td>\n",
       "      <td>NaN</td>\n",
       "      <td>ON</td>\n",
       "    </tr>\n",
       "    <tr>\n",
       "      <th>4</th>\n",
       "      <td>***71709</td>\n",
       "      <td>20180101</td>\n",
       "      <td>29</td>\n",
       "      <td>PARK PROHIBITED TIME NO PERMIT</td>\n",
       "      <td>30</td>\n",
       "      <td>3.0</td>\n",
       "      <td>NR</td>\n",
       "      <td>266 DOVERCOURT RD</td>\n",
       "      <td>NaN</td>\n",
       "      <td>NaN</td>\n",
       "      <td>ON</td>\n",
       "    </tr>\n",
       "  </tbody>\n",
       "</table>\n",
       "</div>"
      ],
      "text/plain": [
       "  tag_number_masked  date_of_infraction  infraction_code  \\\n",
       "0          ***92517            20180101               16   \n",
       "1          ***71708            20180101               29   \n",
       "2          ***92311            20180101               29   \n",
       "3          ***92312            20180101               29   \n",
       "4          ***71709            20180101               29   \n",
       "\n",
       "           infraction_description  set_fine_amount  time_of_infraction  \\\n",
       "0   PARK-WITHIN 9M INTERSECT ROAD               50                 0.0   \n",
       "1  PARK PROHIBITED TIME NO PERMIT               30                 2.0   \n",
       "2  PARK PROHIBITED TIME NO PERMIT               30                 2.0   \n",
       "3  PARK PROHIBITED TIME NO PERMIT               30                 2.0   \n",
       "4  PARK PROHIBITED TIME NO PERMIT               30                 3.0   \n",
       "\n",
       "  location1          location2 location3      location4 province  \n",
       "0       S/S          PRYOR AVE       E/O  CLOVERDALE RD       ON  \n",
       "1        NR  266 DOVERCOURT RD       NaN            NaN       ON  \n",
       "2        NR    15 FAIRBANK AVE       NaN            NaN       ON  \n",
       "3        NR    15 FAIRBANK AVE       NaN            NaN       ON  \n",
       "4        NR  266 DOVERCOURT RD       NaN            NaN       ON  "
      ]
     },
     "execution_count": 5,
     "metadata": {},
     "output_type": "execute_result"
    }
   ],
   "source": [
    "df.head()"
   ]
  },
  {
   "cell_type": "code",
   "execution_count": 6,
   "metadata": {},
   "outputs": [
    {
     "data": {
      "text/plain": [
       "tag_number_masked          object\n",
       "date_of_infraction          int64\n",
       "infraction_code             int64\n",
       "infraction_description     object\n",
       "set_fine_amount             int64\n",
       "time_of_infraction        float64\n",
       "location1                  object\n",
       "location2                  object\n",
       "location3                  object\n",
       "location4                  object\n",
       "province                   object\n",
       "dtype: object"
      ]
     },
     "execution_count": 6,
     "metadata": {},
     "output_type": "execute_result"
    }
   ],
   "source": [
    "df.dtypes"
   ]
  },
  {
   "cell_type": "code",
   "execution_count": 134,
   "metadata": {},
   "outputs": [
    {
     "name": "stdout",
     "output_type": "stream",
     "text": [
      "Number of rows and cols:  (750000, 11)\n",
      "tag_number_masked              0\n",
      "date_of_infraction             0\n",
      "infraction_code                0\n",
      "infraction_description         0\n",
      "set_fine_amount                0\n",
      "time_of_infraction           677\n",
      "location1                  70403\n",
      "location2                     90\n",
      "location3                 703627\n",
      "location4                 703387\n",
      "province                       0\n",
      "dtype: int64\n"
     ]
    }
   ],
   "source": [
    "# check for NaN values\n",
    "print('Number of rows and cols: ', str(df.shape))\n",
    "print(df.isna().sum(axis = 0))"
   ]
  },
  {
   "cell_type": "code",
   "execution_count": 127,
   "metadata": {},
   "outputs": [
    {
     "name": "stdout",
     "output_type": "stream",
     "text": [
      "['ON' 'QC' 'MI' 'AZ' 'VT' 'AB' 'NM' 'NY' 'WV' 'NJ' 'PA' 'BC' 'PQ' 'IL'\n",
      " 'OH' 'NS' 'SK' 'XX' 'FL' 'MB' 'MN' 'VA' 'TX' 'OR' 'MD' 'NB' 'GA' 'CA'\n",
      " 'MA' 'NC' 'CO' 'PE' 'IN' 'NF' 'IA' 'CT' 'WI' 'WA' 'NH' 'RI' 'AL' 'MO'\n",
      " 'KY' 'LA' 'ME' 'OK' 'AR' 'SD' 'NV' 'TN' 'SC' 'NT' 'NE' 'MS' 'DC' 'ID'\n",
      " 'MT' 'KS' 'NU' 'UT' 'YT' 'DE' 'GO' 'AK' 'ND' 'HI']\n",
      "province\n",
      "ON    726528\n",
      "QC      7608\n",
      "AB      2498\n",
      "AZ      1605\n",
      "NY      1584\n",
      "Name: tag_number_masked, dtype: int64\n"
     ]
    }
   ],
   "source": [
    "# check if there are records from other provinces \n",
    "print(df['province'].unique())\n",
    "print(df.groupby(['province']).tag_number_masked.count().nlargest(5))"
   ]
  },
  {
   "cell_type": "markdown",
   "metadata": {},
   "source": [
    "- Looks like <b>location2</b> has the physical address.\n",
    "- When physical address is occationally not available, the combination of <b>location2</b> and <b>location3</b> gives the main intersection.\n",
    "- There are records occurred outsides of Ontario shown in <b>province</b>.\n",
    "\n",
    "After spot checking the addresses shown in <b>province</b> outside of Ontario, the addresses do exist in Toronto. The provinces shown other than Ontario are likely an encoding or system error. "
   ]
  },
  {
   "cell_type": "code",
   "execution_count": 107,
   "metadata": {},
   "outputs": [
    {
     "data": {
      "text/html": [
       "<div>\n",
       "<style scoped>\n",
       "    .dataframe tbody tr th:only-of-type {\n",
       "        vertical-align: middle;\n",
       "    }\n",
       "\n",
       "    .dataframe tbody tr th {\n",
       "        vertical-align: top;\n",
       "    }\n",
       "\n",
       "    .dataframe thead th {\n",
       "        text-align: right;\n",
       "    }\n",
       "</style>\n",
       "<table border=\"1\" class=\"dataframe\">\n",
       "  <thead>\n",
       "    <tr style=\"text-align: right;\">\n",
       "      <th></th>\n",
       "      <th>tag_number_masked</th>\n",
       "      <th>date_of_infraction</th>\n",
       "      <th>infraction_code</th>\n",
       "      <th>infraction_description</th>\n",
       "      <th>set_fine_amount</th>\n",
       "      <th>time_of_infraction</th>\n",
       "      <th>location1</th>\n",
       "      <th>location2</th>\n",
       "      <th>location3</th>\n",
       "      <th>location4</th>\n",
       "      <th>province</th>\n",
       "      <th>infraction_yr</th>\n",
       "      <th>infraction_mth</th>\n",
       "      <th>infraction_date</th>\n",
       "    </tr>\n",
       "  </thead>\n",
       "  <tbody>\n",
       "    <tr>\n",
       "      <th>749995</th>\n",
       "      <td>***36033</td>\n",
       "      <td>20180517</td>\n",
       "      <td>207</td>\n",
       "      <td>PARK MACHINE-REQD FEE NOT PAID</td>\n",
       "      <td>30</td>\n",
       "      <td>1237.0</td>\n",
       "      <td>NR</td>\n",
       "      <td>37 ELM ST</td>\n",
       "      <td>NaN</td>\n",
       "      <td>NaN</td>\n",
       "      <td>ON</td>\n",
       "      <td>2018</td>\n",
       "      <td>05</td>\n",
       "      <td>17</td>\n",
       "    </tr>\n",
       "    <tr>\n",
       "      <th>749996</th>\n",
       "      <td>***52274</td>\n",
       "      <td>20180517</td>\n",
       "      <td>3</td>\n",
       "      <td>PARK ON PRIVATE PROPERTY</td>\n",
       "      <td>30</td>\n",
       "      <td>1237.0</td>\n",
       "      <td>AT</td>\n",
       "      <td>33 DAVISVILLE AVE</td>\n",
       "      <td>NaN</td>\n",
       "      <td>NaN</td>\n",
       "      <td>ON</td>\n",
       "      <td>2018</td>\n",
       "      <td>05</td>\n",
       "      <td>17</td>\n",
       "    </tr>\n",
       "    <tr>\n",
       "      <th>749997</th>\n",
       "      <td>***53832</td>\n",
       "      <td>20180517</td>\n",
       "      <td>5</td>\n",
       "      <td>PARK-SIGNED HWY-PROHIBIT DY/TM</td>\n",
       "      <td>50</td>\n",
       "      <td>1237.0</td>\n",
       "      <td>OPP</td>\n",
       "      <td>188 MC CAUL ST</td>\n",
       "      <td>NaN</td>\n",
       "      <td>NaN</td>\n",
       "      <td>ON</td>\n",
       "      <td>2018</td>\n",
       "      <td>05</td>\n",
       "      <td>17</td>\n",
       "    </tr>\n",
       "    <tr>\n",
       "      <th>749998</th>\n",
       "      <td>***56548</td>\n",
       "      <td>20180517</td>\n",
       "      <td>9</td>\n",
       "      <td>STOP-SIGNED HWY-PROHIBIT TM/DY</td>\n",
       "      <td>60</td>\n",
       "      <td>1237.0</td>\n",
       "      <td>NR</td>\n",
       "      <td>124 AVENUE RD</td>\n",
       "      <td>NaN</td>\n",
       "      <td>NaN</td>\n",
       "      <td>ON</td>\n",
       "      <td>2018</td>\n",
       "      <td>05</td>\n",
       "      <td>17</td>\n",
       "    </tr>\n",
       "    <tr>\n",
       "      <th>749999</th>\n",
       "      <td>***59300</td>\n",
       "      <td>20180517</td>\n",
       "      <td>29</td>\n",
       "      <td>PARK PROHIBITED TIME NO PERMIT</td>\n",
       "      <td>30</td>\n",
       "      <td>1237.0</td>\n",
       "      <td>NR</td>\n",
       "      <td>508 MARKHAM ST</td>\n",
       "      <td>NaN</td>\n",
       "      <td>NaN</td>\n",
       "      <td>ON</td>\n",
       "      <td>2018</td>\n",
       "      <td>05</td>\n",
       "      <td>17</td>\n",
       "    </tr>\n",
       "  </tbody>\n",
       "</table>\n",
       "</div>"
      ],
      "text/plain": [
       "       tag_number_masked  date_of_infraction  infraction_code  \\\n",
       "749995          ***36033            20180517              207   \n",
       "749996          ***52274            20180517                3   \n",
       "749997          ***53832            20180517                5   \n",
       "749998          ***56548            20180517                9   \n",
       "749999          ***59300            20180517               29   \n",
       "\n",
       "                infraction_description  set_fine_amount  time_of_infraction  \\\n",
       "749995  PARK MACHINE-REQD FEE NOT PAID               30              1237.0   \n",
       "749996        PARK ON PRIVATE PROPERTY               30              1237.0   \n",
       "749997  PARK-SIGNED HWY-PROHIBIT DY/TM               50              1237.0   \n",
       "749998  STOP-SIGNED HWY-PROHIBIT TM/DY               60              1237.0   \n",
       "749999  PARK PROHIBITED TIME NO PERMIT               30              1237.0   \n",
       "\n",
       "       location1          location2 location3 location4 province  \\\n",
       "749995        NR          37 ELM ST       NaN       NaN       ON   \n",
       "749996        AT  33 DAVISVILLE AVE       NaN       NaN       ON   \n",
       "749997       OPP     188 MC CAUL ST       NaN       NaN       ON   \n",
       "749998        NR      124 AVENUE RD       NaN       NaN       ON   \n",
       "749999        NR     508 MARKHAM ST       NaN       NaN       ON   \n",
       "\n",
       "       infraction_yr infraction_mth infraction_date  \n",
       "749995          2018             05              17  \n",
       "749996          2018             05              17  \n",
       "749997          2018             05              17  \n",
       "749998          2018             05              17  \n",
       "749999          2018             05              17  "
      ]
     },
     "execution_count": 107,
     "metadata": {},
     "output_type": "execute_result"
    }
   ],
   "source": [
    "# extract year, month, date in their own column\n",
    "df['infraction_yr'] = df.date_of_infraction.astype(str).str[:4]\n",
    "df['infraction_mth'] = df.date_of_infraction.astype(str).str[4:6]\n",
    "df['infraction_date'] = df.date_of_infraction.astype(str).str[6:8]\n",
    "df.tail()"
   ]
  },
  {
   "cell_type": "markdown",
   "metadata": {},
   "source": [
    "### Preminary Analysis ###"
   ]
  },
  {
   "cell_type": "code",
   "execution_count": 9,
   "metadata": {},
   "outputs": [
    {
     "data": {
      "text/html": [
       "<div>\n",
       "<style scoped>\n",
       "    .dataframe tbody tr th:only-of-type {\n",
       "        vertical-align: middle;\n",
       "    }\n",
       "\n",
       "    .dataframe tbody tr th {\n",
       "        vertical-align: top;\n",
       "    }\n",
       "\n",
       "    .dataframe thead th {\n",
       "        text-align: right;\n",
       "    }\n",
       "</style>\n",
       "<table border=\"1\" class=\"dataframe\">\n",
       "  <thead>\n",
       "    <tr style=\"text-align: right;\">\n",
       "      <th></th>\n",
       "      <th>infraction_yr</th>\n",
       "      <th>infraction_mth</th>\n",
       "      <th>infraction_date</th>\n",
       "      <th>tag_number_masked</th>\n",
       "      <th>infraction_ymd</th>\n",
       "    </tr>\n",
       "  </thead>\n",
       "  <tbody>\n",
       "    <tr>\n",
       "      <th>0</th>\n",
       "      <td>2018</td>\n",
       "      <td>01</td>\n",
       "      <td>01</td>\n",
       "      <td>1269</td>\n",
       "      <td>2018-01-01</td>\n",
       "    </tr>\n",
       "    <tr>\n",
       "      <th>1</th>\n",
       "      <td>2018</td>\n",
       "      <td>01</td>\n",
       "      <td>02</td>\n",
       "      <td>5489</td>\n",
       "      <td>2018-01-02</td>\n",
       "    </tr>\n",
       "    <tr>\n",
       "      <th>2</th>\n",
       "      <td>2018</td>\n",
       "      <td>01</td>\n",
       "      <td>03</td>\n",
       "      <td>5104</td>\n",
       "      <td>2018-01-03</td>\n",
       "    </tr>\n",
       "    <tr>\n",
       "      <th>3</th>\n",
       "      <td>2018</td>\n",
       "      <td>01</td>\n",
       "      <td>04</td>\n",
       "      <td>5002</td>\n",
       "      <td>2018-01-04</td>\n",
       "    </tr>\n",
       "    <tr>\n",
       "      <th>4</th>\n",
       "      <td>2018</td>\n",
       "      <td>01</td>\n",
       "      <td>05</td>\n",
       "      <td>4177</td>\n",
       "      <td>2018-01-05</td>\n",
       "    </tr>\n",
       "  </tbody>\n",
       "</table>\n",
       "</div>"
      ],
      "text/plain": [
       "  infraction_yr infraction_mth infraction_date  tag_number_masked  \\\n",
       "0          2018             01              01               1269   \n",
       "1          2018             01              02               5489   \n",
       "2          2018             01              03               5104   \n",
       "3          2018             01              04               5002   \n",
       "4          2018             01              05               4177   \n",
       "\n",
       "  infraction_ymd  \n",
       "0     2018-01-01  \n",
       "1     2018-01-02  \n",
       "2     2018-01-03  \n",
       "3     2018-01-04  \n",
       "4     2018-01-05  "
      ]
     },
     "execution_count": 9,
     "metadata": {},
     "output_type": "execute_result"
    }
   ],
   "source": [
    "daily_infraction_df = pd.DataFrame(df.groupby(['infraction_yr','infraction_mth', 'infraction_date']).tag_number_masked.count())\n",
    "daily_infraction_df = daily_infraction_df.reset_index()\n",
    "daily_infraction_df['infraction_ymd'] = daily_infraction_df['infraction_yr'].map(str) + '-' + daily_infraction_df['infraction_mth'].map(str) + '-' + daily_infraction_df['infraction_date'].map(str)\n",
    "daily_infraction_df.head()"
   ]
  },
  {
   "cell_type": "code",
   "execution_count": 135,
   "metadata": {},
   "outputs": [
    {
     "data": {
      "application/vnd.plotly.v1+json": {
       "config": {
        "plotlyServerURL": "https://plot.ly"
       },
       "data": [
        {
         "hovertemplate": "infraction_ymd=%{x}<br>tag_number_masked=%{y}<extra></extra>",
         "legendgroup": "",
         "line": {
          "color": "#636efa",
          "dash": "solid"
         },
         "mode": "lines",
         "name": "",
         "orientation": "v",
         "showlegend": false,
         "type": "scatter",
         "x": [
          "2018-01-01",
          "2018-01-02",
          "2018-01-03",
          "2018-01-04",
          "2018-01-05",
          "2018-01-06",
          "2018-01-07",
          "2018-01-08",
          "2018-01-09",
          "2018-01-10",
          "2018-01-11",
          "2018-01-12",
          "2018-01-13",
          "2018-01-14",
          "2018-01-15",
          "2018-01-16",
          "2018-01-17",
          "2018-01-18",
          "2018-01-19",
          "2018-01-20",
          "2018-01-21",
          "2018-01-22",
          "2018-01-23",
          "2018-01-24",
          "2018-01-25",
          "2018-01-26",
          "2018-01-27",
          "2018-01-28",
          "2018-01-29",
          "2018-01-30",
          "2018-01-31",
          "2018-02-01",
          "2018-02-02",
          "2018-02-03",
          "2018-02-04",
          "2018-02-05",
          "2018-02-06",
          "2018-02-07",
          "2018-02-08",
          "2018-02-09",
          "2018-02-10",
          "2018-02-11",
          "2018-02-12",
          "2018-02-13",
          "2018-02-14",
          "2018-02-15",
          "2018-02-16",
          "2018-02-17",
          "2018-02-18",
          "2018-02-19",
          "2018-02-20",
          "2018-02-21",
          "2018-02-22",
          "2018-02-23",
          "2018-02-24",
          "2018-02-25",
          "2018-02-26",
          "2018-02-27",
          "2018-02-28",
          "2018-03-01",
          "2018-03-02",
          "2018-03-03",
          "2018-03-04",
          "2018-03-05",
          "2018-03-06",
          "2018-03-07",
          "2018-03-08",
          "2018-03-09",
          "2018-03-10",
          "2018-03-11",
          "2018-03-12",
          "2018-03-13",
          "2018-03-14",
          "2018-03-15",
          "2018-03-16",
          "2018-03-17",
          "2018-03-18",
          "2018-03-19",
          "2018-03-20",
          "2018-03-21",
          "2018-03-22",
          "2018-03-23",
          "2018-03-24",
          "2018-03-25",
          "2018-03-26",
          "2018-03-27",
          "2018-03-28",
          "2018-03-29",
          "2018-03-30",
          "2018-03-31",
          "2018-04-01",
          "2018-04-02",
          "2018-04-03",
          "2018-04-04",
          "2018-04-05",
          "2018-04-06",
          "2018-04-07",
          "2018-04-08",
          "2018-04-09",
          "2018-04-10",
          "2018-04-11",
          "2018-04-12",
          "2018-04-13",
          "2018-04-14",
          "2018-04-15",
          "2018-04-16",
          "2018-04-17",
          "2018-04-18",
          "2018-04-19",
          "2018-04-20",
          "2018-04-21",
          "2018-04-22",
          "2018-04-23",
          "2018-04-24",
          "2018-04-25",
          "2018-04-26",
          "2018-04-27",
          "2018-04-28",
          "2018-04-29",
          "2018-04-30",
          "2018-05-01",
          "2018-05-02",
          "2018-05-03",
          "2018-05-04",
          "2018-05-05",
          "2018-05-06",
          "2018-05-07",
          "2018-05-08",
          "2018-05-09",
          "2018-05-10",
          "2018-05-11",
          "2018-05-12",
          "2018-05-13",
          "2018-05-14",
          "2018-05-15",
          "2018-05-16",
          "2018-05-17"
         ],
         "xaxis": "x",
         "y": [
          1269,
          5489,
          5104,
          5002,
          4177,
          2831,
          3039,
          4424,
          6101,
          5849,
          5501,
          5048,
          3702,
          3541,
          5171,
          4978,
          5550,
          5991,
          6506,
          5217,
          3711,
          5429,
          6671,
          5892,
          6500,
          6916,
          6130,
          4330,
          5083,
          4571,
          4902,
          5770,
          5422,
          4656,
          2750,
          4742,
          5897,
          3786,
          5614,
          4842,
          3866,
          3257,
          5235,
          5893,
          6242,
          5867,
          6139,
          5606,
          4611,
          2647,
          5698,
          5761,
          6296,
          6456,
          5745,
          4040,
          6306,
          6325,
          6569,
          6460,
          5877,
          6377,
          5013,
          6113,
          6222,
          6177,
          6340,
          6624,
          5580,
          4357,
          6275,
          5654,
          5984,
          6308,
          5881,
          5908,
          4989,
          5755,
          6887,
          6565,
          6375,
          6708,
          5878,
          5002,
          6266,
          6145,
          6354,
          5532,
          2551,
          5195,
          2389,
          2775,
          6399,
          6014,
          7151,
          6569,
          5897,
          4858,
          6708,
          6943,
          6327,
          5816,
          6451,
          3340,
          1448,
          3250,
          5563,
          6834,
          6330,
          7319,
          5777,
          4356,
          6380,
          7043,
          6008,
          6571,
          5908,
          5516,
          3516,
          6370,
          7717,
          6704,
          6329,
          6461,
          4419,
          3638,
          6772,
          6964,
          7000,
          6724,
          6570,
          5474,
          4144,
          6024,
          6178,
          7544,
          3497
         ],
         "yaxis": "y"
        }
       ],
       "layout": {
        "legend": {
         "tracegroupgap": 0
        },
        "template": {
         "data": {
          "bar": [
           {
            "error_x": {
             "color": "#2a3f5f"
            },
            "error_y": {
             "color": "#2a3f5f"
            },
            "marker": {
             "line": {
              "color": "#E5ECF6",
              "width": 0.5
             }
            },
            "type": "bar"
           }
          ],
          "barpolar": [
           {
            "marker": {
             "line": {
              "color": "#E5ECF6",
              "width": 0.5
             }
            },
            "type": "barpolar"
           }
          ],
          "carpet": [
           {
            "aaxis": {
             "endlinecolor": "#2a3f5f",
             "gridcolor": "white",
             "linecolor": "white",
             "minorgridcolor": "white",
             "startlinecolor": "#2a3f5f"
            },
            "baxis": {
             "endlinecolor": "#2a3f5f",
             "gridcolor": "white",
             "linecolor": "white",
             "minorgridcolor": "white",
             "startlinecolor": "#2a3f5f"
            },
            "type": "carpet"
           }
          ],
          "choropleth": [
           {
            "colorbar": {
             "outlinewidth": 0,
             "ticks": ""
            },
            "type": "choropleth"
           }
          ],
          "contour": [
           {
            "colorbar": {
             "outlinewidth": 0,
             "ticks": ""
            },
            "colorscale": [
             [
              0,
              "#0d0887"
             ],
             [
              0.1111111111111111,
              "#46039f"
             ],
             [
              0.2222222222222222,
              "#7201a8"
             ],
             [
              0.3333333333333333,
              "#9c179e"
             ],
             [
              0.4444444444444444,
              "#bd3786"
             ],
             [
              0.5555555555555556,
              "#d8576b"
             ],
             [
              0.6666666666666666,
              "#ed7953"
             ],
             [
              0.7777777777777778,
              "#fb9f3a"
             ],
             [
              0.8888888888888888,
              "#fdca26"
             ],
             [
              1,
              "#f0f921"
             ]
            ],
            "type": "contour"
           }
          ],
          "contourcarpet": [
           {
            "colorbar": {
             "outlinewidth": 0,
             "ticks": ""
            },
            "type": "contourcarpet"
           }
          ],
          "heatmap": [
           {
            "colorbar": {
             "outlinewidth": 0,
             "ticks": ""
            },
            "colorscale": [
             [
              0,
              "#0d0887"
             ],
             [
              0.1111111111111111,
              "#46039f"
             ],
             [
              0.2222222222222222,
              "#7201a8"
             ],
             [
              0.3333333333333333,
              "#9c179e"
             ],
             [
              0.4444444444444444,
              "#bd3786"
             ],
             [
              0.5555555555555556,
              "#d8576b"
             ],
             [
              0.6666666666666666,
              "#ed7953"
             ],
             [
              0.7777777777777778,
              "#fb9f3a"
             ],
             [
              0.8888888888888888,
              "#fdca26"
             ],
             [
              1,
              "#f0f921"
             ]
            ],
            "type": "heatmap"
           }
          ],
          "heatmapgl": [
           {
            "colorbar": {
             "outlinewidth": 0,
             "ticks": ""
            },
            "colorscale": [
             [
              0,
              "#0d0887"
             ],
             [
              0.1111111111111111,
              "#46039f"
             ],
             [
              0.2222222222222222,
              "#7201a8"
             ],
             [
              0.3333333333333333,
              "#9c179e"
             ],
             [
              0.4444444444444444,
              "#bd3786"
             ],
             [
              0.5555555555555556,
              "#d8576b"
             ],
             [
              0.6666666666666666,
              "#ed7953"
             ],
             [
              0.7777777777777778,
              "#fb9f3a"
             ],
             [
              0.8888888888888888,
              "#fdca26"
             ],
             [
              1,
              "#f0f921"
             ]
            ],
            "type": "heatmapgl"
           }
          ],
          "histogram": [
           {
            "marker": {
             "colorbar": {
              "outlinewidth": 0,
              "ticks": ""
             }
            },
            "type": "histogram"
           }
          ],
          "histogram2d": [
           {
            "colorbar": {
             "outlinewidth": 0,
             "ticks": ""
            },
            "colorscale": [
             [
              0,
              "#0d0887"
             ],
             [
              0.1111111111111111,
              "#46039f"
             ],
             [
              0.2222222222222222,
              "#7201a8"
             ],
             [
              0.3333333333333333,
              "#9c179e"
             ],
             [
              0.4444444444444444,
              "#bd3786"
             ],
             [
              0.5555555555555556,
              "#d8576b"
             ],
             [
              0.6666666666666666,
              "#ed7953"
             ],
             [
              0.7777777777777778,
              "#fb9f3a"
             ],
             [
              0.8888888888888888,
              "#fdca26"
             ],
             [
              1,
              "#f0f921"
             ]
            ],
            "type": "histogram2d"
           }
          ],
          "histogram2dcontour": [
           {
            "colorbar": {
             "outlinewidth": 0,
             "ticks": ""
            },
            "colorscale": [
             [
              0,
              "#0d0887"
             ],
             [
              0.1111111111111111,
              "#46039f"
             ],
             [
              0.2222222222222222,
              "#7201a8"
             ],
             [
              0.3333333333333333,
              "#9c179e"
             ],
             [
              0.4444444444444444,
              "#bd3786"
             ],
             [
              0.5555555555555556,
              "#d8576b"
             ],
             [
              0.6666666666666666,
              "#ed7953"
             ],
             [
              0.7777777777777778,
              "#fb9f3a"
             ],
             [
              0.8888888888888888,
              "#fdca26"
             ],
             [
              1,
              "#f0f921"
             ]
            ],
            "type": "histogram2dcontour"
           }
          ],
          "mesh3d": [
           {
            "colorbar": {
             "outlinewidth": 0,
             "ticks": ""
            },
            "type": "mesh3d"
           }
          ],
          "parcoords": [
           {
            "line": {
             "colorbar": {
              "outlinewidth": 0,
              "ticks": ""
             }
            },
            "type": "parcoords"
           }
          ],
          "pie": [
           {
            "automargin": true,
            "type": "pie"
           }
          ],
          "scatter": [
           {
            "marker": {
             "colorbar": {
              "outlinewidth": 0,
              "ticks": ""
             }
            },
            "type": "scatter"
           }
          ],
          "scatter3d": [
           {
            "line": {
             "colorbar": {
              "outlinewidth": 0,
              "ticks": ""
             }
            },
            "marker": {
             "colorbar": {
              "outlinewidth": 0,
              "ticks": ""
             }
            },
            "type": "scatter3d"
           }
          ],
          "scattercarpet": [
           {
            "marker": {
             "colorbar": {
              "outlinewidth": 0,
              "ticks": ""
             }
            },
            "type": "scattercarpet"
           }
          ],
          "scattergeo": [
           {
            "marker": {
             "colorbar": {
              "outlinewidth": 0,
              "ticks": ""
             }
            },
            "type": "scattergeo"
           }
          ],
          "scattergl": [
           {
            "marker": {
             "colorbar": {
              "outlinewidth": 0,
              "ticks": ""
             }
            },
            "type": "scattergl"
           }
          ],
          "scattermapbox": [
           {
            "marker": {
             "colorbar": {
              "outlinewidth": 0,
              "ticks": ""
             }
            },
            "type": "scattermapbox"
           }
          ],
          "scatterpolar": [
           {
            "marker": {
             "colorbar": {
              "outlinewidth": 0,
              "ticks": ""
             }
            },
            "type": "scatterpolar"
           }
          ],
          "scatterpolargl": [
           {
            "marker": {
             "colorbar": {
              "outlinewidth": 0,
              "ticks": ""
             }
            },
            "type": "scatterpolargl"
           }
          ],
          "scatterternary": [
           {
            "marker": {
             "colorbar": {
              "outlinewidth": 0,
              "ticks": ""
             }
            },
            "type": "scatterternary"
           }
          ],
          "surface": [
           {
            "colorbar": {
             "outlinewidth": 0,
             "ticks": ""
            },
            "colorscale": [
             [
              0,
              "#0d0887"
             ],
             [
              0.1111111111111111,
              "#46039f"
             ],
             [
              0.2222222222222222,
              "#7201a8"
             ],
             [
              0.3333333333333333,
              "#9c179e"
             ],
             [
              0.4444444444444444,
              "#bd3786"
             ],
             [
              0.5555555555555556,
              "#d8576b"
             ],
             [
              0.6666666666666666,
              "#ed7953"
             ],
             [
              0.7777777777777778,
              "#fb9f3a"
             ],
             [
              0.8888888888888888,
              "#fdca26"
             ],
             [
              1,
              "#f0f921"
             ]
            ],
            "type": "surface"
           }
          ],
          "table": [
           {
            "cells": {
             "fill": {
              "color": "#EBF0F8"
             },
             "line": {
              "color": "white"
             }
            },
            "header": {
             "fill": {
              "color": "#C8D4E3"
             },
             "line": {
              "color": "white"
             }
            },
            "type": "table"
           }
          ]
         },
         "layout": {
          "annotationdefaults": {
           "arrowcolor": "#2a3f5f",
           "arrowhead": 0,
           "arrowwidth": 1
          },
          "coloraxis": {
           "colorbar": {
            "outlinewidth": 0,
            "ticks": ""
           }
          },
          "colorscale": {
           "diverging": [
            [
             0,
             "#8e0152"
            ],
            [
             0.1,
             "#c51b7d"
            ],
            [
             0.2,
             "#de77ae"
            ],
            [
             0.3,
             "#f1b6da"
            ],
            [
             0.4,
             "#fde0ef"
            ],
            [
             0.5,
             "#f7f7f7"
            ],
            [
             0.6,
             "#e6f5d0"
            ],
            [
             0.7,
             "#b8e186"
            ],
            [
             0.8,
             "#7fbc41"
            ],
            [
             0.9,
             "#4d9221"
            ],
            [
             1,
             "#276419"
            ]
           ],
           "sequential": [
            [
             0,
             "#0d0887"
            ],
            [
             0.1111111111111111,
             "#46039f"
            ],
            [
             0.2222222222222222,
             "#7201a8"
            ],
            [
             0.3333333333333333,
             "#9c179e"
            ],
            [
             0.4444444444444444,
             "#bd3786"
            ],
            [
             0.5555555555555556,
             "#d8576b"
            ],
            [
             0.6666666666666666,
             "#ed7953"
            ],
            [
             0.7777777777777778,
             "#fb9f3a"
            ],
            [
             0.8888888888888888,
             "#fdca26"
            ],
            [
             1,
             "#f0f921"
            ]
           ],
           "sequentialminus": [
            [
             0,
             "#0d0887"
            ],
            [
             0.1111111111111111,
             "#46039f"
            ],
            [
             0.2222222222222222,
             "#7201a8"
            ],
            [
             0.3333333333333333,
             "#9c179e"
            ],
            [
             0.4444444444444444,
             "#bd3786"
            ],
            [
             0.5555555555555556,
             "#d8576b"
            ],
            [
             0.6666666666666666,
             "#ed7953"
            ],
            [
             0.7777777777777778,
             "#fb9f3a"
            ],
            [
             0.8888888888888888,
             "#fdca26"
            ],
            [
             1,
             "#f0f921"
            ]
           ]
          },
          "colorway": [
           "#636efa",
           "#EF553B",
           "#00cc96",
           "#ab63fa",
           "#FFA15A",
           "#19d3f3",
           "#FF6692",
           "#B6E880",
           "#FF97FF",
           "#FECB52"
          ],
          "font": {
           "color": "#2a3f5f"
          },
          "geo": {
           "bgcolor": "white",
           "lakecolor": "white",
           "landcolor": "#E5ECF6",
           "showlakes": true,
           "showland": true,
           "subunitcolor": "white"
          },
          "hoverlabel": {
           "align": "left"
          },
          "hovermode": "closest",
          "mapbox": {
           "style": "light"
          },
          "paper_bgcolor": "white",
          "plot_bgcolor": "#E5ECF6",
          "polar": {
           "angularaxis": {
            "gridcolor": "white",
            "linecolor": "white",
            "ticks": ""
           },
           "bgcolor": "#E5ECF6",
           "radialaxis": {
            "gridcolor": "white",
            "linecolor": "white",
            "ticks": ""
           }
          },
          "scene": {
           "xaxis": {
            "backgroundcolor": "#E5ECF6",
            "gridcolor": "white",
            "gridwidth": 2,
            "linecolor": "white",
            "showbackground": true,
            "ticks": "",
            "zerolinecolor": "white"
           },
           "yaxis": {
            "backgroundcolor": "#E5ECF6",
            "gridcolor": "white",
            "gridwidth": 2,
            "linecolor": "white",
            "showbackground": true,
            "ticks": "",
            "zerolinecolor": "white"
           },
           "zaxis": {
            "backgroundcolor": "#E5ECF6",
            "gridcolor": "white",
            "gridwidth": 2,
            "linecolor": "white",
            "showbackground": true,
            "ticks": "",
            "zerolinecolor": "white"
           }
          },
          "shapedefaults": {
           "line": {
            "color": "#2a3f5f"
           }
          },
          "ternary": {
           "aaxis": {
            "gridcolor": "white",
            "linecolor": "white",
            "ticks": ""
           },
           "baxis": {
            "gridcolor": "white",
            "linecolor": "white",
            "ticks": ""
           },
           "bgcolor": "#E5ECF6",
           "caxis": {
            "gridcolor": "white",
            "linecolor": "white",
            "ticks": ""
           }
          },
          "title": {
           "x": 0.05
          },
          "xaxis": {
           "automargin": true,
           "gridcolor": "white",
           "linecolor": "white",
           "ticks": "",
           "title": {
            "standoff": 15
           },
           "zerolinecolor": "white",
           "zerolinewidth": 2
          },
          "yaxis": {
           "automargin": true,
           "gridcolor": "white",
           "linecolor": "white",
           "ticks": "",
           "title": {
            "standoff": 15
           },
           "zerolinecolor": "white",
           "zerolinewidth": 2
          }
         }
        },
        "title": {
         "text": "Number of Infractions Per Day"
        },
        "xaxis": {
         "anchor": "y",
         "domain": [
          0,
          1
         ],
         "title": {
          "text": "infraction_ymd"
         }
        },
        "yaxis": {
         "anchor": "x",
         "domain": [
          0,
          1
         ],
         "title": {
          "text": "tag_number_masked"
         }
        }
       }
      },
      "text/html": [
       "<div>                            <div id=\"949cc978-0478-4c8c-9404-a395773a24b8\" class=\"plotly-graph-div\" style=\"height:525px; width:100%;\"></div>            <script type=\"text/javascript\">                require([\"plotly\"], function(Plotly) {                    window.PLOTLYENV=window.PLOTLYENV || {};                                    if (document.getElementById(\"949cc978-0478-4c8c-9404-a395773a24b8\")) {                    Plotly.newPlot(                        \"949cc978-0478-4c8c-9404-a395773a24b8\",                        [{\"hovertemplate\": \"infraction_ymd=%{x}<br>tag_number_masked=%{y}<extra></extra>\", \"legendgroup\": \"\", \"line\": {\"color\": \"#636efa\", \"dash\": \"solid\"}, \"mode\": \"lines\", \"name\": \"\", \"orientation\": \"v\", \"showlegend\": false, \"type\": \"scatter\", \"x\": [\"2018-01-01\", \"2018-01-02\", \"2018-01-03\", \"2018-01-04\", \"2018-01-05\", \"2018-01-06\", \"2018-01-07\", \"2018-01-08\", \"2018-01-09\", \"2018-01-10\", \"2018-01-11\", \"2018-01-12\", \"2018-01-13\", \"2018-01-14\", \"2018-01-15\", \"2018-01-16\", \"2018-01-17\", \"2018-01-18\", \"2018-01-19\", \"2018-01-20\", \"2018-01-21\", \"2018-01-22\", \"2018-01-23\", \"2018-01-24\", \"2018-01-25\", \"2018-01-26\", \"2018-01-27\", \"2018-01-28\", \"2018-01-29\", \"2018-01-30\", \"2018-01-31\", \"2018-02-01\", \"2018-02-02\", \"2018-02-03\", \"2018-02-04\", \"2018-02-05\", \"2018-02-06\", \"2018-02-07\", \"2018-02-08\", \"2018-02-09\", \"2018-02-10\", \"2018-02-11\", \"2018-02-12\", \"2018-02-13\", \"2018-02-14\", \"2018-02-15\", \"2018-02-16\", \"2018-02-17\", \"2018-02-18\", \"2018-02-19\", \"2018-02-20\", \"2018-02-21\", \"2018-02-22\", \"2018-02-23\", \"2018-02-24\", \"2018-02-25\", \"2018-02-26\", \"2018-02-27\", \"2018-02-28\", \"2018-03-01\", \"2018-03-02\", \"2018-03-03\", \"2018-03-04\", \"2018-03-05\", \"2018-03-06\", \"2018-03-07\", \"2018-03-08\", \"2018-03-09\", \"2018-03-10\", \"2018-03-11\", \"2018-03-12\", \"2018-03-13\", \"2018-03-14\", \"2018-03-15\", \"2018-03-16\", \"2018-03-17\", \"2018-03-18\", \"2018-03-19\", \"2018-03-20\", \"2018-03-21\", \"2018-03-22\", \"2018-03-23\", \"2018-03-24\", \"2018-03-25\", \"2018-03-26\", \"2018-03-27\", \"2018-03-28\", \"2018-03-29\", \"2018-03-30\", \"2018-03-31\", \"2018-04-01\", \"2018-04-02\", \"2018-04-03\", \"2018-04-04\", \"2018-04-05\", \"2018-04-06\", \"2018-04-07\", \"2018-04-08\", \"2018-04-09\", \"2018-04-10\", \"2018-04-11\", \"2018-04-12\", \"2018-04-13\", \"2018-04-14\", \"2018-04-15\", \"2018-04-16\", \"2018-04-17\", \"2018-04-18\", \"2018-04-19\", \"2018-04-20\", \"2018-04-21\", \"2018-04-22\", \"2018-04-23\", \"2018-04-24\", \"2018-04-25\", \"2018-04-26\", \"2018-04-27\", \"2018-04-28\", \"2018-04-29\", \"2018-04-30\", \"2018-05-01\", \"2018-05-02\", \"2018-05-03\", \"2018-05-04\", \"2018-05-05\", \"2018-05-06\", \"2018-05-07\", \"2018-05-08\", \"2018-05-09\", \"2018-05-10\", \"2018-05-11\", \"2018-05-12\", \"2018-05-13\", \"2018-05-14\", \"2018-05-15\", \"2018-05-16\", \"2018-05-17\"], \"xaxis\": \"x\", \"y\": [1269, 5489, 5104, 5002, 4177, 2831, 3039, 4424, 6101, 5849, 5501, 5048, 3702, 3541, 5171, 4978, 5550, 5991, 6506, 5217, 3711, 5429, 6671, 5892, 6500, 6916, 6130, 4330, 5083, 4571, 4902, 5770, 5422, 4656, 2750, 4742, 5897, 3786, 5614, 4842, 3866, 3257, 5235, 5893, 6242, 5867, 6139, 5606, 4611, 2647, 5698, 5761, 6296, 6456, 5745, 4040, 6306, 6325, 6569, 6460, 5877, 6377, 5013, 6113, 6222, 6177, 6340, 6624, 5580, 4357, 6275, 5654, 5984, 6308, 5881, 5908, 4989, 5755, 6887, 6565, 6375, 6708, 5878, 5002, 6266, 6145, 6354, 5532, 2551, 5195, 2389, 2775, 6399, 6014, 7151, 6569, 5897, 4858, 6708, 6943, 6327, 5816, 6451, 3340, 1448, 3250, 5563, 6834, 6330, 7319, 5777, 4356, 6380, 7043, 6008, 6571, 5908, 5516, 3516, 6370, 7717, 6704, 6329, 6461, 4419, 3638, 6772, 6964, 7000, 6724, 6570, 5474, 4144, 6024, 6178, 7544, 3497], \"yaxis\": \"y\"}],                        {\"legend\": {\"tracegroupgap\": 0}, \"template\": {\"data\": {\"bar\": [{\"error_x\": {\"color\": \"#2a3f5f\"}, \"error_y\": {\"color\": \"#2a3f5f\"}, \"marker\": {\"line\": {\"color\": \"#E5ECF6\", \"width\": 0.5}}, \"type\": \"bar\"}], \"barpolar\": [{\"marker\": {\"line\": {\"color\": \"#E5ECF6\", \"width\": 0.5}}, \"type\": \"barpolar\"}], \"carpet\": [{\"aaxis\": {\"endlinecolor\": \"#2a3f5f\", \"gridcolor\": \"white\", \"linecolor\": \"white\", \"minorgridcolor\": \"white\", \"startlinecolor\": \"#2a3f5f\"}, \"baxis\": {\"endlinecolor\": \"#2a3f5f\", \"gridcolor\": \"white\", \"linecolor\": \"white\", \"minorgridcolor\": \"white\", \"startlinecolor\": \"#2a3f5f\"}, \"type\": \"carpet\"}], \"choropleth\": [{\"colorbar\": {\"outlinewidth\": 0, \"ticks\": \"\"}, \"type\": \"choropleth\"}], \"contour\": [{\"colorbar\": {\"outlinewidth\": 0, \"ticks\": \"\"}, \"colorscale\": [[0.0, \"#0d0887\"], [0.1111111111111111, \"#46039f\"], [0.2222222222222222, \"#7201a8\"], [0.3333333333333333, \"#9c179e\"], [0.4444444444444444, \"#bd3786\"], [0.5555555555555556, \"#d8576b\"], [0.6666666666666666, \"#ed7953\"], [0.7777777777777778, \"#fb9f3a\"], [0.8888888888888888, \"#fdca26\"], [1.0, \"#f0f921\"]], \"type\": \"contour\"}], \"contourcarpet\": [{\"colorbar\": {\"outlinewidth\": 0, \"ticks\": \"\"}, \"type\": \"contourcarpet\"}], \"heatmap\": [{\"colorbar\": {\"outlinewidth\": 0, \"ticks\": \"\"}, \"colorscale\": [[0.0, \"#0d0887\"], [0.1111111111111111, \"#46039f\"], [0.2222222222222222, \"#7201a8\"], [0.3333333333333333, \"#9c179e\"], [0.4444444444444444, \"#bd3786\"], [0.5555555555555556, \"#d8576b\"], [0.6666666666666666, \"#ed7953\"], [0.7777777777777778, \"#fb9f3a\"], [0.8888888888888888, \"#fdca26\"], [1.0, \"#f0f921\"]], \"type\": \"heatmap\"}], \"heatmapgl\": [{\"colorbar\": {\"outlinewidth\": 0, \"ticks\": \"\"}, \"colorscale\": [[0.0, \"#0d0887\"], [0.1111111111111111, \"#46039f\"], [0.2222222222222222, \"#7201a8\"], [0.3333333333333333, \"#9c179e\"], [0.4444444444444444, \"#bd3786\"], [0.5555555555555556, \"#d8576b\"], [0.6666666666666666, \"#ed7953\"], [0.7777777777777778, \"#fb9f3a\"], [0.8888888888888888, \"#fdca26\"], [1.0, \"#f0f921\"]], \"type\": \"heatmapgl\"}], \"histogram\": [{\"marker\": {\"colorbar\": {\"outlinewidth\": 0, \"ticks\": \"\"}}, \"type\": \"histogram\"}], \"histogram2d\": [{\"colorbar\": {\"outlinewidth\": 0, \"ticks\": \"\"}, \"colorscale\": [[0.0, \"#0d0887\"], [0.1111111111111111, \"#46039f\"], [0.2222222222222222, \"#7201a8\"], [0.3333333333333333, \"#9c179e\"], [0.4444444444444444, \"#bd3786\"], [0.5555555555555556, \"#d8576b\"], [0.6666666666666666, \"#ed7953\"], [0.7777777777777778, \"#fb9f3a\"], [0.8888888888888888, \"#fdca26\"], [1.0, \"#f0f921\"]], \"type\": \"histogram2d\"}], \"histogram2dcontour\": [{\"colorbar\": {\"outlinewidth\": 0, \"ticks\": \"\"}, \"colorscale\": [[0.0, \"#0d0887\"], [0.1111111111111111, \"#46039f\"], [0.2222222222222222, \"#7201a8\"], [0.3333333333333333, \"#9c179e\"], [0.4444444444444444, \"#bd3786\"], [0.5555555555555556, \"#d8576b\"], [0.6666666666666666, \"#ed7953\"], [0.7777777777777778, \"#fb9f3a\"], [0.8888888888888888, \"#fdca26\"], [1.0, \"#f0f921\"]], \"type\": \"histogram2dcontour\"}], \"mesh3d\": [{\"colorbar\": {\"outlinewidth\": 0, \"ticks\": \"\"}, \"type\": \"mesh3d\"}], \"parcoords\": [{\"line\": {\"colorbar\": {\"outlinewidth\": 0, \"ticks\": \"\"}}, \"type\": \"parcoords\"}], \"pie\": [{\"automargin\": true, \"type\": \"pie\"}], \"scatter\": [{\"marker\": {\"colorbar\": {\"outlinewidth\": 0, \"ticks\": \"\"}}, \"type\": \"scatter\"}], \"scatter3d\": [{\"line\": {\"colorbar\": {\"outlinewidth\": 0, \"ticks\": \"\"}}, \"marker\": {\"colorbar\": {\"outlinewidth\": 0, \"ticks\": \"\"}}, \"type\": \"scatter3d\"}], \"scattercarpet\": [{\"marker\": {\"colorbar\": {\"outlinewidth\": 0, \"ticks\": \"\"}}, \"type\": \"scattercarpet\"}], \"scattergeo\": [{\"marker\": {\"colorbar\": {\"outlinewidth\": 0, \"ticks\": \"\"}}, \"type\": \"scattergeo\"}], \"scattergl\": [{\"marker\": {\"colorbar\": {\"outlinewidth\": 0, \"ticks\": \"\"}}, \"type\": \"scattergl\"}], \"scattermapbox\": [{\"marker\": {\"colorbar\": {\"outlinewidth\": 0, \"ticks\": \"\"}}, \"type\": \"scattermapbox\"}], \"scatterpolar\": [{\"marker\": {\"colorbar\": {\"outlinewidth\": 0, \"ticks\": \"\"}}, \"type\": \"scatterpolar\"}], \"scatterpolargl\": [{\"marker\": {\"colorbar\": {\"outlinewidth\": 0, \"ticks\": \"\"}}, \"type\": \"scatterpolargl\"}], \"scatterternary\": [{\"marker\": {\"colorbar\": {\"outlinewidth\": 0, \"ticks\": \"\"}}, \"type\": \"scatterternary\"}], \"surface\": [{\"colorbar\": {\"outlinewidth\": 0, \"ticks\": \"\"}, \"colorscale\": [[0.0, \"#0d0887\"], [0.1111111111111111, \"#46039f\"], [0.2222222222222222, \"#7201a8\"], [0.3333333333333333, \"#9c179e\"], [0.4444444444444444, \"#bd3786\"], [0.5555555555555556, \"#d8576b\"], [0.6666666666666666, \"#ed7953\"], [0.7777777777777778, \"#fb9f3a\"], [0.8888888888888888, \"#fdca26\"], [1.0, \"#f0f921\"]], \"type\": \"surface\"}], \"table\": [{\"cells\": {\"fill\": {\"color\": \"#EBF0F8\"}, \"line\": {\"color\": \"white\"}}, \"header\": {\"fill\": {\"color\": \"#C8D4E3\"}, \"line\": {\"color\": \"white\"}}, \"type\": \"table\"}]}, \"layout\": {\"annotationdefaults\": {\"arrowcolor\": \"#2a3f5f\", \"arrowhead\": 0, \"arrowwidth\": 1}, \"coloraxis\": {\"colorbar\": {\"outlinewidth\": 0, \"ticks\": \"\"}}, \"colorscale\": {\"diverging\": [[0, \"#8e0152\"], [0.1, \"#c51b7d\"], [0.2, \"#de77ae\"], [0.3, \"#f1b6da\"], [0.4, \"#fde0ef\"], [0.5, \"#f7f7f7\"], [0.6, \"#e6f5d0\"], [0.7, \"#b8e186\"], [0.8, \"#7fbc41\"], [0.9, \"#4d9221\"], [1, \"#276419\"]], \"sequential\": [[0.0, \"#0d0887\"], [0.1111111111111111, \"#46039f\"], [0.2222222222222222, \"#7201a8\"], [0.3333333333333333, \"#9c179e\"], [0.4444444444444444, \"#bd3786\"], [0.5555555555555556, \"#d8576b\"], [0.6666666666666666, \"#ed7953\"], [0.7777777777777778, \"#fb9f3a\"], [0.8888888888888888, \"#fdca26\"], [1.0, \"#f0f921\"]], \"sequentialminus\": [[0.0, \"#0d0887\"], [0.1111111111111111, \"#46039f\"], [0.2222222222222222, \"#7201a8\"], [0.3333333333333333, \"#9c179e\"], [0.4444444444444444, \"#bd3786\"], [0.5555555555555556, \"#d8576b\"], [0.6666666666666666, \"#ed7953\"], [0.7777777777777778, \"#fb9f3a\"], [0.8888888888888888, \"#fdca26\"], [1.0, \"#f0f921\"]]}, \"colorway\": [\"#636efa\", \"#EF553B\", \"#00cc96\", \"#ab63fa\", \"#FFA15A\", \"#19d3f3\", \"#FF6692\", \"#B6E880\", \"#FF97FF\", \"#FECB52\"], \"font\": {\"color\": \"#2a3f5f\"}, \"geo\": {\"bgcolor\": \"white\", \"lakecolor\": \"white\", \"landcolor\": \"#E5ECF6\", \"showlakes\": true, \"showland\": true, \"subunitcolor\": \"white\"}, \"hoverlabel\": {\"align\": \"left\"}, \"hovermode\": \"closest\", \"mapbox\": {\"style\": \"light\"}, \"paper_bgcolor\": \"white\", \"plot_bgcolor\": \"#E5ECF6\", \"polar\": {\"angularaxis\": {\"gridcolor\": \"white\", \"linecolor\": \"white\", \"ticks\": \"\"}, \"bgcolor\": \"#E5ECF6\", \"radialaxis\": {\"gridcolor\": \"white\", \"linecolor\": \"white\", \"ticks\": \"\"}}, \"scene\": {\"xaxis\": {\"backgroundcolor\": \"#E5ECF6\", \"gridcolor\": \"white\", \"gridwidth\": 2, \"linecolor\": \"white\", \"showbackground\": true, \"ticks\": \"\", \"zerolinecolor\": \"white\"}, \"yaxis\": {\"backgroundcolor\": \"#E5ECF6\", \"gridcolor\": \"white\", \"gridwidth\": 2, \"linecolor\": \"white\", \"showbackground\": true, \"ticks\": \"\", \"zerolinecolor\": \"white\"}, \"zaxis\": {\"backgroundcolor\": \"#E5ECF6\", \"gridcolor\": \"white\", \"gridwidth\": 2, \"linecolor\": \"white\", \"showbackground\": true, \"ticks\": \"\", \"zerolinecolor\": \"white\"}}, \"shapedefaults\": {\"line\": {\"color\": \"#2a3f5f\"}}, \"ternary\": {\"aaxis\": {\"gridcolor\": \"white\", \"linecolor\": \"white\", \"ticks\": \"\"}, \"baxis\": {\"gridcolor\": \"white\", \"linecolor\": \"white\", \"ticks\": \"\"}, \"bgcolor\": \"#E5ECF6\", \"caxis\": {\"gridcolor\": \"white\", \"linecolor\": \"white\", \"ticks\": \"\"}}, \"title\": {\"x\": 0.05}, \"xaxis\": {\"automargin\": true, \"gridcolor\": \"white\", \"linecolor\": \"white\", \"ticks\": \"\", \"title\": {\"standoff\": 15}, \"zerolinecolor\": \"white\", \"zerolinewidth\": 2}, \"yaxis\": {\"automargin\": true, \"gridcolor\": \"white\", \"linecolor\": \"white\", \"ticks\": \"\", \"title\": {\"standoff\": 15}, \"zerolinecolor\": \"white\", \"zerolinewidth\": 2}}}, \"title\": {\"text\": \"Number of Infractions Per Day\"}, \"xaxis\": {\"anchor\": \"y\", \"domain\": [0.0, 1.0], \"title\": {\"text\": \"infraction_ymd\"}}, \"yaxis\": {\"anchor\": \"x\", \"domain\": [0.0, 1.0], \"title\": {\"text\": \"tag_number_masked\"}}},                        {\"responsive\": true}                    ).then(function(){\n",
       "                            \n",
       "var gd = document.getElementById('949cc978-0478-4c8c-9404-a395773a24b8');\n",
       "var x = new MutationObserver(function (mutations, observer) {{\n",
       "        var display = window.getComputedStyle(gd).display;\n",
       "        if (!display || display === 'none') {{\n",
       "            console.log([gd, 'removed!']);\n",
       "            Plotly.purge(gd);\n",
       "            observer.disconnect();\n",
       "        }}\n",
       "}});\n",
       "\n",
       "// Listen for the removal of the full notebook cells\n",
       "var notebookContainer = gd.closest('#notebook-container');\n",
       "if (notebookContainer) {{\n",
       "    x.observe(notebookContainer, {childList: true});\n",
       "}}\n",
       "\n",
       "// Listen for the clearing of the current output cell\n",
       "var outputEl = gd.closest('.output');\n",
       "if (outputEl) {{\n",
       "    x.observe(outputEl, {childList: true});\n",
       "}}\n",
       "\n",
       "                        })                };                });            </script>        </div>"
      ]
     },
     "metadata": {},
     "output_type": "display_data"
    }
   ],
   "source": [
    "# plot daily infractions per day\n",
    "\n",
    "fig = px.line(daily_infraction_df, x='infraction_ymd', y='tag_number_masked', title='Number of Infractions Per Day')\n",
    "fig.show()"
   ]
  },
  {
   "cell_type": "code",
   "execution_count": 11,
   "metadata": {},
   "outputs": [
    {
     "data": {
      "application/vnd.plotly.v1+json": {
       "config": {
        "plotlyServerURL": "https://plot.ly"
       },
       "data": [
        {
         "alignmentgroup": "True",
         "hovertemplate": "infraction_mth=%{x}<br>tag_number_masked=%{y}<extra></extra>",
         "legendgroup": "",
         "marker": {
          "color": "#636efa"
         },
         "name": "",
         "offsetgroup": "",
         "orientation": "v",
         "showlegend": false,
         "textposition": "auto",
         "type": "bar",
         "x": [
          "01",
          "01",
          "01",
          "01",
          "01",
          "01",
          "01",
          "01",
          "01",
          "01",
          "01",
          "01",
          "01",
          "01",
          "01",
          "01",
          "01",
          "01",
          "01",
          "01",
          "01",
          "01",
          "01",
          "01",
          "01",
          "01",
          "01",
          "01",
          "01",
          "01",
          "01",
          "02",
          "02",
          "02",
          "02",
          "02",
          "02",
          "02",
          "02",
          "02",
          "02",
          "02",
          "02",
          "02",
          "02",
          "02",
          "02",
          "02",
          "02",
          "02",
          "02",
          "02",
          "02",
          "02",
          "02",
          "02",
          "02",
          "02",
          "02",
          "03",
          "03",
          "03",
          "03",
          "03",
          "03",
          "03",
          "03",
          "03",
          "03",
          "03",
          "03",
          "03",
          "03",
          "03",
          "03",
          "03",
          "03",
          "03",
          "03",
          "03",
          "03",
          "03",
          "03",
          "03",
          "03",
          "03",
          "03",
          "03",
          "03",
          "03",
          "04",
          "04",
          "04",
          "04",
          "04",
          "04",
          "04",
          "04",
          "04",
          "04",
          "04",
          "04",
          "04",
          "04",
          "04",
          "04",
          "04",
          "04",
          "04",
          "04",
          "04",
          "04",
          "04",
          "04",
          "04",
          "04",
          "04",
          "04",
          "04",
          "04",
          "05",
          "05",
          "05",
          "05",
          "05",
          "05",
          "05",
          "05",
          "05",
          "05",
          "05",
          "05",
          "05",
          "05",
          "05",
          "05",
          "05"
         ],
         "xaxis": "x",
         "y": [
          1269,
          5489,
          5104,
          5002,
          4177,
          2831,
          3039,
          4424,
          6101,
          5849,
          5501,
          5048,
          3702,
          3541,
          5171,
          4978,
          5550,
          5991,
          6506,
          5217,
          3711,
          5429,
          6671,
          5892,
          6500,
          6916,
          6130,
          4330,
          5083,
          4571,
          4902,
          5770,
          5422,
          4656,
          2750,
          4742,
          5897,
          3786,
          5614,
          4842,
          3866,
          3257,
          5235,
          5893,
          6242,
          5867,
          6139,
          5606,
          4611,
          2647,
          5698,
          5761,
          6296,
          6456,
          5745,
          4040,
          6306,
          6325,
          6569,
          6460,
          5877,
          6377,
          5013,
          6113,
          6222,
          6177,
          6340,
          6624,
          5580,
          4357,
          6275,
          5654,
          5984,
          6308,
          5881,
          5908,
          4989,
          5755,
          6887,
          6565,
          6375,
          6708,
          5878,
          5002,
          6266,
          6145,
          6354,
          5532,
          2551,
          5195,
          2389,
          2775,
          6399,
          6014,
          7151,
          6569,
          5897,
          4858,
          6708,
          6943,
          6327,
          5816,
          6451,
          3340,
          1448,
          3250,
          5563,
          6834,
          6330,
          7319,
          5777,
          4356,
          6380,
          7043,
          6008,
          6571,
          5908,
          5516,
          3516,
          6370,
          7717,
          6704,
          6329,
          6461,
          4419,
          3638,
          6772,
          6964,
          7000,
          6724,
          6570,
          5474,
          4144,
          6024,
          6178,
          7544,
          3497
         ],
         "yaxis": "y"
        }
       ],
       "layout": {
        "barmode": "relative",
        "legend": {
         "tracegroupgap": 0
        },
        "template": {
         "data": {
          "bar": [
           {
            "error_x": {
             "color": "#2a3f5f"
            },
            "error_y": {
             "color": "#2a3f5f"
            },
            "marker": {
             "line": {
              "color": "#E5ECF6",
              "width": 0.5
             }
            },
            "type": "bar"
           }
          ],
          "barpolar": [
           {
            "marker": {
             "line": {
              "color": "#E5ECF6",
              "width": 0.5
             }
            },
            "type": "barpolar"
           }
          ],
          "carpet": [
           {
            "aaxis": {
             "endlinecolor": "#2a3f5f",
             "gridcolor": "white",
             "linecolor": "white",
             "minorgridcolor": "white",
             "startlinecolor": "#2a3f5f"
            },
            "baxis": {
             "endlinecolor": "#2a3f5f",
             "gridcolor": "white",
             "linecolor": "white",
             "minorgridcolor": "white",
             "startlinecolor": "#2a3f5f"
            },
            "type": "carpet"
           }
          ],
          "choropleth": [
           {
            "colorbar": {
             "outlinewidth": 0,
             "ticks": ""
            },
            "type": "choropleth"
           }
          ],
          "contour": [
           {
            "colorbar": {
             "outlinewidth": 0,
             "ticks": ""
            },
            "colorscale": [
             [
              0,
              "#0d0887"
             ],
             [
              0.1111111111111111,
              "#46039f"
             ],
             [
              0.2222222222222222,
              "#7201a8"
             ],
             [
              0.3333333333333333,
              "#9c179e"
             ],
             [
              0.4444444444444444,
              "#bd3786"
             ],
             [
              0.5555555555555556,
              "#d8576b"
             ],
             [
              0.6666666666666666,
              "#ed7953"
             ],
             [
              0.7777777777777778,
              "#fb9f3a"
             ],
             [
              0.8888888888888888,
              "#fdca26"
             ],
             [
              1,
              "#f0f921"
             ]
            ],
            "type": "contour"
           }
          ],
          "contourcarpet": [
           {
            "colorbar": {
             "outlinewidth": 0,
             "ticks": ""
            },
            "type": "contourcarpet"
           }
          ],
          "heatmap": [
           {
            "colorbar": {
             "outlinewidth": 0,
             "ticks": ""
            },
            "colorscale": [
             [
              0,
              "#0d0887"
             ],
             [
              0.1111111111111111,
              "#46039f"
             ],
             [
              0.2222222222222222,
              "#7201a8"
             ],
             [
              0.3333333333333333,
              "#9c179e"
             ],
             [
              0.4444444444444444,
              "#bd3786"
             ],
             [
              0.5555555555555556,
              "#d8576b"
             ],
             [
              0.6666666666666666,
              "#ed7953"
             ],
             [
              0.7777777777777778,
              "#fb9f3a"
             ],
             [
              0.8888888888888888,
              "#fdca26"
             ],
             [
              1,
              "#f0f921"
             ]
            ],
            "type": "heatmap"
           }
          ],
          "heatmapgl": [
           {
            "colorbar": {
             "outlinewidth": 0,
             "ticks": ""
            },
            "colorscale": [
             [
              0,
              "#0d0887"
             ],
             [
              0.1111111111111111,
              "#46039f"
             ],
             [
              0.2222222222222222,
              "#7201a8"
             ],
             [
              0.3333333333333333,
              "#9c179e"
             ],
             [
              0.4444444444444444,
              "#bd3786"
             ],
             [
              0.5555555555555556,
              "#d8576b"
             ],
             [
              0.6666666666666666,
              "#ed7953"
             ],
             [
              0.7777777777777778,
              "#fb9f3a"
             ],
             [
              0.8888888888888888,
              "#fdca26"
             ],
             [
              1,
              "#f0f921"
             ]
            ],
            "type": "heatmapgl"
           }
          ],
          "histogram": [
           {
            "marker": {
             "colorbar": {
              "outlinewidth": 0,
              "ticks": ""
             }
            },
            "type": "histogram"
           }
          ],
          "histogram2d": [
           {
            "colorbar": {
             "outlinewidth": 0,
             "ticks": ""
            },
            "colorscale": [
             [
              0,
              "#0d0887"
             ],
             [
              0.1111111111111111,
              "#46039f"
             ],
             [
              0.2222222222222222,
              "#7201a8"
             ],
             [
              0.3333333333333333,
              "#9c179e"
             ],
             [
              0.4444444444444444,
              "#bd3786"
             ],
             [
              0.5555555555555556,
              "#d8576b"
             ],
             [
              0.6666666666666666,
              "#ed7953"
             ],
             [
              0.7777777777777778,
              "#fb9f3a"
             ],
             [
              0.8888888888888888,
              "#fdca26"
             ],
             [
              1,
              "#f0f921"
             ]
            ],
            "type": "histogram2d"
           }
          ],
          "histogram2dcontour": [
           {
            "colorbar": {
             "outlinewidth": 0,
             "ticks": ""
            },
            "colorscale": [
             [
              0,
              "#0d0887"
             ],
             [
              0.1111111111111111,
              "#46039f"
             ],
             [
              0.2222222222222222,
              "#7201a8"
             ],
             [
              0.3333333333333333,
              "#9c179e"
             ],
             [
              0.4444444444444444,
              "#bd3786"
             ],
             [
              0.5555555555555556,
              "#d8576b"
             ],
             [
              0.6666666666666666,
              "#ed7953"
             ],
             [
              0.7777777777777778,
              "#fb9f3a"
             ],
             [
              0.8888888888888888,
              "#fdca26"
             ],
             [
              1,
              "#f0f921"
             ]
            ],
            "type": "histogram2dcontour"
           }
          ],
          "mesh3d": [
           {
            "colorbar": {
             "outlinewidth": 0,
             "ticks": ""
            },
            "type": "mesh3d"
           }
          ],
          "parcoords": [
           {
            "line": {
             "colorbar": {
              "outlinewidth": 0,
              "ticks": ""
             }
            },
            "type": "parcoords"
           }
          ],
          "pie": [
           {
            "automargin": true,
            "type": "pie"
           }
          ],
          "scatter": [
           {
            "marker": {
             "colorbar": {
              "outlinewidth": 0,
              "ticks": ""
             }
            },
            "type": "scatter"
           }
          ],
          "scatter3d": [
           {
            "line": {
             "colorbar": {
              "outlinewidth": 0,
              "ticks": ""
             }
            },
            "marker": {
             "colorbar": {
              "outlinewidth": 0,
              "ticks": ""
             }
            },
            "type": "scatter3d"
           }
          ],
          "scattercarpet": [
           {
            "marker": {
             "colorbar": {
              "outlinewidth": 0,
              "ticks": ""
             }
            },
            "type": "scattercarpet"
           }
          ],
          "scattergeo": [
           {
            "marker": {
             "colorbar": {
              "outlinewidth": 0,
              "ticks": ""
             }
            },
            "type": "scattergeo"
           }
          ],
          "scattergl": [
           {
            "marker": {
             "colorbar": {
              "outlinewidth": 0,
              "ticks": ""
             }
            },
            "type": "scattergl"
           }
          ],
          "scattermapbox": [
           {
            "marker": {
             "colorbar": {
              "outlinewidth": 0,
              "ticks": ""
             }
            },
            "type": "scattermapbox"
           }
          ],
          "scatterpolar": [
           {
            "marker": {
             "colorbar": {
              "outlinewidth": 0,
              "ticks": ""
             }
            },
            "type": "scatterpolar"
           }
          ],
          "scatterpolargl": [
           {
            "marker": {
             "colorbar": {
              "outlinewidth": 0,
              "ticks": ""
             }
            },
            "type": "scatterpolargl"
           }
          ],
          "scatterternary": [
           {
            "marker": {
             "colorbar": {
              "outlinewidth": 0,
              "ticks": ""
             }
            },
            "type": "scatterternary"
           }
          ],
          "surface": [
           {
            "colorbar": {
             "outlinewidth": 0,
             "ticks": ""
            },
            "colorscale": [
             [
              0,
              "#0d0887"
             ],
             [
              0.1111111111111111,
              "#46039f"
             ],
             [
              0.2222222222222222,
              "#7201a8"
             ],
             [
              0.3333333333333333,
              "#9c179e"
             ],
             [
              0.4444444444444444,
              "#bd3786"
             ],
             [
              0.5555555555555556,
              "#d8576b"
             ],
             [
              0.6666666666666666,
              "#ed7953"
             ],
             [
              0.7777777777777778,
              "#fb9f3a"
             ],
             [
              0.8888888888888888,
              "#fdca26"
             ],
             [
              1,
              "#f0f921"
             ]
            ],
            "type": "surface"
           }
          ],
          "table": [
           {
            "cells": {
             "fill": {
              "color": "#EBF0F8"
             },
             "line": {
              "color": "white"
             }
            },
            "header": {
             "fill": {
              "color": "#C8D4E3"
             },
             "line": {
              "color": "white"
             }
            },
            "type": "table"
           }
          ]
         },
         "layout": {
          "annotationdefaults": {
           "arrowcolor": "#2a3f5f",
           "arrowhead": 0,
           "arrowwidth": 1
          },
          "coloraxis": {
           "colorbar": {
            "outlinewidth": 0,
            "ticks": ""
           }
          },
          "colorscale": {
           "diverging": [
            [
             0,
             "#8e0152"
            ],
            [
             0.1,
             "#c51b7d"
            ],
            [
             0.2,
             "#de77ae"
            ],
            [
             0.3,
             "#f1b6da"
            ],
            [
             0.4,
             "#fde0ef"
            ],
            [
             0.5,
             "#f7f7f7"
            ],
            [
             0.6,
             "#e6f5d0"
            ],
            [
             0.7,
             "#b8e186"
            ],
            [
             0.8,
             "#7fbc41"
            ],
            [
             0.9,
             "#4d9221"
            ],
            [
             1,
             "#276419"
            ]
           ],
           "sequential": [
            [
             0,
             "#0d0887"
            ],
            [
             0.1111111111111111,
             "#46039f"
            ],
            [
             0.2222222222222222,
             "#7201a8"
            ],
            [
             0.3333333333333333,
             "#9c179e"
            ],
            [
             0.4444444444444444,
             "#bd3786"
            ],
            [
             0.5555555555555556,
             "#d8576b"
            ],
            [
             0.6666666666666666,
             "#ed7953"
            ],
            [
             0.7777777777777778,
             "#fb9f3a"
            ],
            [
             0.8888888888888888,
             "#fdca26"
            ],
            [
             1,
             "#f0f921"
            ]
           ],
           "sequentialminus": [
            [
             0,
             "#0d0887"
            ],
            [
             0.1111111111111111,
             "#46039f"
            ],
            [
             0.2222222222222222,
             "#7201a8"
            ],
            [
             0.3333333333333333,
             "#9c179e"
            ],
            [
             0.4444444444444444,
             "#bd3786"
            ],
            [
             0.5555555555555556,
             "#d8576b"
            ],
            [
             0.6666666666666666,
             "#ed7953"
            ],
            [
             0.7777777777777778,
             "#fb9f3a"
            ],
            [
             0.8888888888888888,
             "#fdca26"
            ],
            [
             1,
             "#f0f921"
            ]
           ]
          },
          "colorway": [
           "#636efa",
           "#EF553B",
           "#00cc96",
           "#ab63fa",
           "#FFA15A",
           "#19d3f3",
           "#FF6692",
           "#B6E880",
           "#FF97FF",
           "#FECB52"
          ],
          "font": {
           "color": "#2a3f5f"
          },
          "geo": {
           "bgcolor": "white",
           "lakecolor": "white",
           "landcolor": "#E5ECF6",
           "showlakes": true,
           "showland": true,
           "subunitcolor": "white"
          },
          "hoverlabel": {
           "align": "left"
          },
          "hovermode": "closest",
          "mapbox": {
           "style": "light"
          },
          "paper_bgcolor": "white",
          "plot_bgcolor": "#E5ECF6",
          "polar": {
           "angularaxis": {
            "gridcolor": "white",
            "linecolor": "white",
            "ticks": ""
           },
           "bgcolor": "#E5ECF6",
           "radialaxis": {
            "gridcolor": "white",
            "linecolor": "white",
            "ticks": ""
           }
          },
          "scene": {
           "xaxis": {
            "backgroundcolor": "#E5ECF6",
            "gridcolor": "white",
            "gridwidth": 2,
            "linecolor": "white",
            "showbackground": true,
            "ticks": "",
            "zerolinecolor": "white"
           },
           "yaxis": {
            "backgroundcolor": "#E5ECF6",
            "gridcolor": "white",
            "gridwidth": 2,
            "linecolor": "white",
            "showbackground": true,
            "ticks": "",
            "zerolinecolor": "white"
           },
           "zaxis": {
            "backgroundcolor": "#E5ECF6",
            "gridcolor": "white",
            "gridwidth": 2,
            "linecolor": "white",
            "showbackground": true,
            "ticks": "",
            "zerolinecolor": "white"
           }
          },
          "shapedefaults": {
           "line": {
            "color": "#2a3f5f"
           }
          },
          "ternary": {
           "aaxis": {
            "gridcolor": "white",
            "linecolor": "white",
            "ticks": ""
           },
           "baxis": {
            "gridcolor": "white",
            "linecolor": "white",
            "ticks": ""
           },
           "bgcolor": "#E5ECF6",
           "caxis": {
            "gridcolor": "white",
            "linecolor": "white",
            "ticks": ""
           }
          },
          "title": {
           "x": 0.05
          },
          "xaxis": {
           "automargin": true,
           "gridcolor": "white",
           "linecolor": "white",
           "ticks": "",
           "title": {
            "standoff": 15
           },
           "zerolinecolor": "white",
           "zerolinewidth": 2
          },
          "yaxis": {
           "automargin": true,
           "gridcolor": "white",
           "linecolor": "white",
           "ticks": "",
           "title": {
            "standoff": 15
           },
           "zerolinecolor": "white",
           "zerolinewidth": 2
          }
         }
        },
        "title": {
         "text": "Number of Infractions Per Month"
        },
        "xaxis": {
         "anchor": "y",
         "domain": [
          0,
          1
         ],
         "title": {
          "text": "infraction_mth"
         }
        },
        "yaxis": {
         "anchor": "x",
         "domain": [
          0,
          1
         ],
         "title": {
          "text": "tag_number_masked"
         }
        }
       }
      },
      "text/html": [
       "<div>                            <div id=\"19f9487c-3f69-43f1-889d-5b52414112b0\" class=\"plotly-graph-div\" style=\"height:525px; width:100%;\"></div>            <script type=\"text/javascript\">                require([\"plotly\"], function(Plotly) {                    window.PLOTLYENV=window.PLOTLYENV || {};                                    if (document.getElementById(\"19f9487c-3f69-43f1-889d-5b52414112b0\")) {                    Plotly.newPlot(                        \"19f9487c-3f69-43f1-889d-5b52414112b0\",                        [{\"alignmentgroup\": \"True\", \"hovertemplate\": \"infraction_mth=%{x}<br>tag_number_masked=%{y}<extra></extra>\", \"legendgroup\": \"\", \"marker\": {\"color\": \"#636efa\"}, \"name\": \"\", \"offsetgroup\": \"\", \"orientation\": \"v\", \"showlegend\": false, \"textposition\": \"auto\", \"type\": \"bar\", \"x\": [\"01\", \"01\", \"01\", \"01\", \"01\", \"01\", \"01\", \"01\", \"01\", \"01\", \"01\", \"01\", \"01\", \"01\", \"01\", \"01\", \"01\", \"01\", \"01\", \"01\", \"01\", \"01\", \"01\", \"01\", \"01\", \"01\", \"01\", \"01\", \"01\", \"01\", \"01\", \"02\", \"02\", \"02\", \"02\", \"02\", \"02\", \"02\", \"02\", \"02\", \"02\", \"02\", \"02\", \"02\", \"02\", \"02\", \"02\", \"02\", \"02\", \"02\", \"02\", \"02\", \"02\", \"02\", \"02\", \"02\", \"02\", \"02\", \"02\", \"03\", \"03\", \"03\", \"03\", \"03\", \"03\", \"03\", \"03\", \"03\", \"03\", \"03\", \"03\", \"03\", \"03\", \"03\", \"03\", \"03\", \"03\", \"03\", \"03\", \"03\", \"03\", \"03\", \"03\", \"03\", \"03\", \"03\", \"03\", \"03\", \"03\", \"03\", \"04\", \"04\", \"04\", \"04\", \"04\", \"04\", \"04\", \"04\", \"04\", \"04\", \"04\", \"04\", \"04\", \"04\", \"04\", \"04\", \"04\", \"04\", \"04\", \"04\", \"04\", \"04\", \"04\", \"04\", \"04\", \"04\", \"04\", \"04\", \"04\", \"04\", \"05\", \"05\", \"05\", \"05\", \"05\", \"05\", \"05\", \"05\", \"05\", \"05\", \"05\", \"05\", \"05\", \"05\", \"05\", \"05\", \"05\"], \"xaxis\": \"x\", \"y\": [1269, 5489, 5104, 5002, 4177, 2831, 3039, 4424, 6101, 5849, 5501, 5048, 3702, 3541, 5171, 4978, 5550, 5991, 6506, 5217, 3711, 5429, 6671, 5892, 6500, 6916, 6130, 4330, 5083, 4571, 4902, 5770, 5422, 4656, 2750, 4742, 5897, 3786, 5614, 4842, 3866, 3257, 5235, 5893, 6242, 5867, 6139, 5606, 4611, 2647, 5698, 5761, 6296, 6456, 5745, 4040, 6306, 6325, 6569, 6460, 5877, 6377, 5013, 6113, 6222, 6177, 6340, 6624, 5580, 4357, 6275, 5654, 5984, 6308, 5881, 5908, 4989, 5755, 6887, 6565, 6375, 6708, 5878, 5002, 6266, 6145, 6354, 5532, 2551, 5195, 2389, 2775, 6399, 6014, 7151, 6569, 5897, 4858, 6708, 6943, 6327, 5816, 6451, 3340, 1448, 3250, 5563, 6834, 6330, 7319, 5777, 4356, 6380, 7043, 6008, 6571, 5908, 5516, 3516, 6370, 7717, 6704, 6329, 6461, 4419, 3638, 6772, 6964, 7000, 6724, 6570, 5474, 4144, 6024, 6178, 7544, 3497], \"yaxis\": \"y\"}],                        {\"barmode\": \"relative\", \"legend\": {\"tracegroupgap\": 0}, \"template\": {\"data\": {\"bar\": [{\"error_x\": {\"color\": \"#2a3f5f\"}, \"error_y\": {\"color\": \"#2a3f5f\"}, \"marker\": {\"line\": {\"color\": \"#E5ECF6\", \"width\": 0.5}}, \"type\": \"bar\"}], \"barpolar\": [{\"marker\": {\"line\": {\"color\": \"#E5ECF6\", \"width\": 0.5}}, \"type\": \"barpolar\"}], \"carpet\": [{\"aaxis\": {\"endlinecolor\": \"#2a3f5f\", \"gridcolor\": \"white\", \"linecolor\": \"white\", \"minorgridcolor\": \"white\", \"startlinecolor\": \"#2a3f5f\"}, \"baxis\": {\"endlinecolor\": \"#2a3f5f\", \"gridcolor\": \"white\", \"linecolor\": \"white\", \"minorgridcolor\": \"white\", \"startlinecolor\": \"#2a3f5f\"}, \"type\": \"carpet\"}], \"choropleth\": [{\"colorbar\": {\"outlinewidth\": 0, \"ticks\": \"\"}, \"type\": \"choropleth\"}], \"contour\": [{\"colorbar\": {\"outlinewidth\": 0, \"ticks\": \"\"}, \"colorscale\": [[0.0, \"#0d0887\"], [0.1111111111111111, \"#46039f\"], [0.2222222222222222, \"#7201a8\"], [0.3333333333333333, \"#9c179e\"], [0.4444444444444444, \"#bd3786\"], [0.5555555555555556, \"#d8576b\"], [0.6666666666666666, \"#ed7953\"], [0.7777777777777778, \"#fb9f3a\"], [0.8888888888888888, \"#fdca26\"], [1.0, \"#f0f921\"]], \"type\": \"contour\"}], \"contourcarpet\": [{\"colorbar\": {\"outlinewidth\": 0, \"ticks\": \"\"}, \"type\": \"contourcarpet\"}], \"heatmap\": [{\"colorbar\": {\"outlinewidth\": 0, \"ticks\": \"\"}, \"colorscale\": [[0.0, \"#0d0887\"], [0.1111111111111111, \"#46039f\"], [0.2222222222222222, \"#7201a8\"], [0.3333333333333333, \"#9c179e\"], [0.4444444444444444, \"#bd3786\"], [0.5555555555555556, \"#d8576b\"], [0.6666666666666666, \"#ed7953\"], [0.7777777777777778, \"#fb9f3a\"], [0.8888888888888888, \"#fdca26\"], [1.0, \"#f0f921\"]], \"type\": \"heatmap\"}], \"heatmapgl\": [{\"colorbar\": {\"outlinewidth\": 0, \"ticks\": \"\"}, \"colorscale\": [[0.0, \"#0d0887\"], [0.1111111111111111, \"#46039f\"], [0.2222222222222222, \"#7201a8\"], [0.3333333333333333, \"#9c179e\"], [0.4444444444444444, \"#bd3786\"], [0.5555555555555556, \"#d8576b\"], [0.6666666666666666, \"#ed7953\"], [0.7777777777777778, \"#fb9f3a\"], [0.8888888888888888, \"#fdca26\"], [1.0, \"#f0f921\"]], \"type\": \"heatmapgl\"}], \"histogram\": [{\"marker\": {\"colorbar\": {\"outlinewidth\": 0, \"ticks\": \"\"}}, \"type\": \"histogram\"}], \"histogram2d\": [{\"colorbar\": {\"outlinewidth\": 0, \"ticks\": \"\"}, \"colorscale\": [[0.0, \"#0d0887\"], [0.1111111111111111, \"#46039f\"], [0.2222222222222222, \"#7201a8\"], [0.3333333333333333, \"#9c179e\"], [0.4444444444444444, \"#bd3786\"], [0.5555555555555556, \"#d8576b\"], [0.6666666666666666, \"#ed7953\"], [0.7777777777777778, \"#fb9f3a\"], [0.8888888888888888, \"#fdca26\"], [1.0, \"#f0f921\"]], \"type\": \"histogram2d\"}], \"histogram2dcontour\": [{\"colorbar\": {\"outlinewidth\": 0, \"ticks\": \"\"}, \"colorscale\": [[0.0, \"#0d0887\"], [0.1111111111111111, \"#46039f\"], [0.2222222222222222, \"#7201a8\"], [0.3333333333333333, \"#9c179e\"], [0.4444444444444444, \"#bd3786\"], [0.5555555555555556, \"#d8576b\"], [0.6666666666666666, \"#ed7953\"], [0.7777777777777778, \"#fb9f3a\"], [0.8888888888888888, \"#fdca26\"], [1.0, \"#f0f921\"]], \"type\": \"histogram2dcontour\"}], \"mesh3d\": [{\"colorbar\": {\"outlinewidth\": 0, \"ticks\": \"\"}, \"type\": \"mesh3d\"}], \"parcoords\": [{\"line\": {\"colorbar\": {\"outlinewidth\": 0, \"ticks\": \"\"}}, \"type\": \"parcoords\"}], \"pie\": [{\"automargin\": true, \"type\": \"pie\"}], \"scatter\": [{\"marker\": {\"colorbar\": {\"outlinewidth\": 0, \"ticks\": \"\"}}, \"type\": \"scatter\"}], \"scatter3d\": [{\"line\": {\"colorbar\": {\"outlinewidth\": 0, \"ticks\": \"\"}}, \"marker\": {\"colorbar\": {\"outlinewidth\": 0, \"ticks\": \"\"}}, \"type\": \"scatter3d\"}], \"scattercarpet\": [{\"marker\": {\"colorbar\": {\"outlinewidth\": 0, \"ticks\": \"\"}}, \"type\": \"scattercarpet\"}], \"scattergeo\": [{\"marker\": {\"colorbar\": {\"outlinewidth\": 0, \"ticks\": \"\"}}, \"type\": \"scattergeo\"}], \"scattergl\": [{\"marker\": {\"colorbar\": {\"outlinewidth\": 0, \"ticks\": \"\"}}, \"type\": \"scattergl\"}], \"scattermapbox\": [{\"marker\": {\"colorbar\": {\"outlinewidth\": 0, \"ticks\": \"\"}}, \"type\": \"scattermapbox\"}], \"scatterpolar\": [{\"marker\": {\"colorbar\": {\"outlinewidth\": 0, \"ticks\": \"\"}}, \"type\": \"scatterpolar\"}], \"scatterpolargl\": [{\"marker\": {\"colorbar\": {\"outlinewidth\": 0, \"ticks\": \"\"}}, \"type\": \"scatterpolargl\"}], \"scatterternary\": [{\"marker\": {\"colorbar\": {\"outlinewidth\": 0, \"ticks\": \"\"}}, \"type\": \"scatterternary\"}], \"surface\": [{\"colorbar\": {\"outlinewidth\": 0, \"ticks\": \"\"}, \"colorscale\": [[0.0, \"#0d0887\"], [0.1111111111111111, \"#46039f\"], [0.2222222222222222, \"#7201a8\"], [0.3333333333333333, \"#9c179e\"], [0.4444444444444444, \"#bd3786\"], [0.5555555555555556, \"#d8576b\"], [0.6666666666666666, \"#ed7953\"], [0.7777777777777778, \"#fb9f3a\"], [0.8888888888888888, \"#fdca26\"], [1.0, \"#f0f921\"]], \"type\": \"surface\"}], \"table\": [{\"cells\": {\"fill\": {\"color\": \"#EBF0F8\"}, \"line\": {\"color\": \"white\"}}, \"header\": {\"fill\": {\"color\": \"#C8D4E3\"}, \"line\": {\"color\": \"white\"}}, \"type\": \"table\"}]}, \"layout\": {\"annotationdefaults\": {\"arrowcolor\": \"#2a3f5f\", \"arrowhead\": 0, \"arrowwidth\": 1}, \"coloraxis\": {\"colorbar\": {\"outlinewidth\": 0, \"ticks\": \"\"}}, \"colorscale\": {\"diverging\": [[0, \"#8e0152\"], [0.1, \"#c51b7d\"], [0.2, \"#de77ae\"], [0.3, \"#f1b6da\"], [0.4, \"#fde0ef\"], [0.5, \"#f7f7f7\"], [0.6, \"#e6f5d0\"], [0.7, \"#b8e186\"], [0.8, \"#7fbc41\"], [0.9, \"#4d9221\"], [1, \"#276419\"]], \"sequential\": [[0.0, \"#0d0887\"], [0.1111111111111111, \"#46039f\"], [0.2222222222222222, \"#7201a8\"], [0.3333333333333333, \"#9c179e\"], [0.4444444444444444, \"#bd3786\"], [0.5555555555555556, \"#d8576b\"], [0.6666666666666666, \"#ed7953\"], [0.7777777777777778, \"#fb9f3a\"], [0.8888888888888888, \"#fdca26\"], [1.0, \"#f0f921\"]], \"sequentialminus\": [[0.0, \"#0d0887\"], [0.1111111111111111, \"#46039f\"], [0.2222222222222222, \"#7201a8\"], [0.3333333333333333, \"#9c179e\"], [0.4444444444444444, \"#bd3786\"], [0.5555555555555556, \"#d8576b\"], [0.6666666666666666, \"#ed7953\"], [0.7777777777777778, \"#fb9f3a\"], [0.8888888888888888, \"#fdca26\"], [1.0, \"#f0f921\"]]}, \"colorway\": [\"#636efa\", \"#EF553B\", \"#00cc96\", \"#ab63fa\", \"#FFA15A\", \"#19d3f3\", \"#FF6692\", \"#B6E880\", \"#FF97FF\", \"#FECB52\"], \"font\": {\"color\": \"#2a3f5f\"}, \"geo\": {\"bgcolor\": \"white\", \"lakecolor\": \"white\", \"landcolor\": \"#E5ECF6\", \"showlakes\": true, \"showland\": true, \"subunitcolor\": \"white\"}, \"hoverlabel\": {\"align\": \"left\"}, \"hovermode\": \"closest\", \"mapbox\": {\"style\": \"light\"}, \"paper_bgcolor\": \"white\", \"plot_bgcolor\": \"#E5ECF6\", \"polar\": {\"angularaxis\": {\"gridcolor\": \"white\", \"linecolor\": \"white\", \"ticks\": \"\"}, \"bgcolor\": \"#E5ECF6\", \"radialaxis\": {\"gridcolor\": \"white\", \"linecolor\": \"white\", \"ticks\": \"\"}}, \"scene\": {\"xaxis\": {\"backgroundcolor\": \"#E5ECF6\", \"gridcolor\": \"white\", \"gridwidth\": 2, \"linecolor\": \"white\", \"showbackground\": true, \"ticks\": \"\", \"zerolinecolor\": \"white\"}, \"yaxis\": {\"backgroundcolor\": \"#E5ECF6\", \"gridcolor\": \"white\", \"gridwidth\": 2, \"linecolor\": \"white\", \"showbackground\": true, \"ticks\": \"\", \"zerolinecolor\": \"white\"}, \"zaxis\": {\"backgroundcolor\": \"#E5ECF6\", \"gridcolor\": \"white\", \"gridwidth\": 2, \"linecolor\": \"white\", \"showbackground\": true, \"ticks\": \"\", \"zerolinecolor\": \"white\"}}, \"shapedefaults\": {\"line\": {\"color\": \"#2a3f5f\"}}, \"ternary\": {\"aaxis\": {\"gridcolor\": \"white\", \"linecolor\": \"white\", \"ticks\": \"\"}, \"baxis\": {\"gridcolor\": \"white\", \"linecolor\": \"white\", \"ticks\": \"\"}, \"bgcolor\": \"#E5ECF6\", \"caxis\": {\"gridcolor\": \"white\", \"linecolor\": \"white\", \"ticks\": \"\"}}, \"title\": {\"x\": 0.05}, \"xaxis\": {\"automargin\": true, \"gridcolor\": \"white\", \"linecolor\": \"white\", \"ticks\": \"\", \"title\": {\"standoff\": 15}, \"zerolinecolor\": \"white\", \"zerolinewidth\": 2}, \"yaxis\": {\"automargin\": true, \"gridcolor\": \"white\", \"linecolor\": \"white\", \"ticks\": \"\", \"title\": {\"standoff\": 15}, \"zerolinecolor\": \"white\", \"zerolinewidth\": 2}}}, \"title\": {\"text\": \"Number of Infractions Per Month\"}, \"xaxis\": {\"anchor\": \"y\", \"domain\": [0.0, 1.0], \"title\": {\"text\": \"infraction_mth\"}}, \"yaxis\": {\"anchor\": \"x\", \"domain\": [0.0, 1.0], \"title\": {\"text\": \"tag_number_masked\"}}},                        {\"responsive\": true}                    ).then(function(){\n",
       "                            \n",
       "var gd = document.getElementById('19f9487c-3f69-43f1-889d-5b52414112b0');\n",
       "var x = new MutationObserver(function (mutations, observer) {{\n",
       "        var display = window.getComputedStyle(gd).display;\n",
       "        if (!display || display === 'none') {{\n",
       "            console.log([gd, 'removed!']);\n",
       "            Plotly.purge(gd);\n",
       "            observer.disconnect();\n",
       "        }}\n",
       "}});\n",
       "\n",
       "// Listen for the removal of the full notebook cells\n",
       "var notebookContainer = gd.closest('#notebook-container');\n",
       "if (notebookContainer) {{\n",
       "    x.observe(notebookContainer, {childList: true});\n",
       "}}\n",
       "\n",
       "// Listen for the clearing of the current output cell\n",
       "var outputEl = gd.closest('.output');\n",
       "if (outputEl) {{\n",
       "    x.observe(outputEl, {childList: true});\n",
       "}}\n",
       "\n",
       "                        })                };                });            </script>        </div>"
      ]
     },
     "metadata": {},
     "output_type": "display_data"
    }
   ],
   "source": [
    "# plot infraction volume by month\n",
    "\n",
    "fig2 = px.bar(daily_infraction_df, \n",
    "              x='infraction_mth', \n",
    "              y='tag_number_masked',\n",
    "              title='Number of Infractions Per Month') \n",
    "fig2.show()"
   ]
  },
  {
   "cell_type": "code",
   "execution_count": 15,
   "metadata": {},
   "outputs": [
    {
     "data": {
      "application/vnd.plotly.v1+json": {
       "config": {
        "plotlyServerURL": "https://plot.ly"
       },
       "data": [
        {
         "colorscale": [
          [
           0,
           "rgb(228, 241, 225)"
          ],
          [
           0.16666666666666666,
           "rgb(180, 217, 204)"
          ],
          [
           0.3333333333333333,
           "rgb(137, 192, 182)"
          ],
          [
           0.5,
           "rgb(99, 166, 160)"
          ],
          [
           0.6666666666666666,
           "rgb(68, 140, 138)"
          ],
          [
           0.8333333333333334,
           "rgb(40, 114, 116)"
          ],
          [
           1,
           "rgb(13, 88, 95)"
          ]
         ],
         "type": "heatmap",
         "x": [
          "01",
          "02",
          "03",
          "04",
          "05",
          "06",
          "07",
          "08",
          "09",
          "10",
          "11",
          "12",
          "13",
          "14",
          "15",
          "16",
          "17",
          "18",
          "19",
          "20",
          "21",
          "22",
          "23",
          "24",
          "25",
          "26",
          "27",
          "28",
          "29",
          "30",
          "31",
          "01",
          "02",
          "03",
          "04",
          "05",
          "06",
          "07",
          "08",
          "09",
          "10",
          "11",
          "12",
          "13",
          "14",
          "15",
          "16",
          "17",
          "18",
          "19",
          "20",
          "21",
          "22",
          "23",
          "24",
          "25",
          "26",
          "27",
          "28",
          "01",
          "02",
          "03",
          "04",
          "05",
          "06",
          "07",
          "08",
          "09",
          "10",
          "11",
          "12",
          "13",
          "14",
          "15",
          "16",
          "17",
          "18",
          "19",
          "20",
          "21",
          "22",
          "23",
          "24",
          "25",
          "26",
          "27",
          "28",
          "29",
          "30",
          "31",
          "01",
          "02",
          "03",
          "04",
          "05",
          "06",
          "07",
          "08",
          "09",
          "10",
          "11",
          "12",
          "13",
          "14",
          "15",
          "16",
          "17",
          "18",
          "19",
          "20",
          "21",
          "22",
          "23",
          "24",
          "25",
          "26",
          "27",
          "28",
          "29",
          "30",
          "01",
          "02",
          "03",
          "04",
          "05",
          "06",
          "07",
          "08",
          "09",
          "10",
          "11",
          "12",
          "13",
          "14",
          "15",
          "16",
          "17"
         ],
         "y": [
          "01",
          "01",
          "01",
          "01",
          "01",
          "01",
          "01",
          "01",
          "01",
          "01",
          "01",
          "01",
          "01",
          "01",
          "01",
          "01",
          "01",
          "01",
          "01",
          "01",
          "01",
          "01",
          "01",
          "01",
          "01",
          "01",
          "01",
          "01",
          "01",
          "01",
          "01",
          "02",
          "02",
          "02",
          "02",
          "02",
          "02",
          "02",
          "02",
          "02",
          "02",
          "02",
          "02",
          "02",
          "02",
          "02",
          "02",
          "02",
          "02",
          "02",
          "02",
          "02",
          "02",
          "02",
          "02",
          "02",
          "02",
          "02",
          "02",
          "03",
          "03",
          "03",
          "03",
          "03",
          "03",
          "03",
          "03",
          "03",
          "03",
          "03",
          "03",
          "03",
          "03",
          "03",
          "03",
          "03",
          "03",
          "03",
          "03",
          "03",
          "03",
          "03",
          "03",
          "03",
          "03",
          "03",
          "03",
          "03",
          "03",
          "03",
          "04",
          "04",
          "04",
          "04",
          "04",
          "04",
          "04",
          "04",
          "04",
          "04",
          "04",
          "04",
          "04",
          "04",
          "04",
          "04",
          "04",
          "04",
          "04",
          "04",
          "04",
          "04",
          "04",
          "04",
          "04",
          "04",
          "04",
          "04",
          "04",
          "04",
          "05",
          "05",
          "05",
          "05",
          "05",
          "05",
          "05",
          "05",
          "05",
          "05",
          "05",
          "05",
          "05",
          "05",
          "05",
          "05",
          "05"
         ],
         "z": [
          1269,
          5489,
          5104,
          5002,
          4177,
          2831,
          3039,
          4424,
          6101,
          5849,
          5501,
          5048,
          3702,
          3541,
          5171,
          4978,
          5550,
          5991,
          6506,
          5217,
          3711,
          5429,
          6671,
          5892,
          6500,
          6916,
          6130,
          4330,
          5083,
          4571,
          4902,
          5770,
          5422,
          4656,
          2750,
          4742,
          5897,
          3786,
          5614,
          4842,
          3866,
          3257,
          5235,
          5893,
          6242,
          5867,
          6139,
          5606,
          4611,
          2647,
          5698,
          5761,
          6296,
          6456,
          5745,
          4040,
          6306,
          6325,
          6569,
          6460,
          5877,
          6377,
          5013,
          6113,
          6222,
          6177,
          6340,
          6624,
          5580,
          4357,
          6275,
          5654,
          5984,
          6308,
          5881,
          5908,
          4989,
          5755,
          6887,
          6565,
          6375,
          6708,
          5878,
          5002,
          6266,
          6145,
          6354,
          5532,
          2551,
          5195,
          2389,
          2775,
          6399,
          6014,
          7151,
          6569,
          5897,
          4858,
          6708,
          6943,
          6327,
          5816,
          6451,
          3340,
          1448,
          3250,
          5563,
          6834,
          6330,
          7319,
          5777,
          4356,
          6380,
          7043,
          6008,
          6571,
          5908,
          5516,
          3516,
          6370,
          7717,
          6704,
          6329,
          6461,
          4419,
          3638,
          6772,
          6964,
          7000,
          6724,
          6570,
          5474,
          4144,
          6024,
          6178,
          7544,
          3497
         ]
        }
       ],
       "layout": {
        "template": {
         "data": {
          "bar": [
           {
            "error_x": {
             "color": "#2a3f5f"
            },
            "error_y": {
             "color": "#2a3f5f"
            },
            "marker": {
             "line": {
              "color": "#E5ECF6",
              "width": 0.5
             }
            },
            "type": "bar"
           }
          ],
          "barpolar": [
           {
            "marker": {
             "line": {
              "color": "#E5ECF6",
              "width": 0.5
             }
            },
            "type": "barpolar"
           }
          ],
          "carpet": [
           {
            "aaxis": {
             "endlinecolor": "#2a3f5f",
             "gridcolor": "white",
             "linecolor": "white",
             "minorgridcolor": "white",
             "startlinecolor": "#2a3f5f"
            },
            "baxis": {
             "endlinecolor": "#2a3f5f",
             "gridcolor": "white",
             "linecolor": "white",
             "minorgridcolor": "white",
             "startlinecolor": "#2a3f5f"
            },
            "type": "carpet"
           }
          ],
          "choropleth": [
           {
            "colorbar": {
             "outlinewidth": 0,
             "ticks": ""
            },
            "type": "choropleth"
           }
          ],
          "contour": [
           {
            "colorbar": {
             "outlinewidth": 0,
             "ticks": ""
            },
            "colorscale": [
             [
              0,
              "#0d0887"
             ],
             [
              0.1111111111111111,
              "#46039f"
             ],
             [
              0.2222222222222222,
              "#7201a8"
             ],
             [
              0.3333333333333333,
              "#9c179e"
             ],
             [
              0.4444444444444444,
              "#bd3786"
             ],
             [
              0.5555555555555556,
              "#d8576b"
             ],
             [
              0.6666666666666666,
              "#ed7953"
             ],
             [
              0.7777777777777778,
              "#fb9f3a"
             ],
             [
              0.8888888888888888,
              "#fdca26"
             ],
             [
              1,
              "#f0f921"
             ]
            ],
            "type": "contour"
           }
          ],
          "contourcarpet": [
           {
            "colorbar": {
             "outlinewidth": 0,
             "ticks": ""
            },
            "type": "contourcarpet"
           }
          ],
          "heatmap": [
           {
            "colorbar": {
             "outlinewidth": 0,
             "ticks": ""
            },
            "colorscale": [
             [
              0,
              "#0d0887"
             ],
             [
              0.1111111111111111,
              "#46039f"
             ],
             [
              0.2222222222222222,
              "#7201a8"
             ],
             [
              0.3333333333333333,
              "#9c179e"
             ],
             [
              0.4444444444444444,
              "#bd3786"
             ],
             [
              0.5555555555555556,
              "#d8576b"
             ],
             [
              0.6666666666666666,
              "#ed7953"
             ],
             [
              0.7777777777777778,
              "#fb9f3a"
             ],
             [
              0.8888888888888888,
              "#fdca26"
             ],
             [
              1,
              "#f0f921"
             ]
            ],
            "type": "heatmap"
           }
          ],
          "heatmapgl": [
           {
            "colorbar": {
             "outlinewidth": 0,
             "ticks": ""
            },
            "colorscale": [
             [
              0,
              "#0d0887"
             ],
             [
              0.1111111111111111,
              "#46039f"
             ],
             [
              0.2222222222222222,
              "#7201a8"
             ],
             [
              0.3333333333333333,
              "#9c179e"
             ],
             [
              0.4444444444444444,
              "#bd3786"
             ],
             [
              0.5555555555555556,
              "#d8576b"
             ],
             [
              0.6666666666666666,
              "#ed7953"
             ],
             [
              0.7777777777777778,
              "#fb9f3a"
             ],
             [
              0.8888888888888888,
              "#fdca26"
             ],
             [
              1,
              "#f0f921"
             ]
            ],
            "type": "heatmapgl"
           }
          ],
          "histogram": [
           {
            "marker": {
             "colorbar": {
              "outlinewidth": 0,
              "ticks": ""
             }
            },
            "type": "histogram"
           }
          ],
          "histogram2d": [
           {
            "colorbar": {
             "outlinewidth": 0,
             "ticks": ""
            },
            "colorscale": [
             [
              0,
              "#0d0887"
             ],
             [
              0.1111111111111111,
              "#46039f"
             ],
             [
              0.2222222222222222,
              "#7201a8"
             ],
             [
              0.3333333333333333,
              "#9c179e"
             ],
             [
              0.4444444444444444,
              "#bd3786"
             ],
             [
              0.5555555555555556,
              "#d8576b"
             ],
             [
              0.6666666666666666,
              "#ed7953"
             ],
             [
              0.7777777777777778,
              "#fb9f3a"
             ],
             [
              0.8888888888888888,
              "#fdca26"
             ],
             [
              1,
              "#f0f921"
             ]
            ],
            "type": "histogram2d"
           }
          ],
          "histogram2dcontour": [
           {
            "colorbar": {
             "outlinewidth": 0,
             "ticks": ""
            },
            "colorscale": [
             [
              0,
              "#0d0887"
             ],
             [
              0.1111111111111111,
              "#46039f"
             ],
             [
              0.2222222222222222,
              "#7201a8"
             ],
             [
              0.3333333333333333,
              "#9c179e"
             ],
             [
              0.4444444444444444,
              "#bd3786"
             ],
             [
              0.5555555555555556,
              "#d8576b"
             ],
             [
              0.6666666666666666,
              "#ed7953"
             ],
             [
              0.7777777777777778,
              "#fb9f3a"
             ],
             [
              0.8888888888888888,
              "#fdca26"
             ],
             [
              1,
              "#f0f921"
             ]
            ],
            "type": "histogram2dcontour"
           }
          ],
          "mesh3d": [
           {
            "colorbar": {
             "outlinewidth": 0,
             "ticks": ""
            },
            "type": "mesh3d"
           }
          ],
          "parcoords": [
           {
            "line": {
             "colorbar": {
              "outlinewidth": 0,
              "ticks": ""
             }
            },
            "type": "parcoords"
           }
          ],
          "pie": [
           {
            "automargin": true,
            "type": "pie"
           }
          ],
          "scatter": [
           {
            "marker": {
             "colorbar": {
              "outlinewidth": 0,
              "ticks": ""
             }
            },
            "type": "scatter"
           }
          ],
          "scatter3d": [
           {
            "line": {
             "colorbar": {
              "outlinewidth": 0,
              "ticks": ""
             }
            },
            "marker": {
             "colorbar": {
              "outlinewidth": 0,
              "ticks": ""
             }
            },
            "type": "scatter3d"
           }
          ],
          "scattercarpet": [
           {
            "marker": {
             "colorbar": {
              "outlinewidth": 0,
              "ticks": ""
             }
            },
            "type": "scattercarpet"
           }
          ],
          "scattergeo": [
           {
            "marker": {
             "colorbar": {
              "outlinewidth": 0,
              "ticks": ""
             }
            },
            "type": "scattergeo"
           }
          ],
          "scattergl": [
           {
            "marker": {
             "colorbar": {
              "outlinewidth": 0,
              "ticks": ""
             }
            },
            "type": "scattergl"
           }
          ],
          "scattermapbox": [
           {
            "marker": {
             "colorbar": {
              "outlinewidth": 0,
              "ticks": ""
             }
            },
            "type": "scattermapbox"
           }
          ],
          "scatterpolar": [
           {
            "marker": {
             "colorbar": {
              "outlinewidth": 0,
              "ticks": ""
             }
            },
            "type": "scatterpolar"
           }
          ],
          "scatterpolargl": [
           {
            "marker": {
             "colorbar": {
              "outlinewidth": 0,
              "ticks": ""
             }
            },
            "type": "scatterpolargl"
           }
          ],
          "scatterternary": [
           {
            "marker": {
             "colorbar": {
              "outlinewidth": 0,
              "ticks": ""
             }
            },
            "type": "scatterternary"
           }
          ],
          "surface": [
           {
            "colorbar": {
             "outlinewidth": 0,
             "ticks": ""
            },
            "colorscale": [
             [
              0,
              "#0d0887"
             ],
             [
              0.1111111111111111,
              "#46039f"
             ],
             [
              0.2222222222222222,
              "#7201a8"
             ],
             [
              0.3333333333333333,
              "#9c179e"
             ],
             [
              0.4444444444444444,
              "#bd3786"
             ],
             [
              0.5555555555555556,
              "#d8576b"
             ],
             [
              0.6666666666666666,
              "#ed7953"
             ],
             [
              0.7777777777777778,
              "#fb9f3a"
             ],
             [
              0.8888888888888888,
              "#fdca26"
             ],
             [
              1,
              "#f0f921"
             ]
            ],
            "type": "surface"
           }
          ],
          "table": [
           {
            "cells": {
             "fill": {
              "color": "#EBF0F8"
             },
             "line": {
              "color": "white"
             }
            },
            "header": {
             "fill": {
              "color": "#C8D4E3"
             },
             "line": {
              "color": "white"
             }
            },
            "type": "table"
           }
          ]
         },
         "layout": {
          "annotationdefaults": {
           "arrowcolor": "#2a3f5f",
           "arrowhead": 0,
           "arrowwidth": 1
          },
          "coloraxis": {
           "colorbar": {
            "outlinewidth": 0,
            "ticks": ""
           }
          },
          "colorscale": {
           "diverging": [
            [
             0,
             "#8e0152"
            ],
            [
             0.1,
             "#c51b7d"
            ],
            [
             0.2,
             "#de77ae"
            ],
            [
             0.3,
             "#f1b6da"
            ],
            [
             0.4,
             "#fde0ef"
            ],
            [
             0.5,
             "#f7f7f7"
            ],
            [
             0.6,
             "#e6f5d0"
            ],
            [
             0.7,
             "#b8e186"
            ],
            [
             0.8,
             "#7fbc41"
            ],
            [
             0.9,
             "#4d9221"
            ],
            [
             1,
             "#276419"
            ]
           ],
           "sequential": [
            [
             0,
             "#0d0887"
            ],
            [
             0.1111111111111111,
             "#46039f"
            ],
            [
             0.2222222222222222,
             "#7201a8"
            ],
            [
             0.3333333333333333,
             "#9c179e"
            ],
            [
             0.4444444444444444,
             "#bd3786"
            ],
            [
             0.5555555555555556,
             "#d8576b"
            ],
            [
             0.6666666666666666,
             "#ed7953"
            ],
            [
             0.7777777777777778,
             "#fb9f3a"
            ],
            [
             0.8888888888888888,
             "#fdca26"
            ],
            [
             1,
             "#f0f921"
            ]
           ],
           "sequentialminus": [
            [
             0,
             "#0d0887"
            ],
            [
             0.1111111111111111,
             "#46039f"
            ],
            [
             0.2222222222222222,
             "#7201a8"
            ],
            [
             0.3333333333333333,
             "#9c179e"
            ],
            [
             0.4444444444444444,
             "#bd3786"
            ],
            [
             0.5555555555555556,
             "#d8576b"
            ],
            [
             0.6666666666666666,
             "#ed7953"
            ],
            [
             0.7777777777777778,
             "#fb9f3a"
            ],
            [
             0.8888888888888888,
             "#fdca26"
            ],
            [
             1,
             "#f0f921"
            ]
           ]
          },
          "colorway": [
           "#636efa",
           "#EF553B",
           "#00cc96",
           "#ab63fa",
           "#FFA15A",
           "#19d3f3",
           "#FF6692",
           "#B6E880",
           "#FF97FF",
           "#FECB52"
          ],
          "font": {
           "color": "#2a3f5f"
          },
          "geo": {
           "bgcolor": "white",
           "lakecolor": "white",
           "landcolor": "#E5ECF6",
           "showlakes": true,
           "showland": true,
           "subunitcolor": "white"
          },
          "hoverlabel": {
           "align": "left"
          },
          "hovermode": "closest",
          "mapbox": {
           "style": "light"
          },
          "paper_bgcolor": "white",
          "plot_bgcolor": "#E5ECF6",
          "polar": {
           "angularaxis": {
            "gridcolor": "white",
            "linecolor": "white",
            "ticks": ""
           },
           "bgcolor": "#E5ECF6",
           "radialaxis": {
            "gridcolor": "white",
            "linecolor": "white",
            "ticks": ""
           }
          },
          "scene": {
           "xaxis": {
            "backgroundcolor": "#E5ECF6",
            "gridcolor": "white",
            "gridwidth": 2,
            "linecolor": "white",
            "showbackground": true,
            "ticks": "",
            "zerolinecolor": "white"
           },
           "yaxis": {
            "backgroundcolor": "#E5ECF6",
            "gridcolor": "white",
            "gridwidth": 2,
            "linecolor": "white",
            "showbackground": true,
            "ticks": "",
            "zerolinecolor": "white"
           },
           "zaxis": {
            "backgroundcolor": "#E5ECF6",
            "gridcolor": "white",
            "gridwidth": 2,
            "linecolor": "white",
            "showbackground": true,
            "ticks": "",
            "zerolinecolor": "white"
           }
          },
          "shapedefaults": {
           "line": {
            "color": "#2a3f5f"
           }
          },
          "ternary": {
           "aaxis": {
            "gridcolor": "white",
            "linecolor": "white",
            "ticks": ""
           },
           "baxis": {
            "gridcolor": "white",
            "linecolor": "white",
            "ticks": ""
           },
           "bgcolor": "#E5ECF6",
           "caxis": {
            "gridcolor": "white",
            "linecolor": "white",
            "ticks": ""
           }
          },
          "title": {
           "x": 0.05
          },
          "xaxis": {
           "automargin": true,
           "gridcolor": "white",
           "linecolor": "white",
           "ticks": "",
           "title": {
            "standoff": 15
           },
           "zerolinecolor": "white",
           "zerolinewidth": 2
          },
          "yaxis": {
           "automargin": true,
           "gridcolor": "white",
           "linecolor": "white",
           "ticks": "",
           "title": {
            "standoff": 15
           },
           "zerolinecolor": "white",
           "zerolinewidth": 2
          }
         }
        },
        "title": {
         "text": "Number of Tickets Issued Per Day"
        },
        "xaxis": {
         "title": {
          "text": "Date"
         }
        },
        "yaxis": {
         "title": {
          "text": "Month"
         }
        }
       }
      },
      "text/html": [
       "<div>                            <div id=\"ba7e6d7d-d616-4883-a43e-4ce59e52a256\" class=\"plotly-graph-div\" style=\"height:525px; width:100%;\"></div>            <script type=\"text/javascript\">                require([\"plotly\"], function(Plotly) {                    window.PLOTLYENV=window.PLOTLYENV || {};                                    if (document.getElementById(\"ba7e6d7d-d616-4883-a43e-4ce59e52a256\")) {                    Plotly.newPlot(                        \"ba7e6d7d-d616-4883-a43e-4ce59e52a256\",                        [{\"colorscale\": [[0.0, \"rgb(228, 241, 225)\"], [0.16666666666666666, \"rgb(180, 217, 204)\"], [0.3333333333333333, \"rgb(137, 192, 182)\"], [0.5, \"rgb(99, 166, 160)\"], [0.6666666666666666, \"rgb(68, 140, 138)\"], [0.8333333333333334, \"rgb(40, 114, 116)\"], [1.0, \"rgb(13, 88, 95)\"]], \"type\": \"heatmap\", \"x\": [\"01\", \"02\", \"03\", \"04\", \"05\", \"06\", \"07\", \"08\", \"09\", \"10\", \"11\", \"12\", \"13\", \"14\", \"15\", \"16\", \"17\", \"18\", \"19\", \"20\", \"21\", \"22\", \"23\", \"24\", \"25\", \"26\", \"27\", \"28\", \"29\", \"30\", \"31\", \"01\", \"02\", \"03\", \"04\", \"05\", \"06\", \"07\", \"08\", \"09\", \"10\", \"11\", \"12\", \"13\", \"14\", \"15\", \"16\", \"17\", \"18\", \"19\", \"20\", \"21\", \"22\", \"23\", \"24\", \"25\", \"26\", \"27\", \"28\", \"01\", \"02\", \"03\", \"04\", \"05\", \"06\", \"07\", \"08\", \"09\", \"10\", \"11\", \"12\", \"13\", \"14\", \"15\", \"16\", \"17\", \"18\", \"19\", \"20\", \"21\", \"22\", \"23\", \"24\", \"25\", \"26\", \"27\", \"28\", \"29\", \"30\", \"31\", \"01\", \"02\", \"03\", \"04\", \"05\", \"06\", \"07\", \"08\", \"09\", \"10\", \"11\", \"12\", \"13\", \"14\", \"15\", \"16\", \"17\", \"18\", \"19\", \"20\", \"21\", \"22\", \"23\", \"24\", \"25\", \"26\", \"27\", \"28\", \"29\", \"30\", \"01\", \"02\", \"03\", \"04\", \"05\", \"06\", \"07\", \"08\", \"09\", \"10\", \"11\", \"12\", \"13\", \"14\", \"15\", \"16\", \"17\"], \"y\": [\"01\", \"01\", \"01\", \"01\", \"01\", \"01\", \"01\", \"01\", \"01\", \"01\", \"01\", \"01\", \"01\", \"01\", \"01\", \"01\", \"01\", \"01\", \"01\", \"01\", \"01\", \"01\", \"01\", \"01\", \"01\", \"01\", \"01\", \"01\", \"01\", \"01\", \"01\", \"02\", \"02\", \"02\", \"02\", \"02\", \"02\", \"02\", \"02\", \"02\", \"02\", \"02\", \"02\", \"02\", \"02\", \"02\", \"02\", \"02\", \"02\", \"02\", \"02\", \"02\", \"02\", \"02\", \"02\", \"02\", \"02\", \"02\", \"02\", \"03\", \"03\", \"03\", \"03\", \"03\", \"03\", \"03\", \"03\", \"03\", \"03\", \"03\", \"03\", \"03\", \"03\", \"03\", \"03\", \"03\", \"03\", \"03\", \"03\", \"03\", \"03\", \"03\", \"03\", \"03\", \"03\", \"03\", \"03\", \"03\", \"03\", \"03\", \"04\", \"04\", \"04\", \"04\", \"04\", \"04\", \"04\", \"04\", \"04\", \"04\", \"04\", \"04\", \"04\", \"04\", \"04\", \"04\", \"04\", \"04\", \"04\", \"04\", \"04\", \"04\", \"04\", \"04\", \"04\", \"04\", \"04\", \"04\", \"04\", \"04\", \"05\", \"05\", \"05\", \"05\", \"05\", \"05\", \"05\", \"05\", \"05\", \"05\", \"05\", \"05\", \"05\", \"05\", \"05\", \"05\", \"05\"], \"z\": [1269, 5489, 5104, 5002, 4177, 2831, 3039, 4424, 6101, 5849, 5501, 5048, 3702, 3541, 5171, 4978, 5550, 5991, 6506, 5217, 3711, 5429, 6671, 5892, 6500, 6916, 6130, 4330, 5083, 4571, 4902, 5770, 5422, 4656, 2750, 4742, 5897, 3786, 5614, 4842, 3866, 3257, 5235, 5893, 6242, 5867, 6139, 5606, 4611, 2647, 5698, 5761, 6296, 6456, 5745, 4040, 6306, 6325, 6569, 6460, 5877, 6377, 5013, 6113, 6222, 6177, 6340, 6624, 5580, 4357, 6275, 5654, 5984, 6308, 5881, 5908, 4989, 5755, 6887, 6565, 6375, 6708, 5878, 5002, 6266, 6145, 6354, 5532, 2551, 5195, 2389, 2775, 6399, 6014, 7151, 6569, 5897, 4858, 6708, 6943, 6327, 5816, 6451, 3340, 1448, 3250, 5563, 6834, 6330, 7319, 5777, 4356, 6380, 7043, 6008, 6571, 5908, 5516, 3516, 6370, 7717, 6704, 6329, 6461, 4419, 3638, 6772, 6964, 7000, 6724, 6570, 5474, 4144, 6024, 6178, 7544, 3497]}],                        {\"template\": {\"data\": {\"bar\": [{\"error_x\": {\"color\": \"#2a3f5f\"}, \"error_y\": {\"color\": \"#2a3f5f\"}, \"marker\": {\"line\": {\"color\": \"#E5ECF6\", \"width\": 0.5}}, \"type\": \"bar\"}], \"barpolar\": [{\"marker\": {\"line\": {\"color\": \"#E5ECF6\", \"width\": 0.5}}, \"type\": \"barpolar\"}], \"carpet\": [{\"aaxis\": {\"endlinecolor\": \"#2a3f5f\", \"gridcolor\": \"white\", \"linecolor\": \"white\", \"minorgridcolor\": \"white\", \"startlinecolor\": \"#2a3f5f\"}, \"baxis\": {\"endlinecolor\": \"#2a3f5f\", \"gridcolor\": \"white\", \"linecolor\": \"white\", \"minorgridcolor\": \"white\", \"startlinecolor\": \"#2a3f5f\"}, \"type\": \"carpet\"}], \"choropleth\": [{\"colorbar\": {\"outlinewidth\": 0, \"ticks\": \"\"}, \"type\": \"choropleth\"}], \"contour\": [{\"colorbar\": {\"outlinewidth\": 0, \"ticks\": \"\"}, \"colorscale\": [[0.0, \"#0d0887\"], [0.1111111111111111, \"#46039f\"], [0.2222222222222222, \"#7201a8\"], [0.3333333333333333, \"#9c179e\"], [0.4444444444444444, \"#bd3786\"], [0.5555555555555556, \"#d8576b\"], [0.6666666666666666, \"#ed7953\"], [0.7777777777777778, \"#fb9f3a\"], [0.8888888888888888, \"#fdca26\"], [1.0, \"#f0f921\"]], \"type\": \"contour\"}], \"contourcarpet\": [{\"colorbar\": {\"outlinewidth\": 0, \"ticks\": \"\"}, \"type\": \"contourcarpet\"}], \"heatmap\": [{\"colorbar\": {\"outlinewidth\": 0, \"ticks\": \"\"}, \"colorscale\": [[0.0, \"#0d0887\"], [0.1111111111111111, \"#46039f\"], [0.2222222222222222, \"#7201a8\"], [0.3333333333333333, \"#9c179e\"], [0.4444444444444444, \"#bd3786\"], [0.5555555555555556, \"#d8576b\"], [0.6666666666666666, \"#ed7953\"], [0.7777777777777778, \"#fb9f3a\"], [0.8888888888888888, \"#fdca26\"], [1.0, \"#f0f921\"]], \"type\": \"heatmap\"}], \"heatmapgl\": [{\"colorbar\": {\"outlinewidth\": 0, \"ticks\": \"\"}, \"colorscale\": [[0.0, \"#0d0887\"], [0.1111111111111111, \"#46039f\"], [0.2222222222222222, \"#7201a8\"], [0.3333333333333333, \"#9c179e\"], [0.4444444444444444, \"#bd3786\"], [0.5555555555555556, \"#d8576b\"], [0.6666666666666666, \"#ed7953\"], [0.7777777777777778, \"#fb9f3a\"], [0.8888888888888888, \"#fdca26\"], [1.0, \"#f0f921\"]], \"type\": \"heatmapgl\"}], \"histogram\": [{\"marker\": {\"colorbar\": {\"outlinewidth\": 0, \"ticks\": \"\"}}, \"type\": \"histogram\"}], \"histogram2d\": [{\"colorbar\": {\"outlinewidth\": 0, \"ticks\": \"\"}, \"colorscale\": [[0.0, \"#0d0887\"], [0.1111111111111111, \"#46039f\"], [0.2222222222222222, \"#7201a8\"], [0.3333333333333333, \"#9c179e\"], [0.4444444444444444, \"#bd3786\"], [0.5555555555555556, \"#d8576b\"], [0.6666666666666666, \"#ed7953\"], [0.7777777777777778, \"#fb9f3a\"], [0.8888888888888888, \"#fdca26\"], [1.0, \"#f0f921\"]], \"type\": \"histogram2d\"}], \"histogram2dcontour\": [{\"colorbar\": {\"outlinewidth\": 0, \"ticks\": \"\"}, \"colorscale\": [[0.0, \"#0d0887\"], [0.1111111111111111, \"#46039f\"], [0.2222222222222222, \"#7201a8\"], [0.3333333333333333, \"#9c179e\"], [0.4444444444444444, \"#bd3786\"], [0.5555555555555556, \"#d8576b\"], [0.6666666666666666, \"#ed7953\"], [0.7777777777777778, \"#fb9f3a\"], [0.8888888888888888, \"#fdca26\"], [1.0, \"#f0f921\"]], \"type\": \"histogram2dcontour\"}], \"mesh3d\": [{\"colorbar\": {\"outlinewidth\": 0, \"ticks\": \"\"}, \"type\": \"mesh3d\"}], \"parcoords\": [{\"line\": {\"colorbar\": {\"outlinewidth\": 0, \"ticks\": \"\"}}, \"type\": \"parcoords\"}], \"pie\": [{\"automargin\": true, \"type\": \"pie\"}], \"scatter\": [{\"marker\": {\"colorbar\": {\"outlinewidth\": 0, \"ticks\": \"\"}}, \"type\": \"scatter\"}], \"scatter3d\": [{\"line\": {\"colorbar\": {\"outlinewidth\": 0, \"ticks\": \"\"}}, \"marker\": {\"colorbar\": {\"outlinewidth\": 0, \"ticks\": \"\"}}, \"type\": \"scatter3d\"}], \"scattercarpet\": [{\"marker\": {\"colorbar\": {\"outlinewidth\": 0, \"ticks\": \"\"}}, \"type\": \"scattercarpet\"}], \"scattergeo\": [{\"marker\": {\"colorbar\": {\"outlinewidth\": 0, \"ticks\": \"\"}}, \"type\": \"scattergeo\"}], \"scattergl\": [{\"marker\": {\"colorbar\": {\"outlinewidth\": 0, \"ticks\": \"\"}}, \"type\": \"scattergl\"}], \"scattermapbox\": [{\"marker\": {\"colorbar\": {\"outlinewidth\": 0, \"ticks\": \"\"}}, \"type\": \"scattermapbox\"}], \"scatterpolar\": [{\"marker\": {\"colorbar\": {\"outlinewidth\": 0, \"ticks\": \"\"}}, \"type\": \"scatterpolar\"}], \"scatterpolargl\": [{\"marker\": {\"colorbar\": {\"outlinewidth\": 0, \"ticks\": \"\"}}, \"type\": \"scatterpolargl\"}], \"scatterternary\": [{\"marker\": {\"colorbar\": {\"outlinewidth\": 0, \"ticks\": \"\"}}, \"type\": \"scatterternary\"}], \"surface\": [{\"colorbar\": {\"outlinewidth\": 0, \"ticks\": \"\"}, \"colorscale\": [[0.0, \"#0d0887\"], [0.1111111111111111, \"#46039f\"], [0.2222222222222222, \"#7201a8\"], [0.3333333333333333, \"#9c179e\"], [0.4444444444444444, \"#bd3786\"], [0.5555555555555556, \"#d8576b\"], [0.6666666666666666, \"#ed7953\"], [0.7777777777777778, \"#fb9f3a\"], [0.8888888888888888, \"#fdca26\"], [1.0, \"#f0f921\"]], \"type\": \"surface\"}], \"table\": [{\"cells\": {\"fill\": {\"color\": \"#EBF0F8\"}, \"line\": {\"color\": \"white\"}}, \"header\": {\"fill\": {\"color\": \"#C8D4E3\"}, \"line\": {\"color\": \"white\"}}, \"type\": \"table\"}]}, \"layout\": {\"annotationdefaults\": {\"arrowcolor\": \"#2a3f5f\", \"arrowhead\": 0, \"arrowwidth\": 1}, \"coloraxis\": {\"colorbar\": {\"outlinewidth\": 0, \"ticks\": \"\"}}, \"colorscale\": {\"diverging\": [[0, \"#8e0152\"], [0.1, \"#c51b7d\"], [0.2, \"#de77ae\"], [0.3, \"#f1b6da\"], [0.4, \"#fde0ef\"], [0.5, \"#f7f7f7\"], [0.6, \"#e6f5d0\"], [0.7, \"#b8e186\"], [0.8, \"#7fbc41\"], [0.9, \"#4d9221\"], [1, \"#276419\"]], \"sequential\": [[0.0, \"#0d0887\"], [0.1111111111111111, \"#46039f\"], [0.2222222222222222, \"#7201a8\"], [0.3333333333333333, \"#9c179e\"], [0.4444444444444444, \"#bd3786\"], [0.5555555555555556, \"#d8576b\"], [0.6666666666666666, \"#ed7953\"], [0.7777777777777778, \"#fb9f3a\"], [0.8888888888888888, \"#fdca26\"], [1.0, \"#f0f921\"]], \"sequentialminus\": [[0.0, \"#0d0887\"], [0.1111111111111111, \"#46039f\"], [0.2222222222222222, \"#7201a8\"], [0.3333333333333333, \"#9c179e\"], [0.4444444444444444, \"#bd3786\"], [0.5555555555555556, \"#d8576b\"], [0.6666666666666666, \"#ed7953\"], [0.7777777777777778, \"#fb9f3a\"], [0.8888888888888888, \"#fdca26\"], [1.0, \"#f0f921\"]]}, \"colorway\": [\"#636efa\", \"#EF553B\", \"#00cc96\", \"#ab63fa\", \"#FFA15A\", \"#19d3f3\", \"#FF6692\", \"#B6E880\", \"#FF97FF\", \"#FECB52\"], \"font\": {\"color\": \"#2a3f5f\"}, \"geo\": {\"bgcolor\": \"white\", \"lakecolor\": \"white\", \"landcolor\": \"#E5ECF6\", \"showlakes\": true, \"showland\": true, \"subunitcolor\": \"white\"}, \"hoverlabel\": {\"align\": \"left\"}, \"hovermode\": \"closest\", \"mapbox\": {\"style\": \"light\"}, \"paper_bgcolor\": \"white\", \"plot_bgcolor\": \"#E5ECF6\", \"polar\": {\"angularaxis\": {\"gridcolor\": \"white\", \"linecolor\": \"white\", \"ticks\": \"\"}, \"bgcolor\": \"#E5ECF6\", \"radialaxis\": {\"gridcolor\": \"white\", \"linecolor\": \"white\", \"ticks\": \"\"}}, \"scene\": {\"xaxis\": {\"backgroundcolor\": \"#E5ECF6\", \"gridcolor\": \"white\", \"gridwidth\": 2, \"linecolor\": \"white\", \"showbackground\": true, \"ticks\": \"\", \"zerolinecolor\": \"white\"}, \"yaxis\": {\"backgroundcolor\": \"#E5ECF6\", \"gridcolor\": \"white\", \"gridwidth\": 2, \"linecolor\": \"white\", \"showbackground\": true, \"ticks\": \"\", \"zerolinecolor\": \"white\"}, \"zaxis\": {\"backgroundcolor\": \"#E5ECF6\", \"gridcolor\": \"white\", \"gridwidth\": 2, \"linecolor\": \"white\", \"showbackground\": true, \"ticks\": \"\", \"zerolinecolor\": \"white\"}}, \"shapedefaults\": {\"line\": {\"color\": \"#2a3f5f\"}}, \"ternary\": {\"aaxis\": {\"gridcolor\": \"white\", \"linecolor\": \"white\", \"ticks\": \"\"}, \"baxis\": {\"gridcolor\": \"white\", \"linecolor\": \"white\", \"ticks\": \"\"}, \"bgcolor\": \"#E5ECF6\", \"caxis\": {\"gridcolor\": \"white\", \"linecolor\": \"white\", \"ticks\": \"\"}}, \"title\": {\"x\": 0.05}, \"xaxis\": {\"automargin\": true, \"gridcolor\": \"white\", \"linecolor\": \"white\", \"ticks\": \"\", \"title\": {\"standoff\": 15}, \"zerolinecolor\": \"white\", \"zerolinewidth\": 2}, \"yaxis\": {\"automargin\": true, \"gridcolor\": \"white\", \"linecolor\": \"white\", \"ticks\": \"\", \"title\": {\"standoff\": 15}, \"zerolinecolor\": \"white\", \"zerolinewidth\": 2}}}, \"title\": {\"text\": \"Number of Tickets Issued Per Day\"}, \"xaxis\": {\"title\": {\"text\": \"Date\"}}, \"yaxis\": {\"title\": {\"text\": \"Month\"}}},                        {\"responsive\": true}                    ).then(function(){\n",
       "                            \n",
       "var gd = document.getElementById('ba7e6d7d-d616-4883-a43e-4ce59e52a256');\n",
       "var x = new MutationObserver(function (mutations, observer) {{\n",
       "        var display = window.getComputedStyle(gd).display;\n",
       "        if (!display || display === 'none') {{\n",
       "            console.log([gd, 'removed!']);\n",
       "            Plotly.purge(gd);\n",
       "            observer.disconnect();\n",
       "        }}\n",
       "}});\n",
       "\n",
       "// Listen for the removal of the full notebook cells\n",
       "var notebookContainer = gd.closest('#notebook-container');\n",
       "if (notebookContainer) {{\n",
       "    x.observe(notebookContainer, {childList: true});\n",
       "}}\n",
       "\n",
       "// Listen for the clearing of the current output cell\n",
       "var outputEl = gd.closest('.output');\n",
       "if (outputEl) {{\n",
       "    x.observe(outputEl, {childList: true});\n",
       "}}\n",
       "\n",
       "                        })                };                });            </script>        </div>"
      ]
     },
     "metadata": {},
     "output_type": "display_data"
    }
   ],
   "source": [
    "# display as heatmap\n",
    "\n",
    "fig_heatmap = go.Figure(data=go.Heatmap(\n",
    "                        z=daily_infraction_df['tag_number_masked'],\n",
    "                        x=daily_infraction_df['infraction_date'], \n",
    "                        y=daily_infraction_df['infraction_mth'],\n",
    "                        colorscale='Mint'\n",
    "                        ))\n",
    "\n",
    "fig_heatmap.update_xaxes(title_text = 'Date')\n",
    "fig_heatmap.update_yaxes(title_text = 'Month')\n",
    "fig_heatmap.update_layout(title_text='Number of Tickets Issued Per Day')\n",
    "\n",
    "fig_heatmap.show()"
   ]
  },
  {
   "cell_type": "code",
   "execution_count": 31,
   "metadata": {},
   "outputs": [
    {
     "name": "stdout",
     "output_type": "stream",
     "text": [
      "    infraction_yr          infraction_description  set_fine_amount  \\\n",
      "84           2018  PARK-SIGNED HWY-PROHIBIT DY/TM               50   \n",
      "43           2018        PARK ON PRIVATE PROPERTY               30   \n",
      "139          2018   STOP-SIGNED HIGHWAY-RUSH HOUR              150   \n",
      "51           2018  PARK PROHIBITED TIME NO PERMIT               30   \n",
      "34           2018  PARK MACHINE-REQD FEE NOT PAID               30   \n",
      "..            ...                             ...              ...   \n",
      "102          2018      STAND SIGNED TAXICAB STAND                0   \n",
      "110          2018    STAND VEHICLE-SIGNED HIGHWAY                0   \n",
      "111          2018  STAND VEHICLE-SIGNED HIGHWAY-3                0   \n",
      "125          2018    STOP SIDE STOPPED/PARKED VEH                0   \n",
      "144          2018  STOP/STAND/PARK VEND NO PERMIT                0   \n",
      "\n",
      "     tag_number_masked  total_fine_amt  \n",
      "84              118228         5911400  \n",
      "43              143717         4311510  \n",
      "139              25037         3755550  \n",
      "51              110124         3303720  \n",
      "34               82637         2479110  \n",
      "..                 ...             ...  \n",
      "102                  1               0  \n",
      "110                  1               0  \n",
      "111                  1               0  \n",
      "125                  1               0  \n",
      "144                  1               0  \n",
      "\n",
      "[145 rows x 5 columns]\n"
     ]
    }
   ],
   "source": [
    "# Highest to the lowest Total Fine Amount by type\n",
    "\n",
    "fine_type_df = pd.DataFrame(df.groupby(['infraction_yr','infraction_description', 'set_fine_amount']).tag_number_masked.count()).reset_index()\n",
    "fine_type_df['total_fine_amt'] = fine_type_df['set_fine_amount'] * fine_type_df['tag_number_masked']\n",
    "\n",
    "print(fine_type_df.sort_values(by=['total_fine_amt', 'tag_number_masked'], ascending=False))"
   ]
  },
  {
   "cell_type": "code",
   "execution_count": 86,
   "metadata": {},
   "outputs": [
    {
     "data": {
      "application/vnd.plotly.v1+json": {
       "config": {
        "plotlyServerURL": "https://plot.ly"
       },
       "data": [
        {
         "type": "bar",
         "x": [
          "FAIL ANGLE PARK/STOP AT 45 DEG",
          "FAIL PARK/STP LEFT WHLS PARALL",
          "FAIL PARK/STP NEAR RIGHT LIMIT",
          "FAIL TO (PARK/STOP) ANGLE SPCE",
          "FAIL TO PARK/STOP PARALL. CURB",
          "FAIL TO PARK/STOP PARALL. RGHT",
          "PARAL PRK-MTRD-FR WHLS NO OPP",
          "PARK - 2 SPACES - NO FEE",
          "PARK - BETWEEN ROAD & SIDEWALK",
          "PARK - BOULEVD NO VALID PLATES",
          "PARK - LONGER THAN 3 HOURS",
          "PARK - LONGER THAN 3 HOURS ",
          "PARK - NOT WITHIN PERIOD",
          "PARK - ON BOULEVARD",
          "PARK - ON FRONT YARD",
          "PARK ACC NO PERMIT",
          "PARK ACCESSIBLE LOAD NO PERMIT",
          "PARK ACCESSIBLE LOAD NOT DRP/O",
          "PARK ACCESSIBLE LOAD NOT DRP/O",
          "PARK ACCESSIBLE NOT DROP OFF",
          "PARK BUS-SIGNED HWY-PROH DY/TM",
          "PARK COMMERC LOAD ZONE NOT LDG",
          "PARK CONTRARY POSTED CONDITION",
          "PARK E-VEH. IN EV SP EXCESS TM",
          "PARK FAIL TO DEPOSIT FEE METER",
          "PARK HEAVY (TRUCK/VEH.) TM/DY",
          "PARK HWY PROHIBITED TIMES/DAYS",
          "PARK IN A FIRE ROUTE",
          "PARK IN ACCESSIBLE NO PERMIT",
          "PARK IN PARK NOT IN DESIG AREA",
          "PARK LESS THAN 0.3M FROM WALL",
          "PARK LT 0.3M FROM SIDEWALK",
          "PARK MACHINE-FAIL TO ACTIVATE",
          "PARK MACHINE-NOT IN PERMITD TM",
          "PARK MACHINE-REQD FEE NOT PAID",
          "PARK MORE THAN 7DAYS NO PERMIT",
          "PARK MTR REC VE NOT DESIG AREA",
          "PARK NON-BUS-BUS PK ZNE DY/TM",
          "PARK NON-MTRCYCLE IN MTRCYC SP",
          "PARK ON BOULEVARD",
          "PARK ON MUN PROP NO CONSENT",
          "PARK ON MUNICIPAL PROPERTY",
          "PARK ON PRIV PROP NO CONSENT",
          "PARK ON PRIVATE PROPERTY",
          "PARK ONSTRT ACCESSIBLE NO PRMT",
          "PARK ONSTRT ACCESSIBLE NO PRMT",
          "PARK ONSTRT ACCESSIBLE NOT D/O",
          "PARK OTHER THAN METERED SPACE",
          "PARK OVERNIGHT NO PERMIT",
          "PARK PRIVATE PROP NO CONSENT",
          "PARK PRO VEH ON BICYCLE PATH",
          "PARK PROHIBITED TIME NO PERMIT",
          "PARK TAXI FOR HIRE-UNAUTH LOC",
          "PARK VEH.-COMMERCIAL LOAD ZONE",
          "PARK VEH.-STRTCAR TRK SNOW RT",
          "PARK VEH.-WASH/GREASE/REPAIR",
          "PARK VEHICLE - FOR SALE",
          "PARK VEHICLE ON ROADWAY",
          "PARK VEHICLE OUTSIDE OF SPACE",
          "PARK VEHICLE PROHIBITED TIME",
          "PARK VEHICLE WHILE NOT IN PARK",
          "PARK-(FRNT/60 CM) DRWAY/LANEWY",
          "PARK-15M MAILBOX SAME SIDE",
          "PARK-15M OF DEAD END STREET",
          "PARK-30.5M APPROACH TO CRSSWLK",
          "PARK-30.5M FIRE HALL OPP SIDE",
          "PARK-30.5M SIGNALIZED INTERSCT",
          "PARK-7.5M FIRE HALL SAME SIDE",
          "PARK-FAIL TO ACTIVATE MACHINE",
          "PARK-FAIL TO DISPLAY PERMIT",
          "PARK-FRONT OF BLDG ENTRY/EXIT",
          "PARK-FRONT OF VEH NOT OPP MTR",
          "PARK-HWY DRNG PROH TIMES/DAYS",
          "PARK-HWY PROHIB TIMES/DAYS",
          "PARK-INTERF W FUNERAL PROCESS.",
          "PARK-ISSUED CARD NOT DISPLAYED",
          "PARK-N.YORK 2AM-6AM DEC1-MAR31",
          "PARK-OBSTRUCT (DRWAY/LANEWAY)",
          "PARK-PASSENGER/FREIGHT LOADING",
          "PARK-PREVENT VEHICLE REMOVAL",
          "PARK-SIGNED HWY-\"T\" INTERSECTN",
          "PARK-SIGNED HWY-15M INTERSECTN",
          "PARK-SIGNED HWY-EXC PERMT TIME",
          "PARK-SIGNED HWY-LESS THAN 6M W",
          "PARK-SIGNED HWY-PROHIBIT DY/TM",
          "PARK-SIGNED HWY-PUBLIC LANE",
          "PARK-SIGNED HWY-TURNING BASIN",
          "PARK-VEH. W/O VALID ONT PLATE",
          "PARK-W/O VALID NON-ONT PLATE",
          "PARK-WITHIN 3M OF FIRE HYDRANT",
          "PARK-WITHIN 9M INTERSECT ROAD",
          "PARK/LEAVE CONTRARY TO SIGN",
          "PARK/LEAVE UNPD PARKING INV",
          "PARK/LEAVE-FIRE ROUTE",
          "PARK/STAND CAR-SHARE VEH.-PERM",
          "PARK/STAND UNAUTH VEH. CAR SHR",
          "PARK/STOP RGHT WHLS > 30CM CRB",
          "PARKING MACH-NOT USED/NO FEE",
          "PRK/STP LEFT WHLS CLSE TO LEFT",
          "STAND ACCESSIBLE NOT DROP OFF",
          "STAND IN ACCESSIBLE NO PERMIT",
          "STAND NON-TAXI IN SIGNED STAND",
          "STAND SIGNED TAXICAB STAND",
          "STAND SIGNED TRANSIT STOP",
          "STAND TAXI-SIGNED STD-NOT HIRE",
          "STAND VEH.-PROHIBIT TIME/DAY",
          "STAND VEH.-PSGR LD ZN DAY TIME",
          "STAND VEH.-PSGR LD ZN LD/UNLD",
          "STAND VEH.-SIGNED HWY-RUSH HR",
          "STAND VEHICLE WHERE PROHIBITED",
          "STAND VEHICLE-SIGNED HIGHWAY",
          "STAND VEHICLE-SIGNED HIGHWAY-3",
          "STND ACCESSIBLE LOAD NO PERMIT",
          "STND ACCESSIBLE LOAD NOT DRP/O",
          "STND BUS-SIGNED HWY-PROH DY/TM",
          "STND ONSTRT ACCESSIBLE NO PRMT",
          "STND ONSTRT ACCESSIBLE NOT D/O",
          "STOP - IN UNDERPASS",
          "STOP - ON BRIDGE",
          "STOP - ON CENTRE STRIP",
          "STOP - ON MIDDLE BOULEVARD",
          "STOP BUS-SIGNED HWY-PROH DY/TM",
          "STOP NON-BICYCLE IN CYCLE TRCK",
          "STOP NON-BUS - BUS LOAD ZONE",
          "STOP ONSTRT ACCESSIBLE NO PRMT",
          "STOP SIDE STOPPED/PARKED VEH",
          "STOP VEH OTR THN BCYCL-BYCL LN",
          "STOP VEH.RESRVD/DESIG LN TM/DY",
          "STOP-(ON/OVER) (SIDEWK/FTPATH)",
          "STOP-15M PEDESTRIAN X APPROACH",
          "STOP-9 M PEDESTRIAN X BEYOND",
          "STOP-ACROSS FROM EXCAV./OBSTR.",
          "STOP-ADJACENT CENTRE STRIP END",
          "STOP-ADJACENT CNTRE STRIP SIDE",
          "STOP-ADJACENT MID. BOUL. END",
          "STOP-ADJACENT MID. BOUL. SIDE",
          "STOP-ALONGSIDE EXCAV./OBSTR.",
          "STOP-NON-SCHL BUS IN SCHL LDZN",
          "STOP-ROAD SIDE-STOP/PARK VEH.",
          "STOP-SIGNED HIGHWAY-RUSH HOUR",
          "STOP-SIGNED HWY-PROHIBIT TM/DY",
          "STOP-WITHIN (INTERSCTN/PED X)",
          "STOP-WITHIN 15M OF SAFETY ZONE",
          "STOP-WITHIN 9M OF SCHOOL CROSS",
          "STOP/STAND/PARK VEND NO PERMIT"
         ],
         "y": [
          30,
          30,
          30,
          30,
          30,
          30,
          30,
          30,
          50,
          50,
          15,
          0,
          30,
          50,
          50,
          300,
          450,
          0,
          450,
          450,
          300,
          40,
          100,
          60,
          30,
          90,
          0,
          250,
          450,
          100,
          50,
          50,
          30,
          30,
          30,
          30,
          175,
          150,
          40,
          0,
          0,
          30,
          0,
          30,
          0,
          450,
          450,
          30,
          100,
          0,
          60,
          30,
          40,
          40,
          200,
          15,
          15,
          30,
          30,
          30,
          100,
          50,
          40,
          40,
          40,
          40,
          50,
          40,
          30,
          30,
          40,
          30,
          0,
          0,
          40,
          30,
          40,
          50,
          0,
          40,
          40,
          50,
          40,
          40,
          50,
          40,
          40,
          40,
          40,
          100,
          50,
          30,
          30,
          0,
          60,
          60,
          30,
          30,
          30,
          450,
          450,
          60,
          0,
          150,
          60,
          60,
          60,
          60,
          150,
          55,
          0,
          0,
          450,
          450,
          300,
          450,
          450,
          60,
          60,
          60,
          60,
          300,
          150,
          300,
          450,
          0,
          150,
          150,
          150,
          60,
          60,
          60,
          60,
          60,
          60,
          60,
          60,
          60,
          150,
          150,
          60,
          60,
          60,
          60,
          0
         ]
        }
       ],
       "layout": {
        "template": {
         "data": {
          "bar": [
           {
            "error_x": {
             "color": "#2a3f5f"
            },
            "error_y": {
             "color": "#2a3f5f"
            },
            "marker": {
             "line": {
              "color": "#E5ECF6",
              "width": 0.5
             }
            },
            "type": "bar"
           }
          ],
          "barpolar": [
           {
            "marker": {
             "line": {
              "color": "#E5ECF6",
              "width": 0.5
             }
            },
            "type": "barpolar"
           }
          ],
          "carpet": [
           {
            "aaxis": {
             "endlinecolor": "#2a3f5f",
             "gridcolor": "white",
             "linecolor": "white",
             "minorgridcolor": "white",
             "startlinecolor": "#2a3f5f"
            },
            "baxis": {
             "endlinecolor": "#2a3f5f",
             "gridcolor": "white",
             "linecolor": "white",
             "minorgridcolor": "white",
             "startlinecolor": "#2a3f5f"
            },
            "type": "carpet"
           }
          ],
          "choropleth": [
           {
            "colorbar": {
             "outlinewidth": 0,
             "ticks": ""
            },
            "type": "choropleth"
           }
          ],
          "contour": [
           {
            "colorbar": {
             "outlinewidth": 0,
             "ticks": ""
            },
            "colorscale": [
             [
              0,
              "#0d0887"
             ],
             [
              0.1111111111111111,
              "#46039f"
             ],
             [
              0.2222222222222222,
              "#7201a8"
             ],
             [
              0.3333333333333333,
              "#9c179e"
             ],
             [
              0.4444444444444444,
              "#bd3786"
             ],
             [
              0.5555555555555556,
              "#d8576b"
             ],
             [
              0.6666666666666666,
              "#ed7953"
             ],
             [
              0.7777777777777778,
              "#fb9f3a"
             ],
             [
              0.8888888888888888,
              "#fdca26"
             ],
             [
              1,
              "#f0f921"
             ]
            ],
            "type": "contour"
           }
          ],
          "contourcarpet": [
           {
            "colorbar": {
             "outlinewidth": 0,
             "ticks": ""
            },
            "type": "contourcarpet"
           }
          ],
          "heatmap": [
           {
            "colorbar": {
             "outlinewidth": 0,
             "ticks": ""
            },
            "colorscale": [
             [
              0,
              "#0d0887"
             ],
             [
              0.1111111111111111,
              "#46039f"
             ],
             [
              0.2222222222222222,
              "#7201a8"
             ],
             [
              0.3333333333333333,
              "#9c179e"
             ],
             [
              0.4444444444444444,
              "#bd3786"
             ],
             [
              0.5555555555555556,
              "#d8576b"
             ],
             [
              0.6666666666666666,
              "#ed7953"
             ],
             [
              0.7777777777777778,
              "#fb9f3a"
             ],
             [
              0.8888888888888888,
              "#fdca26"
             ],
             [
              1,
              "#f0f921"
             ]
            ],
            "type": "heatmap"
           }
          ],
          "heatmapgl": [
           {
            "colorbar": {
             "outlinewidth": 0,
             "ticks": ""
            },
            "colorscale": [
             [
              0,
              "#0d0887"
             ],
             [
              0.1111111111111111,
              "#46039f"
             ],
             [
              0.2222222222222222,
              "#7201a8"
             ],
             [
              0.3333333333333333,
              "#9c179e"
             ],
             [
              0.4444444444444444,
              "#bd3786"
             ],
             [
              0.5555555555555556,
              "#d8576b"
             ],
             [
              0.6666666666666666,
              "#ed7953"
             ],
             [
              0.7777777777777778,
              "#fb9f3a"
             ],
             [
              0.8888888888888888,
              "#fdca26"
             ],
             [
              1,
              "#f0f921"
             ]
            ],
            "type": "heatmapgl"
           }
          ],
          "histogram": [
           {
            "marker": {
             "colorbar": {
              "outlinewidth": 0,
              "ticks": ""
             }
            },
            "type": "histogram"
           }
          ],
          "histogram2d": [
           {
            "colorbar": {
             "outlinewidth": 0,
             "ticks": ""
            },
            "colorscale": [
             [
              0,
              "#0d0887"
             ],
             [
              0.1111111111111111,
              "#46039f"
             ],
             [
              0.2222222222222222,
              "#7201a8"
             ],
             [
              0.3333333333333333,
              "#9c179e"
             ],
             [
              0.4444444444444444,
              "#bd3786"
             ],
             [
              0.5555555555555556,
              "#d8576b"
             ],
             [
              0.6666666666666666,
              "#ed7953"
             ],
             [
              0.7777777777777778,
              "#fb9f3a"
             ],
             [
              0.8888888888888888,
              "#fdca26"
             ],
             [
              1,
              "#f0f921"
             ]
            ],
            "type": "histogram2d"
           }
          ],
          "histogram2dcontour": [
           {
            "colorbar": {
             "outlinewidth": 0,
             "ticks": ""
            },
            "colorscale": [
             [
              0,
              "#0d0887"
             ],
             [
              0.1111111111111111,
              "#46039f"
             ],
             [
              0.2222222222222222,
              "#7201a8"
             ],
             [
              0.3333333333333333,
              "#9c179e"
             ],
             [
              0.4444444444444444,
              "#bd3786"
             ],
             [
              0.5555555555555556,
              "#d8576b"
             ],
             [
              0.6666666666666666,
              "#ed7953"
             ],
             [
              0.7777777777777778,
              "#fb9f3a"
             ],
             [
              0.8888888888888888,
              "#fdca26"
             ],
             [
              1,
              "#f0f921"
             ]
            ],
            "type": "histogram2dcontour"
           }
          ],
          "mesh3d": [
           {
            "colorbar": {
             "outlinewidth": 0,
             "ticks": ""
            },
            "type": "mesh3d"
           }
          ],
          "parcoords": [
           {
            "line": {
             "colorbar": {
              "outlinewidth": 0,
              "ticks": ""
             }
            },
            "type": "parcoords"
           }
          ],
          "pie": [
           {
            "automargin": true,
            "type": "pie"
           }
          ],
          "scatter": [
           {
            "marker": {
             "colorbar": {
              "outlinewidth": 0,
              "ticks": ""
             }
            },
            "type": "scatter"
           }
          ],
          "scatter3d": [
           {
            "line": {
             "colorbar": {
              "outlinewidth": 0,
              "ticks": ""
             }
            },
            "marker": {
             "colorbar": {
              "outlinewidth": 0,
              "ticks": ""
             }
            },
            "type": "scatter3d"
           }
          ],
          "scattercarpet": [
           {
            "marker": {
             "colorbar": {
              "outlinewidth": 0,
              "ticks": ""
             }
            },
            "type": "scattercarpet"
           }
          ],
          "scattergeo": [
           {
            "marker": {
             "colorbar": {
              "outlinewidth": 0,
              "ticks": ""
             }
            },
            "type": "scattergeo"
           }
          ],
          "scattergl": [
           {
            "marker": {
             "colorbar": {
              "outlinewidth": 0,
              "ticks": ""
             }
            },
            "type": "scattergl"
           }
          ],
          "scattermapbox": [
           {
            "marker": {
             "colorbar": {
              "outlinewidth": 0,
              "ticks": ""
             }
            },
            "type": "scattermapbox"
           }
          ],
          "scatterpolar": [
           {
            "marker": {
             "colorbar": {
              "outlinewidth": 0,
              "ticks": ""
             }
            },
            "type": "scatterpolar"
           }
          ],
          "scatterpolargl": [
           {
            "marker": {
             "colorbar": {
              "outlinewidth": 0,
              "ticks": ""
             }
            },
            "type": "scatterpolargl"
           }
          ],
          "scatterternary": [
           {
            "marker": {
             "colorbar": {
              "outlinewidth": 0,
              "ticks": ""
             }
            },
            "type": "scatterternary"
           }
          ],
          "surface": [
           {
            "colorbar": {
             "outlinewidth": 0,
             "ticks": ""
            },
            "colorscale": [
             [
              0,
              "#0d0887"
             ],
             [
              0.1111111111111111,
              "#46039f"
             ],
             [
              0.2222222222222222,
              "#7201a8"
             ],
             [
              0.3333333333333333,
              "#9c179e"
             ],
             [
              0.4444444444444444,
              "#bd3786"
             ],
             [
              0.5555555555555556,
              "#d8576b"
             ],
             [
              0.6666666666666666,
              "#ed7953"
             ],
             [
              0.7777777777777778,
              "#fb9f3a"
             ],
             [
              0.8888888888888888,
              "#fdca26"
             ],
             [
              1,
              "#f0f921"
             ]
            ],
            "type": "surface"
           }
          ],
          "table": [
           {
            "cells": {
             "fill": {
              "color": "#EBF0F8"
             },
             "line": {
              "color": "white"
             }
            },
            "header": {
             "fill": {
              "color": "#C8D4E3"
             },
             "line": {
              "color": "white"
             }
            },
            "type": "table"
           }
          ]
         },
         "layout": {
          "annotationdefaults": {
           "arrowcolor": "#2a3f5f",
           "arrowhead": 0,
           "arrowwidth": 1
          },
          "coloraxis": {
           "colorbar": {
            "outlinewidth": 0,
            "ticks": ""
           }
          },
          "colorscale": {
           "diverging": [
            [
             0,
             "#8e0152"
            ],
            [
             0.1,
             "#c51b7d"
            ],
            [
             0.2,
             "#de77ae"
            ],
            [
             0.3,
             "#f1b6da"
            ],
            [
             0.4,
             "#fde0ef"
            ],
            [
             0.5,
             "#f7f7f7"
            ],
            [
             0.6,
             "#e6f5d0"
            ],
            [
             0.7,
             "#b8e186"
            ],
            [
             0.8,
             "#7fbc41"
            ],
            [
             0.9,
             "#4d9221"
            ],
            [
             1,
             "#276419"
            ]
           ],
           "sequential": [
            [
             0,
             "#0d0887"
            ],
            [
             0.1111111111111111,
             "#46039f"
            ],
            [
             0.2222222222222222,
             "#7201a8"
            ],
            [
             0.3333333333333333,
             "#9c179e"
            ],
            [
             0.4444444444444444,
             "#bd3786"
            ],
            [
             0.5555555555555556,
             "#d8576b"
            ],
            [
             0.6666666666666666,
             "#ed7953"
            ],
            [
             0.7777777777777778,
             "#fb9f3a"
            ],
            [
             0.8888888888888888,
             "#fdca26"
            ],
            [
             1,
             "#f0f921"
            ]
           ],
           "sequentialminus": [
            [
             0,
             "#0d0887"
            ],
            [
             0.1111111111111111,
             "#46039f"
            ],
            [
             0.2222222222222222,
             "#7201a8"
            ],
            [
             0.3333333333333333,
             "#9c179e"
            ],
            [
             0.4444444444444444,
             "#bd3786"
            ],
            [
             0.5555555555555556,
             "#d8576b"
            ],
            [
             0.6666666666666666,
             "#ed7953"
            ],
            [
             0.7777777777777778,
             "#fb9f3a"
            ],
            [
             0.8888888888888888,
             "#fdca26"
            ],
            [
             1,
             "#f0f921"
            ]
           ]
          },
          "colorway": [
           "#636efa",
           "#EF553B",
           "#00cc96",
           "#ab63fa",
           "#FFA15A",
           "#19d3f3",
           "#FF6692",
           "#B6E880",
           "#FF97FF",
           "#FECB52"
          ],
          "font": {
           "color": "#2a3f5f"
          },
          "geo": {
           "bgcolor": "white",
           "lakecolor": "white",
           "landcolor": "#E5ECF6",
           "showlakes": true,
           "showland": true,
           "subunitcolor": "white"
          },
          "hoverlabel": {
           "align": "left"
          },
          "hovermode": "closest",
          "mapbox": {
           "style": "light"
          },
          "paper_bgcolor": "white",
          "plot_bgcolor": "#E5ECF6",
          "polar": {
           "angularaxis": {
            "gridcolor": "white",
            "linecolor": "white",
            "ticks": ""
           },
           "bgcolor": "#E5ECF6",
           "radialaxis": {
            "gridcolor": "white",
            "linecolor": "white",
            "ticks": ""
           }
          },
          "scene": {
           "xaxis": {
            "backgroundcolor": "#E5ECF6",
            "gridcolor": "white",
            "gridwidth": 2,
            "linecolor": "white",
            "showbackground": true,
            "ticks": "",
            "zerolinecolor": "white"
           },
           "yaxis": {
            "backgroundcolor": "#E5ECF6",
            "gridcolor": "white",
            "gridwidth": 2,
            "linecolor": "white",
            "showbackground": true,
            "ticks": "",
            "zerolinecolor": "white"
           },
           "zaxis": {
            "backgroundcolor": "#E5ECF6",
            "gridcolor": "white",
            "gridwidth": 2,
            "linecolor": "white",
            "showbackground": true,
            "ticks": "",
            "zerolinecolor": "white"
           }
          },
          "shapedefaults": {
           "line": {
            "color": "#2a3f5f"
           }
          },
          "ternary": {
           "aaxis": {
            "gridcolor": "white",
            "linecolor": "white",
            "ticks": ""
           },
           "baxis": {
            "gridcolor": "white",
            "linecolor": "white",
            "ticks": ""
           },
           "bgcolor": "#E5ECF6",
           "caxis": {
            "gridcolor": "white",
            "linecolor": "white",
            "ticks": ""
           }
          },
          "title": {
           "x": 0.05
          },
          "xaxis": {
           "automargin": true,
           "gridcolor": "white",
           "linecolor": "white",
           "ticks": "",
           "title": {
            "standoff": 15
           },
           "zerolinecolor": "white",
           "zerolinewidth": 2
          },
          "yaxis": {
           "automargin": true,
           "gridcolor": "white",
           "linecolor": "white",
           "ticks": "",
           "title": {
            "standoff": 15
           },
           "zerolinecolor": "white",
           "zerolinewidth": 2
          }
         }
        },
        "title": {
         "text": "Highest to Lowest Single Ticket Amount by Type"
        },
        "xaxis": {
         "categoryorder": "total descending",
         "tickfont": {
          "size": 8
         }
        },
        "yaxis": {
         "title": {
          "text": "Single Ticket Amount"
         }
        }
       }
      },
      "text/html": [
       "<div>                            <div id=\"b446a32a-c2c3-4aca-a3f8-02b3d7017565\" class=\"plotly-graph-div\" style=\"height:525px; width:100%;\"></div>            <script type=\"text/javascript\">                require([\"plotly\"], function(Plotly) {                    window.PLOTLYENV=window.PLOTLYENV || {};                                    if (document.getElementById(\"b446a32a-c2c3-4aca-a3f8-02b3d7017565\")) {                    Plotly.newPlot(                        \"b446a32a-c2c3-4aca-a3f8-02b3d7017565\",                        [{\"type\": \"bar\", \"x\": [\"FAIL ANGLE PARK/STOP AT 45 DEG\", \"FAIL PARK/STP LEFT WHLS PARALL\", \"FAIL PARK/STP NEAR RIGHT LIMIT\", \"FAIL TO (PARK/STOP) ANGLE SPCE\", \"FAIL TO PARK/STOP PARALL. CURB\", \"FAIL TO PARK/STOP PARALL. RGHT\", \"PARAL PRK-MTRD-FR WHLS NO OPP\", \"PARK - 2 SPACES - NO FEE\", \"PARK - BETWEEN ROAD & SIDEWALK\", \"PARK - BOULEVD NO VALID PLATES\", \"PARK - LONGER THAN 3 HOURS\", \"PARK - LONGER THAN 3 HOURS \", \"PARK - NOT WITHIN PERIOD\", \"PARK - ON BOULEVARD\", \"PARK - ON FRONT YARD\", \"PARK ACC NO PERMIT\", \"PARK ACCESSIBLE LOAD NO PERMIT\", \"PARK ACCESSIBLE LOAD NOT DRP/O\", \"PARK ACCESSIBLE LOAD NOT DRP/O\", \"PARK ACCESSIBLE NOT DROP OFF\", \"PARK BUS-SIGNED HWY-PROH DY/TM\", \"PARK COMMERC LOAD ZONE NOT LDG\", \"PARK CONTRARY POSTED CONDITION\", \"PARK E-VEH. IN EV SP EXCESS TM\", \"PARK FAIL TO DEPOSIT FEE METER\", \"PARK HEAVY (TRUCK/VEH.) TM/DY\", \"PARK HWY PROHIBITED TIMES/DAYS\", \"PARK IN A FIRE ROUTE\", \"PARK IN ACCESSIBLE NO PERMIT\", \"PARK IN PARK NOT IN DESIG AREA\", \"PARK LESS THAN 0.3M FROM WALL\", \"PARK LT 0.3M FROM SIDEWALK\", \"PARK MACHINE-FAIL TO ACTIVATE\", \"PARK MACHINE-NOT IN PERMITD TM\", \"PARK MACHINE-REQD FEE NOT PAID\", \"PARK MORE THAN 7DAYS NO PERMIT\", \"PARK MTR REC VE NOT DESIG AREA\", \"PARK NON-BUS-BUS PK ZNE DY/TM\", \"PARK NON-MTRCYCLE IN MTRCYC SP\", \"PARK ON BOULEVARD\", \"PARK ON MUN PROP NO CONSENT\", \"PARK ON MUNICIPAL PROPERTY\", \"PARK ON PRIV PROP NO CONSENT\", \"PARK ON PRIVATE PROPERTY\", \"PARK ONSTRT ACCESSIBLE NO PRMT\", \"PARK ONSTRT ACCESSIBLE NO PRMT\", \"PARK ONSTRT ACCESSIBLE NOT D/O\", \"PARK OTHER THAN METERED SPACE\", \"PARK OVERNIGHT NO PERMIT\", \"PARK PRIVATE PROP NO CONSENT\", \"PARK PRO VEH ON BICYCLE PATH\", \"PARK PROHIBITED TIME NO PERMIT\", \"PARK TAXI FOR HIRE-UNAUTH LOC\", \"PARK VEH.-COMMERCIAL LOAD ZONE\", \"PARK VEH.-STRTCAR TRK SNOW RT\", \"PARK VEH.-WASH/GREASE/REPAIR\", \"PARK VEHICLE - FOR SALE\", \"PARK VEHICLE ON ROADWAY\", \"PARK VEHICLE OUTSIDE OF SPACE\", \"PARK VEHICLE PROHIBITED TIME\", \"PARK VEHICLE WHILE NOT IN PARK\", \"PARK-(FRNT/60 CM) DRWAY/LANEWY\", \"PARK-15M MAILBOX SAME SIDE\", \"PARK-15M OF DEAD END STREET\", \"PARK-30.5M APPROACH TO CRSSWLK\", \"PARK-30.5M FIRE HALL OPP SIDE\", \"PARK-30.5M SIGNALIZED INTERSCT\", \"PARK-7.5M FIRE HALL SAME SIDE\", \"PARK-FAIL TO ACTIVATE MACHINE\", \"PARK-FAIL TO DISPLAY PERMIT\", \"PARK-FRONT OF BLDG ENTRY/EXIT\", \"PARK-FRONT OF VEH NOT OPP MTR\", \"PARK-HWY DRNG PROH TIMES/DAYS\", \"PARK-HWY PROHIB TIMES/DAYS\", \"PARK-INTERF W FUNERAL PROCESS.\", \"PARK-ISSUED CARD NOT DISPLAYED\", \"PARK-N.YORK 2AM-6AM DEC1-MAR31\", \"PARK-OBSTRUCT (DRWAY/LANEWAY)\", \"PARK-PASSENGER/FREIGHT LOADING\", \"PARK-PREVENT VEHICLE REMOVAL\", \"PARK-SIGNED HWY-\\\"T\\\" INTERSECTN\", \"PARK-SIGNED HWY-15M INTERSECTN\", \"PARK-SIGNED HWY-EXC PERMT TIME\", \"PARK-SIGNED HWY-LESS THAN 6M W\", \"PARK-SIGNED HWY-PROHIBIT DY/TM\", \"PARK-SIGNED HWY-PUBLIC LANE\", \"PARK-SIGNED HWY-TURNING BASIN\", \"PARK-VEH. W/O VALID ONT PLATE\", \"PARK-W/O VALID NON-ONT PLATE\", \"PARK-WITHIN 3M OF FIRE HYDRANT\", \"PARK-WITHIN 9M INTERSECT ROAD\", \"PARK/LEAVE CONTRARY TO SIGN\", \"PARK/LEAVE UNPD PARKING INV\", \"PARK/LEAVE-FIRE ROUTE\", \"PARK/STAND CAR-SHARE VEH.-PERM\", \"PARK/STAND UNAUTH VEH. CAR SHR\", \"PARK/STOP RGHT WHLS > 30CM CRB\", \"PARKING MACH-NOT USED/NO FEE\", \"PRK/STP LEFT WHLS CLSE TO LEFT\", \"STAND ACCESSIBLE NOT DROP OFF\", \"STAND IN ACCESSIBLE NO PERMIT\", \"STAND NON-TAXI IN SIGNED STAND\", \"STAND SIGNED TAXICAB STAND\", \"STAND SIGNED TRANSIT STOP\", \"STAND TAXI-SIGNED STD-NOT HIRE\", \"STAND VEH.-PROHIBIT TIME/DAY\", \"STAND VEH.-PSGR LD ZN DAY TIME\", \"STAND VEH.-PSGR LD ZN LD/UNLD\", \"STAND VEH.-SIGNED HWY-RUSH HR\", \"STAND VEHICLE WHERE PROHIBITED\", \"STAND VEHICLE-SIGNED HIGHWAY\", \"STAND VEHICLE-SIGNED HIGHWAY-3\", \"STND ACCESSIBLE LOAD NO PERMIT\", \"STND ACCESSIBLE LOAD NOT DRP/O\", \"STND BUS-SIGNED HWY-PROH DY/TM\", \"STND ONSTRT ACCESSIBLE NO PRMT\", \"STND ONSTRT ACCESSIBLE NOT D/O\", \"STOP - IN UNDERPASS\", \"STOP - ON BRIDGE\", \"STOP - ON CENTRE STRIP\", \"STOP - ON MIDDLE BOULEVARD\", \"STOP BUS-SIGNED HWY-PROH DY/TM\", \"STOP NON-BICYCLE IN CYCLE TRCK\", \"STOP NON-BUS - BUS LOAD ZONE\", \"STOP ONSTRT ACCESSIBLE NO PRMT\", \"STOP SIDE STOPPED/PARKED VEH\", \"STOP VEH OTR THN BCYCL-BYCL LN\", \"STOP VEH.RESRVD/DESIG LN TM/DY\", \"STOP-(ON/OVER) (SIDEWK/FTPATH)\", \"STOP-15M PEDESTRIAN X APPROACH\", \"STOP-9 M PEDESTRIAN X BEYOND\", \"STOP-ACROSS FROM EXCAV./OBSTR.\", \"STOP-ADJACENT CENTRE STRIP END\", \"STOP-ADJACENT CNTRE STRIP SIDE\", \"STOP-ADJACENT MID. BOUL. END\", \"STOP-ADJACENT MID. BOUL. SIDE\", \"STOP-ALONGSIDE EXCAV./OBSTR.\", \"STOP-NON-SCHL BUS IN SCHL LDZN\", \"STOP-ROAD SIDE-STOP/PARK VEH.\", \"STOP-SIGNED HIGHWAY-RUSH HOUR\", \"STOP-SIGNED HWY-PROHIBIT TM/DY\", \"STOP-WITHIN (INTERSCTN/PED X)\", \"STOP-WITHIN 15M OF SAFETY ZONE\", \"STOP-WITHIN 9M OF SCHOOL CROSS\", \"STOP/STAND/PARK VEND NO PERMIT\"], \"y\": [30, 30, 30, 30, 30, 30, 30, 30, 50, 50, 15, 0, 30, 50, 50, 300, 450, 0, 450, 450, 300, 40, 100, 60, 30, 90, 0, 250, 450, 100, 50, 50, 30, 30, 30, 30, 175, 150, 40, 0, 0, 30, 0, 30, 0, 450, 450, 30, 100, 0, 60, 30, 40, 40, 200, 15, 15, 30, 30, 30, 100, 50, 40, 40, 40, 40, 50, 40, 30, 30, 40, 30, 0, 0, 40, 30, 40, 50, 0, 40, 40, 50, 40, 40, 50, 40, 40, 40, 40, 100, 50, 30, 30, 0, 60, 60, 30, 30, 30, 450, 450, 60, 0, 150, 60, 60, 60, 60, 150, 55, 0, 0, 450, 450, 300, 450, 450, 60, 60, 60, 60, 300, 150, 300, 450, 0, 150, 150, 150, 60, 60, 60, 60, 60, 60, 60, 60, 60, 150, 150, 60, 60, 60, 60, 0]}],                        {\"template\": {\"data\": {\"bar\": [{\"error_x\": {\"color\": \"#2a3f5f\"}, \"error_y\": {\"color\": \"#2a3f5f\"}, \"marker\": {\"line\": {\"color\": \"#E5ECF6\", \"width\": 0.5}}, \"type\": \"bar\"}], \"barpolar\": [{\"marker\": {\"line\": {\"color\": \"#E5ECF6\", \"width\": 0.5}}, \"type\": \"barpolar\"}], \"carpet\": [{\"aaxis\": {\"endlinecolor\": \"#2a3f5f\", \"gridcolor\": \"white\", \"linecolor\": \"white\", \"minorgridcolor\": \"white\", \"startlinecolor\": \"#2a3f5f\"}, \"baxis\": {\"endlinecolor\": \"#2a3f5f\", \"gridcolor\": \"white\", \"linecolor\": \"white\", \"minorgridcolor\": \"white\", \"startlinecolor\": \"#2a3f5f\"}, \"type\": \"carpet\"}], \"choropleth\": [{\"colorbar\": {\"outlinewidth\": 0, \"ticks\": \"\"}, \"type\": \"choropleth\"}], \"contour\": [{\"colorbar\": {\"outlinewidth\": 0, \"ticks\": \"\"}, \"colorscale\": [[0.0, \"#0d0887\"], [0.1111111111111111, \"#46039f\"], [0.2222222222222222, \"#7201a8\"], [0.3333333333333333, \"#9c179e\"], [0.4444444444444444, \"#bd3786\"], [0.5555555555555556, \"#d8576b\"], [0.6666666666666666, \"#ed7953\"], [0.7777777777777778, \"#fb9f3a\"], [0.8888888888888888, \"#fdca26\"], [1.0, \"#f0f921\"]], \"type\": \"contour\"}], \"contourcarpet\": [{\"colorbar\": {\"outlinewidth\": 0, \"ticks\": \"\"}, \"type\": \"contourcarpet\"}], \"heatmap\": [{\"colorbar\": {\"outlinewidth\": 0, \"ticks\": \"\"}, \"colorscale\": [[0.0, \"#0d0887\"], [0.1111111111111111, \"#46039f\"], [0.2222222222222222, \"#7201a8\"], [0.3333333333333333, \"#9c179e\"], [0.4444444444444444, \"#bd3786\"], [0.5555555555555556, \"#d8576b\"], [0.6666666666666666, \"#ed7953\"], [0.7777777777777778, \"#fb9f3a\"], [0.8888888888888888, \"#fdca26\"], [1.0, \"#f0f921\"]], \"type\": \"heatmap\"}], \"heatmapgl\": [{\"colorbar\": {\"outlinewidth\": 0, \"ticks\": \"\"}, \"colorscale\": [[0.0, \"#0d0887\"], [0.1111111111111111, \"#46039f\"], [0.2222222222222222, \"#7201a8\"], [0.3333333333333333, \"#9c179e\"], [0.4444444444444444, \"#bd3786\"], [0.5555555555555556, \"#d8576b\"], [0.6666666666666666, \"#ed7953\"], [0.7777777777777778, \"#fb9f3a\"], [0.8888888888888888, \"#fdca26\"], [1.0, \"#f0f921\"]], \"type\": \"heatmapgl\"}], \"histogram\": [{\"marker\": {\"colorbar\": {\"outlinewidth\": 0, \"ticks\": \"\"}}, \"type\": \"histogram\"}], \"histogram2d\": [{\"colorbar\": {\"outlinewidth\": 0, \"ticks\": \"\"}, \"colorscale\": [[0.0, \"#0d0887\"], [0.1111111111111111, \"#46039f\"], [0.2222222222222222, \"#7201a8\"], [0.3333333333333333, \"#9c179e\"], [0.4444444444444444, \"#bd3786\"], [0.5555555555555556, \"#d8576b\"], [0.6666666666666666, \"#ed7953\"], [0.7777777777777778, \"#fb9f3a\"], [0.8888888888888888, \"#fdca26\"], [1.0, \"#f0f921\"]], \"type\": \"histogram2d\"}], \"histogram2dcontour\": [{\"colorbar\": {\"outlinewidth\": 0, \"ticks\": \"\"}, \"colorscale\": [[0.0, \"#0d0887\"], [0.1111111111111111, \"#46039f\"], [0.2222222222222222, \"#7201a8\"], [0.3333333333333333, \"#9c179e\"], [0.4444444444444444, \"#bd3786\"], [0.5555555555555556, \"#d8576b\"], [0.6666666666666666, \"#ed7953\"], [0.7777777777777778, \"#fb9f3a\"], [0.8888888888888888, \"#fdca26\"], [1.0, \"#f0f921\"]], \"type\": \"histogram2dcontour\"}], \"mesh3d\": [{\"colorbar\": {\"outlinewidth\": 0, \"ticks\": \"\"}, \"type\": \"mesh3d\"}], \"parcoords\": [{\"line\": {\"colorbar\": {\"outlinewidth\": 0, \"ticks\": \"\"}}, \"type\": \"parcoords\"}], \"pie\": [{\"automargin\": true, \"type\": \"pie\"}], \"scatter\": [{\"marker\": {\"colorbar\": {\"outlinewidth\": 0, \"ticks\": \"\"}}, \"type\": \"scatter\"}], \"scatter3d\": [{\"line\": {\"colorbar\": {\"outlinewidth\": 0, \"ticks\": \"\"}}, \"marker\": {\"colorbar\": {\"outlinewidth\": 0, \"ticks\": \"\"}}, \"type\": \"scatter3d\"}], \"scattercarpet\": [{\"marker\": {\"colorbar\": {\"outlinewidth\": 0, \"ticks\": \"\"}}, \"type\": \"scattercarpet\"}], \"scattergeo\": [{\"marker\": {\"colorbar\": {\"outlinewidth\": 0, \"ticks\": \"\"}}, \"type\": \"scattergeo\"}], \"scattergl\": [{\"marker\": {\"colorbar\": {\"outlinewidth\": 0, \"ticks\": \"\"}}, \"type\": \"scattergl\"}], \"scattermapbox\": [{\"marker\": {\"colorbar\": {\"outlinewidth\": 0, \"ticks\": \"\"}}, \"type\": \"scattermapbox\"}], \"scatterpolar\": [{\"marker\": {\"colorbar\": {\"outlinewidth\": 0, \"ticks\": \"\"}}, \"type\": \"scatterpolar\"}], \"scatterpolargl\": [{\"marker\": {\"colorbar\": {\"outlinewidth\": 0, \"ticks\": \"\"}}, \"type\": \"scatterpolargl\"}], \"scatterternary\": [{\"marker\": {\"colorbar\": {\"outlinewidth\": 0, \"ticks\": \"\"}}, \"type\": \"scatterternary\"}], \"surface\": [{\"colorbar\": {\"outlinewidth\": 0, \"ticks\": \"\"}, \"colorscale\": [[0.0, \"#0d0887\"], [0.1111111111111111, \"#46039f\"], [0.2222222222222222, \"#7201a8\"], [0.3333333333333333, \"#9c179e\"], [0.4444444444444444, \"#bd3786\"], [0.5555555555555556, \"#d8576b\"], [0.6666666666666666, \"#ed7953\"], [0.7777777777777778, \"#fb9f3a\"], [0.8888888888888888, \"#fdca26\"], [1.0, \"#f0f921\"]], \"type\": \"surface\"}], \"table\": [{\"cells\": {\"fill\": {\"color\": \"#EBF0F8\"}, \"line\": {\"color\": \"white\"}}, \"header\": {\"fill\": {\"color\": \"#C8D4E3\"}, \"line\": {\"color\": \"white\"}}, \"type\": \"table\"}]}, \"layout\": {\"annotationdefaults\": {\"arrowcolor\": \"#2a3f5f\", \"arrowhead\": 0, \"arrowwidth\": 1}, \"coloraxis\": {\"colorbar\": {\"outlinewidth\": 0, \"ticks\": \"\"}}, \"colorscale\": {\"diverging\": [[0, \"#8e0152\"], [0.1, \"#c51b7d\"], [0.2, \"#de77ae\"], [0.3, \"#f1b6da\"], [0.4, \"#fde0ef\"], [0.5, \"#f7f7f7\"], [0.6, \"#e6f5d0\"], [0.7, \"#b8e186\"], [0.8, \"#7fbc41\"], [0.9, \"#4d9221\"], [1, \"#276419\"]], \"sequential\": [[0.0, \"#0d0887\"], [0.1111111111111111, \"#46039f\"], [0.2222222222222222, \"#7201a8\"], [0.3333333333333333, \"#9c179e\"], [0.4444444444444444, \"#bd3786\"], [0.5555555555555556, \"#d8576b\"], [0.6666666666666666, \"#ed7953\"], [0.7777777777777778, \"#fb9f3a\"], [0.8888888888888888, \"#fdca26\"], [1.0, \"#f0f921\"]], \"sequentialminus\": [[0.0, \"#0d0887\"], [0.1111111111111111, \"#46039f\"], [0.2222222222222222, \"#7201a8\"], [0.3333333333333333, \"#9c179e\"], [0.4444444444444444, \"#bd3786\"], [0.5555555555555556, \"#d8576b\"], [0.6666666666666666, \"#ed7953\"], [0.7777777777777778, \"#fb9f3a\"], [0.8888888888888888, \"#fdca26\"], [1.0, \"#f0f921\"]]}, \"colorway\": [\"#636efa\", \"#EF553B\", \"#00cc96\", \"#ab63fa\", \"#FFA15A\", \"#19d3f3\", \"#FF6692\", \"#B6E880\", \"#FF97FF\", \"#FECB52\"], \"font\": {\"color\": \"#2a3f5f\"}, \"geo\": {\"bgcolor\": \"white\", \"lakecolor\": \"white\", \"landcolor\": \"#E5ECF6\", \"showlakes\": true, \"showland\": true, \"subunitcolor\": \"white\"}, \"hoverlabel\": {\"align\": \"left\"}, \"hovermode\": \"closest\", \"mapbox\": {\"style\": \"light\"}, \"paper_bgcolor\": \"white\", \"plot_bgcolor\": \"#E5ECF6\", \"polar\": {\"angularaxis\": {\"gridcolor\": \"white\", \"linecolor\": \"white\", \"ticks\": \"\"}, \"bgcolor\": \"#E5ECF6\", \"radialaxis\": {\"gridcolor\": \"white\", \"linecolor\": \"white\", \"ticks\": \"\"}}, \"scene\": {\"xaxis\": {\"backgroundcolor\": \"#E5ECF6\", \"gridcolor\": \"white\", \"gridwidth\": 2, \"linecolor\": \"white\", \"showbackground\": true, \"ticks\": \"\", \"zerolinecolor\": \"white\"}, \"yaxis\": {\"backgroundcolor\": \"#E5ECF6\", \"gridcolor\": \"white\", \"gridwidth\": 2, \"linecolor\": \"white\", \"showbackground\": true, \"ticks\": \"\", \"zerolinecolor\": \"white\"}, \"zaxis\": {\"backgroundcolor\": \"#E5ECF6\", \"gridcolor\": \"white\", \"gridwidth\": 2, \"linecolor\": \"white\", \"showbackground\": true, \"ticks\": \"\", \"zerolinecolor\": \"white\"}}, \"shapedefaults\": {\"line\": {\"color\": \"#2a3f5f\"}}, \"ternary\": {\"aaxis\": {\"gridcolor\": \"white\", \"linecolor\": \"white\", \"ticks\": \"\"}, \"baxis\": {\"gridcolor\": \"white\", \"linecolor\": \"white\", \"ticks\": \"\"}, \"bgcolor\": \"#E5ECF6\", \"caxis\": {\"gridcolor\": \"white\", \"linecolor\": \"white\", \"ticks\": \"\"}}, \"title\": {\"x\": 0.05}, \"xaxis\": {\"automargin\": true, \"gridcolor\": \"white\", \"linecolor\": \"white\", \"ticks\": \"\", \"title\": {\"standoff\": 15}, \"zerolinecolor\": \"white\", \"zerolinewidth\": 2}, \"yaxis\": {\"automargin\": true, \"gridcolor\": \"white\", \"linecolor\": \"white\", \"ticks\": \"\", \"title\": {\"standoff\": 15}, \"zerolinecolor\": \"white\", \"zerolinewidth\": 2}}}, \"title\": {\"text\": \"Highest to Lowest Single Ticket Amount by Type\"}, \"xaxis\": {\"categoryorder\": \"total descending\", \"tickfont\": {\"size\": 8}}, \"yaxis\": {\"title\": {\"text\": \"Single Ticket Amount\"}}},                        {\"responsive\": true}                    ).then(function(){\n",
       "                            \n",
       "var gd = document.getElementById('b446a32a-c2c3-4aca-a3f8-02b3d7017565');\n",
       "var x = new MutationObserver(function (mutations, observer) {{\n",
       "        var display = window.getComputedStyle(gd).display;\n",
       "        if (!display || display === 'none') {{\n",
       "            console.log([gd, 'removed!']);\n",
       "            Plotly.purge(gd);\n",
       "            observer.disconnect();\n",
       "        }}\n",
       "}});\n",
       "\n",
       "// Listen for the removal of the full notebook cells\n",
       "var notebookContainer = gd.closest('#notebook-container');\n",
       "if (notebookContainer) {{\n",
       "    x.observe(notebookContainer, {childList: true});\n",
       "}}\n",
       "\n",
       "// Listen for the clearing of the current output cell\n",
       "var outputEl = gd.closest('.output');\n",
       "if (outputEl) {{\n",
       "    x.observe(outputEl, {childList: true});\n",
       "}}\n",
       "\n",
       "                        })                };                });            </script>        </div>"
      ]
     },
     "metadata": {},
     "output_type": "display_data"
    }
   ],
   "source": [
    "# plot highest to lowest single ticket amount by type \n",
    "\n",
    "fig3 = go.Figure()\n",
    "\n",
    "fig3.add_trace(go.Bar(x=fine_type_df['infraction_description'], \n",
    "                      y=fine_type_df['set_fine_amount'])\n",
    "                ) \n",
    "\n",
    "fig3.update_layout(xaxis=dict({'categoryorder':'total descending'},\n",
    "                              tickfont=dict(size=8)), \n",
    "                   title_text='Highest to Lowest Single Ticket Amount by Type',\n",
    "                   yaxis_title='Single Ticket Amount',\n",
    "                  )\n",
    "                  \n",
    "fig3.show()"
   ]
  },
  {
   "cell_type": "code",
   "execution_count": 96,
   "metadata": {
    "scrolled": false
   },
   "outputs": [
    {
     "data": {
      "application/vnd.plotly.v1+json": {
       "config": {
        "plotlyServerURL": "https://plot.ly"
       },
       "data": [
        {
         "name": "Number of Tickets Issued",
         "type": "bar",
         "x": [
          "FAIL ANGLE PARK/STOP AT 45 DEG",
          "FAIL PARK/STP LEFT WHLS PARALL",
          "FAIL PARK/STP NEAR RIGHT LIMIT",
          "FAIL TO (PARK/STOP) ANGLE SPCE",
          "FAIL TO PARK/STOP PARALL. CURB",
          "FAIL TO PARK/STOP PARALL. RGHT",
          "PARAL PRK-MTRD-FR WHLS NO OPP",
          "PARK - 2 SPACES - NO FEE",
          "PARK - BETWEEN ROAD & SIDEWALK",
          "PARK - BOULEVD NO VALID PLATES",
          "PARK - LONGER THAN 3 HOURS",
          "PARK - LONGER THAN 3 HOURS ",
          "PARK - NOT WITHIN PERIOD",
          "PARK - ON BOULEVARD",
          "PARK - ON FRONT YARD",
          "PARK ACC NO PERMIT",
          "PARK ACCESSIBLE LOAD NO PERMIT",
          "PARK ACCESSIBLE LOAD NOT DRP/O",
          "PARK ACCESSIBLE LOAD NOT DRP/O",
          "PARK ACCESSIBLE NOT DROP OFF",
          "PARK BUS-SIGNED HWY-PROH DY/TM",
          "PARK COMMERC LOAD ZONE NOT LDG",
          "PARK CONTRARY POSTED CONDITION",
          "PARK E-VEH. IN EV SP EXCESS TM",
          "PARK FAIL TO DEPOSIT FEE METER",
          "PARK HEAVY (TRUCK/VEH.) TM/DY",
          "PARK HWY PROHIBITED TIMES/DAYS",
          "PARK IN A FIRE ROUTE",
          "PARK IN ACCESSIBLE NO PERMIT",
          "PARK IN PARK NOT IN DESIG AREA",
          "PARK LESS THAN 0.3M FROM WALL",
          "PARK LT 0.3M FROM SIDEWALK",
          "PARK MACHINE-FAIL TO ACTIVATE",
          "PARK MACHINE-NOT IN PERMITD TM",
          "PARK MACHINE-REQD FEE NOT PAID",
          "PARK MORE THAN 7DAYS NO PERMIT",
          "PARK MTR REC VE NOT DESIG AREA",
          "PARK NON-BUS-BUS PK ZNE DY/TM",
          "PARK NON-MTRCYCLE IN MTRCYC SP",
          "PARK ON BOULEVARD",
          "PARK ON MUN PROP NO CONSENT",
          "PARK ON MUNICIPAL PROPERTY",
          "PARK ON PRIV PROP NO CONSENT",
          "PARK ON PRIVATE PROPERTY",
          "PARK ONSTRT ACCESSIBLE NO PRMT",
          "PARK ONSTRT ACCESSIBLE NO PRMT",
          "PARK ONSTRT ACCESSIBLE NOT D/O",
          "PARK OTHER THAN METERED SPACE",
          "PARK OVERNIGHT NO PERMIT",
          "PARK PRIVATE PROP NO CONSENT",
          "PARK PRO VEH ON BICYCLE PATH",
          "PARK PROHIBITED TIME NO PERMIT",
          "PARK TAXI FOR HIRE-UNAUTH LOC",
          "PARK VEH.-COMMERCIAL LOAD ZONE",
          "PARK VEH.-STRTCAR TRK SNOW RT",
          "PARK VEH.-WASH/GREASE/REPAIR",
          "PARK VEHICLE - FOR SALE",
          "PARK VEHICLE ON ROADWAY",
          "PARK VEHICLE OUTSIDE OF SPACE",
          "PARK VEHICLE PROHIBITED TIME",
          "PARK VEHICLE WHILE NOT IN PARK",
          "PARK-(FRNT/60 CM) DRWAY/LANEWY",
          "PARK-15M MAILBOX SAME SIDE",
          "PARK-15M OF DEAD END STREET",
          "PARK-30.5M APPROACH TO CRSSWLK",
          "PARK-30.5M FIRE HALL OPP SIDE",
          "PARK-30.5M SIGNALIZED INTERSCT",
          "PARK-7.5M FIRE HALL SAME SIDE",
          "PARK-FAIL TO ACTIVATE MACHINE",
          "PARK-FAIL TO DISPLAY PERMIT",
          "PARK-FRONT OF BLDG ENTRY/EXIT",
          "PARK-FRONT OF VEH NOT OPP MTR",
          "PARK-HWY DRNG PROH TIMES/DAYS",
          "PARK-HWY PROHIB TIMES/DAYS",
          "PARK-INTERF W FUNERAL PROCESS.",
          "PARK-ISSUED CARD NOT DISPLAYED",
          "PARK-N.YORK 2AM-6AM DEC1-MAR31",
          "PARK-OBSTRUCT (DRWAY/LANEWAY)",
          "PARK-PASSENGER/FREIGHT LOADING",
          "PARK-PREVENT VEHICLE REMOVAL",
          "PARK-SIGNED HWY-\"T\" INTERSECTN",
          "PARK-SIGNED HWY-15M INTERSECTN",
          "PARK-SIGNED HWY-EXC PERMT TIME",
          "PARK-SIGNED HWY-LESS THAN 6M W",
          "PARK-SIGNED HWY-PROHIBIT DY/TM",
          "PARK-SIGNED HWY-PUBLIC LANE",
          "PARK-SIGNED HWY-TURNING BASIN",
          "PARK-VEH. W/O VALID ONT PLATE",
          "PARK-W/O VALID NON-ONT PLATE",
          "PARK-WITHIN 3M OF FIRE HYDRANT",
          "PARK-WITHIN 9M INTERSECT ROAD",
          "PARK/LEAVE CONTRARY TO SIGN",
          "PARK/LEAVE UNPD PARKING INV",
          "PARK/LEAVE-FIRE ROUTE",
          "PARK/STAND CAR-SHARE VEH.-PERM",
          "PARK/STAND UNAUTH VEH. CAR SHR",
          "PARK/STOP RGHT WHLS > 30CM CRB",
          "PARKING MACH-NOT USED/NO FEE",
          "PRK/STP LEFT WHLS CLSE TO LEFT",
          "STAND ACCESSIBLE NOT DROP OFF",
          "STAND IN ACCESSIBLE NO PERMIT",
          "STAND NON-TAXI IN SIGNED STAND",
          "STAND SIGNED TAXICAB STAND",
          "STAND SIGNED TRANSIT STOP",
          "STAND TAXI-SIGNED STD-NOT HIRE",
          "STAND VEH.-PROHIBIT TIME/DAY",
          "STAND VEH.-PSGR LD ZN DAY TIME",
          "STAND VEH.-PSGR LD ZN LD/UNLD",
          "STAND VEH.-SIGNED HWY-RUSH HR",
          "STAND VEHICLE WHERE PROHIBITED",
          "STAND VEHICLE-SIGNED HIGHWAY",
          "STAND VEHICLE-SIGNED HIGHWAY-3",
          "STND ACCESSIBLE LOAD NO PERMIT",
          "STND ACCESSIBLE LOAD NOT DRP/O",
          "STND BUS-SIGNED HWY-PROH DY/TM",
          "STND ONSTRT ACCESSIBLE NO PRMT",
          "STND ONSTRT ACCESSIBLE NOT D/O",
          "STOP - IN UNDERPASS",
          "STOP - ON BRIDGE",
          "STOP - ON CENTRE STRIP",
          "STOP - ON MIDDLE BOULEVARD",
          "STOP BUS-SIGNED HWY-PROH DY/TM",
          "STOP NON-BICYCLE IN CYCLE TRCK",
          "STOP NON-BUS - BUS LOAD ZONE",
          "STOP ONSTRT ACCESSIBLE NO PRMT",
          "STOP SIDE STOPPED/PARKED VEH",
          "STOP VEH OTR THN BCYCL-BYCL LN",
          "STOP VEH.RESRVD/DESIG LN TM/DY",
          "STOP-(ON/OVER) (SIDEWK/FTPATH)",
          "STOP-15M PEDESTRIAN X APPROACH",
          "STOP-9 M PEDESTRIAN X BEYOND",
          "STOP-ACROSS FROM EXCAV./OBSTR.",
          "STOP-ADJACENT CENTRE STRIP END",
          "STOP-ADJACENT CNTRE STRIP SIDE",
          "STOP-ADJACENT MID. BOUL. END",
          "STOP-ADJACENT MID. BOUL. SIDE",
          "STOP-ALONGSIDE EXCAV./OBSTR.",
          "STOP-NON-SCHL BUS IN SCHL LDZN",
          "STOP-ROAD SIDE-STOP/PARK VEH.",
          "STOP-SIGNED HIGHWAY-RUSH HOUR",
          "STOP-SIGNED HWY-PROHIBIT TM/DY",
          "STOP-WITHIN (INTERSCTN/PED X)",
          "STOP-WITHIN 15M OF SAFETY ZONE",
          "STOP-WITHIN 9M OF SCHOOL CROSS",
          "STOP/STAND/PARK VEND NO PERMIT"
         ],
         "y": [
          1,
          1,
          6,
          5,
          1670,
          1081,
          1,
          4,
          783,
          9,
          42027,
          1,
          499,
          3333,
          32,
          5,
          15,
          1,
          3,
          123,
          23,
          6509,
          475,
          1,
          588,
          315,
          1,
          5362,
          1298,
          575,
          1,
          2,
          3,
          7,
          82637,
          56,
          2,
          611,
          81,
          1,
          1,
          4905,
          2,
          143717,
          1,
          950,
          11,
          5,
          4,
          2,
          10,
          110124,
          39,
          319,
          1,
          3,
          18,
          119,
          718,
          1,
          88,
          172,
          6,
          39,
          2,
          231,
          141,
          10,
          485,
          1612,
          1,
          1,
          1,
          2,
          1,
          6,
          17237,
          2044,
          1,
          2,
          406,
          62,
          19467,
          37,
          118228,
          4675,
          127,
          36077,
          436,
          10213,
          4146,
          191,
          1,
          3,
          3,
          676,
          100,
          9549,
          1,
          11,
          20,
          1969,
          1,
          9506,
          158,
          26410,
          102,
          1319,
          104,
          1,
          1,
          1,
          60,
          107,
          107,
          2083,
          301,
          6,
          3,
          68,
          46,
          14,
          647,
          2,
          9,
          1,
          1967,
          409,
          5089,
          286,
          385,
          12,
          1,
          1,
          1,
          10,
          4,
          340,
          827,
          25037,
          36956,
          35,
          1,
          3,
          1
         ]
        },
        {
         "mode": "markers",
         "name": "Total Fine Amount",
         "type": "scatter",
         "x": [
          "FAIL ANGLE PARK/STOP AT 45 DEG",
          "FAIL PARK/STP LEFT WHLS PARALL",
          "FAIL PARK/STP NEAR RIGHT LIMIT",
          "FAIL TO (PARK/STOP) ANGLE SPCE",
          "FAIL TO PARK/STOP PARALL. CURB",
          "FAIL TO PARK/STOP PARALL. RGHT",
          "PARAL PRK-MTRD-FR WHLS NO OPP",
          "PARK - 2 SPACES - NO FEE",
          "PARK - BETWEEN ROAD & SIDEWALK",
          "PARK - BOULEVD NO VALID PLATES",
          "PARK - LONGER THAN 3 HOURS",
          "PARK - LONGER THAN 3 HOURS ",
          "PARK - NOT WITHIN PERIOD",
          "PARK - ON BOULEVARD",
          "PARK - ON FRONT YARD",
          "PARK ACC NO PERMIT",
          "PARK ACCESSIBLE LOAD NO PERMIT",
          "PARK ACCESSIBLE LOAD NOT DRP/O",
          "PARK ACCESSIBLE LOAD NOT DRP/O",
          "PARK ACCESSIBLE NOT DROP OFF",
          "PARK BUS-SIGNED HWY-PROH DY/TM",
          "PARK COMMERC LOAD ZONE NOT LDG",
          "PARK CONTRARY POSTED CONDITION",
          "PARK E-VEH. IN EV SP EXCESS TM",
          "PARK FAIL TO DEPOSIT FEE METER",
          "PARK HEAVY (TRUCK/VEH.) TM/DY",
          "PARK HWY PROHIBITED TIMES/DAYS",
          "PARK IN A FIRE ROUTE",
          "PARK IN ACCESSIBLE NO PERMIT",
          "PARK IN PARK NOT IN DESIG AREA",
          "PARK LESS THAN 0.3M FROM WALL",
          "PARK LT 0.3M FROM SIDEWALK",
          "PARK MACHINE-FAIL TO ACTIVATE",
          "PARK MACHINE-NOT IN PERMITD TM",
          "PARK MACHINE-REQD FEE NOT PAID",
          "PARK MORE THAN 7DAYS NO PERMIT",
          "PARK MTR REC VE NOT DESIG AREA",
          "PARK NON-BUS-BUS PK ZNE DY/TM",
          "PARK NON-MTRCYCLE IN MTRCYC SP",
          "PARK ON BOULEVARD",
          "PARK ON MUN PROP NO CONSENT",
          "PARK ON MUNICIPAL PROPERTY",
          "PARK ON PRIV PROP NO CONSENT",
          "PARK ON PRIVATE PROPERTY",
          "PARK ONSTRT ACCESSIBLE NO PRMT",
          "PARK ONSTRT ACCESSIBLE NO PRMT",
          "PARK ONSTRT ACCESSIBLE NOT D/O",
          "PARK OTHER THAN METERED SPACE",
          "PARK OVERNIGHT NO PERMIT",
          "PARK PRIVATE PROP NO CONSENT",
          "PARK PRO VEH ON BICYCLE PATH",
          "PARK PROHIBITED TIME NO PERMIT",
          "PARK TAXI FOR HIRE-UNAUTH LOC",
          "PARK VEH.-COMMERCIAL LOAD ZONE",
          "PARK VEH.-STRTCAR TRK SNOW RT",
          "PARK VEH.-WASH/GREASE/REPAIR",
          "PARK VEHICLE - FOR SALE",
          "PARK VEHICLE ON ROADWAY",
          "PARK VEHICLE OUTSIDE OF SPACE",
          "PARK VEHICLE PROHIBITED TIME",
          "PARK VEHICLE WHILE NOT IN PARK",
          "PARK-(FRNT/60 CM) DRWAY/LANEWY",
          "PARK-15M MAILBOX SAME SIDE",
          "PARK-15M OF DEAD END STREET",
          "PARK-30.5M APPROACH TO CRSSWLK",
          "PARK-30.5M FIRE HALL OPP SIDE",
          "PARK-30.5M SIGNALIZED INTERSCT",
          "PARK-7.5M FIRE HALL SAME SIDE",
          "PARK-FAIL TO ACTIVATE MACHINE",
          "PARK-FAIL TO DISPLAY PERMIT",
          "PARK-FRONT OF BLDG ENTRY/EXIT",
          "PARK-FRONT OF VEH NOT OPP MTR",
          "PARK-HWY DRNG PROH TIMES/DAYS",
          "PARK-HWY PROHIB TIMES/DAYS",
          "PARK-INTERF W FUNERAL PROCESS.",
          "PARK-ISSUED CARD NOT DISPLAYED",
          "PARK-N.YORK 2AM-6AM DEC1-MAR31",
          "PARK-OBSTRUCT (DRWAY/LANEWAY)",
          "PARK-PASSENGER/FREIGHT LOADING",
          "PARK-PREVENT VEHICLE REMOVAL",
          "PARK-SIGNED HWY-\"T\" INTERSECTN",
          "PARK-SIGNED HWY-15M INTERSECTN",
          "PARK-SIGNED HWY-EXC PERMT TIME",
          "PARK-SIGNED HWY-LESS THAN 6M W",
          "PARK-SIGNED HWY-PROHIBIT DY/TM",
          "PARK-SIGNED HWY-PUBLIC LANE",
          "PARK-SIGNED HWY-TURNING BASIN",
          "PARK-VEH. W/O VALID ONT PLATE",
          "PARK-W/O VALID NON-ONT PLATE",
          "PARK-WITHIN 3M OF FIRE HYDRANT",
          "PARK-WITHIN 9M INTERSECT ROAD",
          "PARK/LEAVE CONTRARY TO SIGN",
          "PARK/LEAVE UNPD PARKING INV",
          "PARK/LEAVE-FIRE ROUTE",
          "PARK/STAND CAR-SHARE VEH.-PERM",
          "PARK/STAND UNAUTH VEH. CAR SHR",
          "PARK/STOP RGHT WHLS > 30CM CRB",
          "PARKING MACH-NOT USED/NO FEE",
          "PRK/STP LEFT WHLS CLSE TO LEFT",
          "STAND ACCESSIBLE NOT DROP OFF",
          "STAND IN ACCESSIBLE NO PERMIT",
          "STAND NON-TAXI IN SIGNED STAND",
          "STAND SIGNED TAXICAB STAND",
          "STAND SIGNED TRANSIT STOP",
          "STAND TAXI-SIGNED STD-NOT HIRE",
          "STAND VEH.-PROHIBIT TIME/DAY",
          "STAND VEH.-PSGR LD ZN DAY TIME",
          "STAND VEH.-PSGR LD ZN LD/UNLD",
          "STAND VEH.-SIGNED HWY-RUSH HR",
          "STAND VEHICLE WHERE PROHIBITED",
          "STAND VEHICLE-SIGNED HIGHWAY",
          "STAND VEHICLE-SIGNED HIGHWAY-3",
          "STND ACCESSIBLE LOAD NO PERMIT",
          "STND ACCESSIBLE LOAD NOT DRP/O",
          "STND BUS-SIGNED HWY-PROH DY/TM",
          "STND ONSTRT ACCESSIBLE NO PRMT",
          "STND ONSTRT ACCESSIBLE NOT D/O",
          "STOP - IN UNDERPASS",
          "STOP - ON BRIDGE",
          "STOP - ON CENTRE STRIP",
          "STOP - ON MIDDLE BOULEVARD",
          "STOP BUS-SIGNED HWY-PROH DY/TM",
          "STOP NON-BICYCLE IN CYCLE TRCK",
          "STOP NON-BUS - BUS LOAD ZONE",
          "STOP ONSTRT ACCESSIBLE NO PRMT",
          "STOP SIDE STOPPED/PARKED VEH",
          "STOP VEH OTR THN BCYCL-BYCL LN",
          "STOP VEH.RESRVD/DESIG LN TM/DY",
          "STOP-(ON/OVER) (SIDEWK/FTPATH)",
          "STOP-15M PEDESTRIAN X APPROACH",
          "STOP-9 M PEDESTRIAN X BEYOND",
          "STOP-ACROSS FROM EXCAV./OBSTR.",
          "STOP-ADJACENT CENTRE STRIP END",
          "STOP-ADJACENT CNTRE STRIP SIDE",
          "STOP-ADJACENT MID. BOUL. END",
          "STOP-ADJACENT MID. BOUL. SIDE",
          "STOP-ALONGSIDE EXCAV./OBSTR.",
          "STOP-NON-SCHL BUS IN SCHL LDZN",
          "STOP-ROAD SIDE-STOP/PARK VEH.",
          "STOP-SIGNED HIGHWAY-RUSH HOUR",
          "STOP-SIGNED HWY-PROHIBIT TM/DY",
          "STOP-WITHIN (INTERSCTN/PED X)",
          "STOP-WITHIN 15M OF SAFETY ZONE",
          "STOP-WITHIN 9M OF SCHOOL CROSS",
          "STOP/STAND/PARK VEND NO PERMIT"
         ],
         "y": [
          30,
          30,
          180,
          150,
          50100,
          32430,
          30,
          120,
          39150,
          450,
          630405,
          0,
          14970,
          166650,
          1600,
          1500,
          6750,
          0,
          1350,
          55350,
          6900,
          260360,
          47500,
          60,
          17640,
          28350,
          0,
          1340500,
          584100,
          57500,
          50,
          100,
          90,
          210,
          2479110,
          1680,
          350,
          91650,
          3240,
          0,
          0,
          147150,
          0,
          4311510,
          0,
          427500,
          4950,
          150,
          400,
          0,
          600,
          3303720,
          1560,
          12760,
          200,
          45,
          270,
          3570,
          21540,
          30,
          8800,
          8600,
          240,
          1560,
          80,
          9240,
          7050,
          400,
          14550,
          48360,
          40,
          30,
          0,
          0,
          40,
          180,
          689480,
          102200,
          0,
          80,
          16240,
          3100,
          778680,
          1480,
          5911400,
          187000,
          5080,
          1443080,
          17440,
          1021300,
          207300,
          5730,
          30,
          0,
          180,
          40560,
          3000,
          286470,
          30,
          4950,
          9000,
          118140,
          0,
          1425900,
          9480,
          1584600,
          6120,
          79140,
          15600,
          55,
          0,
          0,
          27000,
          48150,
          32100,
          937350,
          135450,
          360,
          180,
          4080,
          2760,
          4200,
          97050,
          600,
          4050,
          0,
          295050,
          61350,
          763350,
          17160,
          23100,
          720,
          60,
          60,
          60,
          600,
          240,
          20400,
          124050,
          3755550,
          2217360,
          2100,
          60,
          180,
          0
         ],
         "yaxis": "y2"
        }
       ],
       "layout": {
        "height": 600,
        "legend": {
         "orientation": "h",
         "y": 1.1
        },
        "template": {
         "data": {
          "bar": [
           {
            "error_x": {
             "color": "#2a3f5f"
            },
            "error_y": {
             "color": "#2a3f5f"
            },
            "marker": {
             "line": {
              "color": "#E5ECF6",
              "width": 0.5
             }
            },
            "type": "bar"
           }
          ],
          "barpolar": [
           {
            "marker": {
             "line": {
              "color": "#E5ECF6",
              "width": 0.5
             }
            },
            "type": "barpolar"
           }
          ],
          "carpet": [
           {
            "aaxis": {
             "endlinecolor": "#2a3f5f",
             "gridcolor": "white",
             "linecolor": "white",
             "minorgridcolor": "white",
             "startlinecolor": "#2a3f5f"
            },
            "baxis": {
             "endlinecolor": "#2a3f5f",
             "gridcolor": "white",
             "linecolor": "white",
             "minorgridcolor": "white",
             "startlinecolor": "#2a3f5f"
            },
            "type": "carpet"
           }
          ],
          "choropleth": [
           {
            "colorbar": {
             "outlinewidth": 0,
             "ticks": ""
            },
            "type": "choropleth"
           }
          ],
          "contour": [
           {
            "colorbar": {
             "outlinewidth": 0,
             "ticks": ""
            },
            "colorscale": [
             [
              0,
              "#0d0887"
             ],
             [
              0.1111111111111111,
              "#46039f"
             ],
             [
              0.2222222222222222,
              "#7201a8"
             ],
             [
              0.3333333333333333,
              "#9c179e"
             ],
             [
              0.4444444444444444,
              "#bd3786"
             ],
             [
              0.5555555555555556,
              "#d8576b"
             ],
             [
              0.6666666666666666,
              "#ed7953"
             ],
             [
              0.7777777777777778,
              "#fb9f3a"
             ],
             [
              0.8888888888888888,
              "#fdca26"
             ],
             [
              1,
              "#f0f921"
             ]
            ],
            "type": "contour"
           }
          ],
          "contourcarpet": [
           {
            "colorbar": {
             "outlinewidth": 0,
             "ticks": ""
            },
            "type": "contourcarpet"
           }
          ],
          "heatmap": [
           {
            "colorbar": {
             "outlinewidth": 0,
             "ticks": ""
            },
            "colorscale": [
             [
              0,
              "#0d0887"
             ],
             [
              0.1111111111111111,
              "#46039f"
             ],
             [
              0.2222222222222222,
              "#7201a8"
             ],
             [
              0.3333333333333333,
              "#9c179e"
             ],
             [
              0.4444444444444444,
              "#bd3786"
             ],
             [
              0.5555555555555556,
              "#d8576b"
             ],
             [
              0.6666666666666666,
              "#ed7953"
             ],
             [
              0.7777777777777778,
              "#fb9f3a"
             ],
             [
              0.8888888888888888,
              "#fdca26"
             ],
             [
              1,
              "#f0f921"
             ]
            ],
            "type": "heatmap"
           }
          ],
          "heatmapgl": [
           {
            "colorbar": {
             "outlinewidth": 0,
             "ticks": ""
            },
            "colorscale": [
             [
              0,
              "#0d0887"
             ],
             [
              0.1111111111111111,
              "#46039f"
             ],
             [
              0.2222222222222222,
              "#7201a8"
             ],
             [
              0.3333333333333333,
              "#9c179e"
             ],
             [
              0.4444444444444444,
              "#bd3786"
             ],
             [
              0.5555555555555556,
              "#d8576b"
             ],
             [
              0.6666666666666666,
              "#ed7953"
             ],
             [
              0.7777777777777778,
              "#fb9f3a"
             ],
             [
              0.8888888888888888,
              "#fdca26"
             ],
             [
              1,
              "#f0f921"
             ]
            ],
            "type": "heatmapgl"
           }
          ],
          "histogram": [
           {
            "marker": {
             "colorbar": {
              "outlinewidth": 0,
              "ticks": ""
             }
            },
            "type": "histogram"
           }
          ],
          "histogram2d": [
           {
            "colorbar": {
             "outlinewidth": 0,
             "ticks": ""
            },
            "colorscale": [
             [
              0,
              "#0d0887"
             ],
             [
              0.1111111111111111,
              "#46039f"
             ],
             [
              0.2222222222222222,
              "#7201a8"
             ],
             [
              0.3333333333333333,
              "#9c179e"
             ],
             [
              0.4444444444444444,
              "#bd3786"
             ],
             [
              0.5555555555555556,
              "#d8576b"
             ],
             [
              0.6666666666666666,
              "#ed7953"
             ],
             [
              0.7777777777777778,
              "#fb9f3a"
             ],
             [
              0.8888888888888888,
              "#fdca26"
             ],
             [
              1,
              "#f0f921"
             ]
            ],
            "type": "histogram2d"
           }
          ],
          "histogram2dcontour": [
           {
            "colorbar": {
             "outlinewidth": 0,
             "ticks": ""
            },
            "colorscale": [
             [
              0,
              "#0d0887"
             ],
             [
              0.1111111111111111,
              "#46039f"
             ],
             [
              0.2222222222222222,
              "#7201a8"
             ],
             [
              0.3333333333333333,
              "#9c179e"
             ],
             [
              0.4444444444444444,
              "#bd3786"
             ],
             [
              0.5555555555555556,
              "#d8576b"
             ],
             [
              0.6666666666666666,
              "#ed7953"
             ],
             [
              0.7777777777777778,
              "#fb9f3a"
             ],
             [
              0.8888888888888888,
              "#fdca26"
             ],
             [
              1,
              "#f0f921"
             ]
            ],
            "type": "histogram2dcontour"
           }
          ],
          "mesh3d": [
           {
            "colorbar": {
             "outlinewidth": 0,
             "ticks": ""
            },
            "type": "mesh3d"
           }
          ],
          "parcoords": [
           {
            "line": {
             "colorbar": {
              "outlinewidth": 0,
              "ticks": ""
             }
            },
            "type": "parcoords"
           }
          ],
          "pie": [
           {
            "automargin": true,
            "type": "pie"
           }
          ],
          "scatter": [
           {
            "marker": {
             "colorbar": {
              "outlinewidth": 0,
              "ticks": ""
             }
            },
            "type": "scatter"
           }
          ],
          "scatter3d": [
           {
            "line": {
             "colorbar": {
              "outlinewidth": 0,
              "ticks": ""
             }
            },
            "marker": {
             "colorbar": {
              "outlinewidth": 0,
              "ticks": ""
             }
            },
            "type": "scatter3d"
           }
          ],
          "scattercarpet": [
           {
            "marker": {
             "colorbar": {
              "outlinewidth": 0,
              "ticks": ""
             }
            },
            "type": "scattercarpet"
           }
          ],
          "scattergeo": [
           {
            "marker": {
             "colorbar": {
              "outlinewidth": 0,
              "ticks": ""
             }
            },
            "type": "scattergeo"
           }
          ],
          "scattergl": [
           {
            "marker": {
             "colorbar": {
              "outlinewidth": 0,
              "ticks": ""
             }
            },
            "type": "scattergl"
           }
          ],
          "scattermapbox": [
           {
            "marker": {
             "colorbar": {
              "outlinewidth": 0,
              "ticks": ""
             }
            },
            "type": "scattermapbox"
           }
          ],
          "scatterpolar": [
           {
            "marker": {
             "colorbar": {
              "outlinewidth": 0,
              "ticks": ""
             }
            },
            "type": "scatterpolar"
           }
          ],
          "scatterpolargl": [
           {
            "marker": {
             "colorbar": {
              "outlinewidth": 0,
              "ticks": ""
             }
            },
            "type": "scatterpolargl"
           }
          ],
          "scatterternary": [
           {
            "marker": {
             "colorbar": {
              "outlinewidth": 0,
              "ticks": ""
             }
            },
            "type": "scatterternary"
           }
          ],
          "surface": [
           {
            "colorbar": {
             "outlinewidth": 0,
             "ticks": ""
            },
            "colorscale": [
             [
              0,
              "#0d0887"
             ],
             [
              0.1111111111111111,
              "#46039f"
             ],
             [
              0.2222222222222222,
              "#7201a8"
             ],
             [
              0.3333333333333333,
              "#9c179e"
             ],
             [
              0.4444444444444444,
              "#bd3786"
             ],
             [
              0.5555555555555556,
              "#d8576b"
             ],
             [
              0.6666666666666666,
              "#ed7953"
             ],
             [
              0.7777777777777778,
              "#fb9f3a"
             ],
             [
              0.8888888888888888,
              "#fdca26"
             ],
             [
              1,
              "#f0f921"
             ]
            ],
            "type": "surface"
           }
          ],
          "table": [
           {
            "cells": {
             "fill": {
              "color": "#EBF0F8"
             },
             "line": {
              "color": "white"
             }
            },
            "header": {
             "fill": {
              "color": "#C8D4E3"
             },
             "line": {
              "color": "white"
             }
            },
            "type": "table"
           }
          ]
         },
         "layout": {
          "annotationdefaults": {
           "arrowcolor": "#2a3f5f",
           "arrowhead": 0,
           "arrowwidth": 1
          },
          "coloraxis": {
           "colorbar": {
            "outlinewidth": 0,
            "ticks": ""
           }
          },
          "colorscale": {
           "diverging": [
            [
             0,
             "#8e0152"
            ],
            [
             0.1,
             "#c51b7d"
            ],
            [
             0.2,
             "#de77ae"
            ],
            [
             0.3,
             "#f1b6da"
            ],
            [
             0.4,
             "#fde0ef"
            ],
            [
             0.5,
             "#f7f7f7"
            ],
            [
             0.6,
             "#e6f5d0"
            ],
            [
             0.7,
             "#b8e186"
            ],
            [
             0.8,
             "#7fbc41"
            ],
            [
             0.9,
             "#4d9221"
            ],
            [
             1,
             "#276419"
            ]
           ],
           "sequential": [
            [
             0,
             "#0d0887"
            ],
            [
             0.1111111111111111,
             "#46039f"
            ],
            [
             0.2222222222222222,
             "#7201a8"
            ],
            [
             0.3333333333333333,
             "#9c179e"
            ],
            [
             0.4444444444444444,
             "#bd3786"
            ],
            [
             0.5555555555555556,
             "#d8576b"
            ],
            [
             0.6666666666666666,
             "#ed7953"
            ],
            [
             0.7777777777777778,
             "#fb9f3a"
            ],
            [
             0.8888888888888888,
             "#fdca26"
            ],
            [
             1,
             "#f0f921"
            ]
           ],
           "sequentialminus": [
            [
             0,
             "#0d0887"
            ],
            [
             0.1111111111111111,
             "#46039f"
            ],
            [
             0.2222222222222222,
             "#7201a8"
            ],
            [
             0.3333333333333333,
             "#9c179e"
            ],
            [
             0.4444444444444444,
             "#bd3786"
            ],
            [
             0.5555555555555556,
             "#d8576b"
            ],
            [
             0.6666666666666666,
             "#ed7953"
            ],
            [
             0.7777777777777778,
             "#fb9f3a"
            ],
            [
             0.8888888888888888,
             "#fdca26"
            ],
            [
             1,
             "#f0f921"
            ]
           ]
          },
          "colorway": [
           "#636efa",
           "#EF553B",
           "#00cc96",
           "#ab63fa",
           "#FFA15A",
           "#19d3f3",
           "#FF6692",
           "#B6E880",
           "#FF97FF",
           "#FECB52"
          ],
          "font": {
           "color": "#2a3f5f"
          },
          "geo": {
           "bgcolor": "white",
           "lakecolor": "white",
           "landcolor": "#E5ECF6",
           "showlakes": true,
           "showland": true,
           "subunitcolor": "white"
          },
          "hoverlabel": {
           "align": "left"
          },
          "hovermode": "closest",
          "mapbox": {
           "style": "light"
          },
          "paper_bgcolor": "white",
          "plot_bgcolor": "#E5ECF6",
          "polar": {
           "angularaxis": {
            "gridcolor": "white",
            "linecolor": "white",
            "ticks": ""
           },
           "bgcolor": "#E5ECF6",
           "radialaxis": {
            "gridcolor": "white",
            "linecolor": "white",
            "ticks": ""
           }
          },
          "scene": {
           "xaxis": {
            "backgroundcolor": "#E5ECF6",
            "gridcolor": "white",
            "gridwidth": 2,
            "linecolor": "white",
            "showbackground": true,
            "ticks": "",
            "zerolinecolor": "white"
           },
           "yaxis": {
            "backgroundcolor": "#E5ECF6",
            "gridcolor": "white",
            "gridwidth": 2,
            "linecolor": "white",
            "showbackground": true,
            "ticks": "",
            "zerolinecolor": "white"
           },
           "zaxis": {
            "backgroundcolor": "#E5ECF6",
            "gridcolor": "white",
            "gridwidth": 2,
            "linecolor": "white",
            "showbackground": true,
            "ticks": "",
            "zerolinecolor": "white"
           }
          },
          "shapedefaults": {
           "line": {
            "color": "#2a3f5f"
           }
          },
          "ternary": {
           "aaxis": {
            "gridcolor": "white",
            "linecolor": "white",
            "ticks": ""
           },
           "baxis": {
            "gridcolor": "white",
            "linecolor": "white",
            "ticks": ""
           },
           "bgcolor": "#E5ECF6",
           "caxis": {
            "gridcolor": "white",
            "linecolor": "white",
            "ticks": ""
           }
          },
          "title": {
           "x": 0.05
          },
          "xaxis": {
           "automargin": true,
           "gridcolor": "white",
           "linecolor": "white",
           "ticks": "",
           "title": {
            "standoff": 15
           },
           "zerolinecolor": "white",
           "zerolinewidth": 2
          },
          "yaxis": {
           "automargin": true,
           "gridcolor": "white",
           "linecolor": "white",
           "ticks": "",
           "title": {
            "standoff": 15
           },
           "zerolinecolor": "white",
           "zerolinewidth": 2
          }
         }
        },
        "title": {
         "text": "Highest to Lowest Total Fine Amount and Frequency in Log Scale"
        },
        "xaxis": {
         "categoryorder": "total descending",
         "tickfont": {
          "size": 8
         }
        },
        "yaxis": {
         "title": {
          "text": "Number of Tickets Issued"
         },
         "type": "log"
        },
        "yaxis2": {
         "anchor": "x",
         "overlaying": "y",
         "side": "right",
         "title": {
          "text": "Total Fine Amount"
         },
         "type": "log"
        }
       }
      },
      "text/html": [
       "<div>                            <div id=\"2a4d542b-d389-4677-9e3e-0bc30d4ef3b8\" class=\"plotly-graph-div\" style=\"height:600px; width:100%;\"></div>            <script type=\"text/javascript\">                require([\"plotly\"], function(Plotly) {                    window.PLOTLYENV=window.PLOTLYENV || {};                                    if (document.getElementById(\"2a4d542b-d389-4677-9e3e-0bc30d4ef3b8\")) {                    Plotly.newPlot(                        \"2a4d542b-d389-4677-9e3e-0bc30d4ef3b8\",                        [{\"name\": \"Number of Tickets Issued\", \"type\": \"bar\", \"x\": [\"FAIL ANGLE PARK/STOP AT 45 DEG\", \"FAIL PARK/STP LEFT WHLS PARALL\", \"FAIL PARK/STP NEAR RIGHT LIMIT\", \"FAIL TO (PARK/STOP) ANGLE SPCE\", \"FAIL TO PARK/STOP PARALL. CURB\", \"FAIL TO PARK/STOP PARALL. RGHT\", \"PARAL PRK-MTRD-FR WHLS NO OPP\", \"PARK - 2 SPACES - NO FEE\", \"PARK - BETWEEN ROAD & SIDEWALK\", \"PARK - BOULEVD NO VALID PLATES\", \"PARK - LONGER THAN 3 HOURS\", \"PARK - LONGER THAN 3 HOURS \", \"PARK - NOT WITHIN PERIOD\", \"PARK - ON BOULEVARD\", \"PARK - ON FRONT YARD\", \"PARK ACC NO PERMIT\", \"PARK ACCESSIBLE LOAD NO PERMIT\", \"PARK ACCESSIBLE LOAD NOT DRP/O\", \"PARK ACCESSIBLE LOAD NOT DRP/O\", \"PARK ACCESSIBLE NOT DROP OFF\", \"PARK BUS-SIGNED HWY-PROH DY/TM\", \"PARK COMMERC LOAD ZONE NOT LDG\", \"PARK CONTRARY POSTED CONDITION\", \"PARK E-VEH. IN EV SP EXCESS TM\", \"PARK FAIL TO DEPOSIT FEE METER\", \"PARK HEAVY (TRUCK/VEH.) TM/DY\", \"PARK HWY PROHIBITED TIMES/DAYS\", \"PARK IN A FIRE ROUTE\", \"PARK IN ACCESSIBLE NO PERMIT\", \"PARK IN PARK NOT IN DESIG AREA\", \"PARK LESS THAN 0.3M FROM WALL\", \"PARK LT 0.3M FROM SIDEWALK\", \"PARK MACHINE-FAIL TO ACTIVATE\", \"PARK MACHINE-NOT IN PERMITD TM\", \"PARK MACHINE-REQD FEE NOT PAID\", \"PARK MORE THAN 7DAYS NO PERMIT\", \"PARK MTR REC VE NOT DESIG AREA\", \"PARK NON-BUS-BUS PK ZNE DY/TM\", \"PARK NON-MTRCYCLE IN MTRCYC SP\", \"PARK ON BOULEVARD\", \"PARK ON MUN PROP NO CONSENT\", \"PARK ON MUNICIPAL PROPERTY\", \"PARK ON PRIV PROP NO CONSENT\", \"PARK ON PRIVATE PROPERTY\", \"PARK ONSTRT ACCESSIBLE NO PRMT\", \"PARK ONSTRT ACCESSIBLE NO PRMT\", \"PARK ONSTRT ACCESSIBLE NOT D/O\", \"PARK OTHER THAN METERED SPACE\", \"PARK OVERNIGHT NO PERMIT\", \"PARK PRIVATE PROP NO CONSENT\", \"PARK PRO VEH ON BICYCLE PATH\", \"PARK PROHIBITED TIME NO PERMIT\", \"PARK TAXI FOR HIRE-UNAUTH LOC\", \"PARK VEH.-COMMERCIAL LOAD ZONE\", \"PARK VEH.-STRTCAR TRK SNOW RT\", \"PARK VEH.-WASH/GREASE/REPAIR\", \"PARK VEHICLE - FOR SALE\", \"PARK VEHICLE ON ROADWAY\", \"PARK VEHICLE OUTSIDE OF SPACE\", \"PARK VEHICLE PROHIBITED TIME\", \"PARK VEHICLE WHILE NOT IN PARK\", \"PARK-(FRNT/60 CM) DRWAY/LANEWY\", \"PARK-15M MAILBOX SAME SIDE\", \"PARK-15M OF DEAD END STREET\", \"PARK-30.5M APPROACH TO CRSSWLK\", \"PARK-30.5M FIRE HALL OPP SIDE\", \"PARK-30.5M SIGNALIZED INTERSCT\", \"PARK-7.5M FIRE HALL SAME SIDE\", \"PARK-FAIL TO ACTIVATE MACHINE\", \"PARK-FAIL TO DISPLAY PERMIT\", \"PARK-FRONT OF BLDG ENTRY/EXIT\", \"PARK-FRONT OF VEH NOT OPP MTR\", \"PARK-HWY DRNG PROH TIMES/DAYS\", \"PARK-HWY PROHIB TIMES/DAYS\", \"PARK-INTERF W FUNERAL PROCESS.\", \"PARK-ISSUED CARD NOT DISPLAYED\", \"PARK-N.YORK 2AM-6AM DEC1-MAR31\", \"PARK-OBSTRUCT (DRWAY/LANEWAY)\", \"PARK-PASSENGER/FREIGHT LOADING\", \"PARK-PREVENT VEHICLE REMOVAL\", \"PARK-SIGNED HWY-\\\"T\\\" INTERSECTN\", \"PARK-SIGNED HWY-15M INTERSECTN\", \"PARK-SIGNED HWY-EXC PERMT TIME\", \"PARK-SIGNED HWY-LESS THAN 6M W\", \"PARK-SIGNED HWY-PROHIBIT DY/TM\", \"PARK-SIGNED HWY-PUBLIC LANE\", \"PARK-SIGNED HWY-TURNING BASIN\", \"PARK-VEH. W/O VALID ONT PLATE\", \"PARK-W/O VALID NON-ONT PLATE\", \"PARK-WITHIN 3M OF FIRE HYDRANT\", \"PARK-WITHIN 9M INTERSECT ROAD\", \"PARK/LEAVE CONTRARY TO SIGN\", \"PARK/LEAVE UNPD PARKING INV\", \"PARK/LEAVE-FIRE ROUTE\", \"PARK/STAND CAR-SHARE VEH.-PERM\", \"PARK/STAND UNAUTH VEH. CAR SHR\", \"PARK/STOP RGHT WHLS > 30CM CRB\", \"PARKING MACH-NOT USED/NO FEE\", \"PRK/STP LEFT WHLS CLSE TO LEFT\", \"STAND ACCESSIBLE NOT DROP OFF\", \"STAND IN ACCESSIBLE NO PERMIT\", \"STAND NON-TAXI IN SIGNED STAND\", \"STAND SIGNED TAXICAB STAND\", \"STAND SIGNED TRANSIT STOP\", \"STAND TAXI-SIGNED STD-NOT HIRE\", \"STAND VEH.-PROHIBIT TIME/DAY\", \"STAND VEH.-PSGR LD ZN DAY TIME\", \"STAND VEH.-PSGR LD ZN LD/UNLD\", \"STAND VEH.-SIGNED HWY-RUSH HR\", \"STAND VEHICLE WHERE PROHIBITED\", \"STAND VEHICLE-SIGNED HIGHWAY\", \"STAND VEHICLE-SIGNED HIGHWAY-3\", \"STND ACCESSIBLE LOAD NO PERMIT\", \"STND ACCESSIBLE LOAD NOT DRP/O\", \"STND BUS-SIGNED HWY-PROH DY/TM\", \"STND ONSTRT ACCESSIBLE NO PRMT\", \"STND ONSTRT ACCESSIBLE NOT D/O\", \"STOP - IN UNDERPASS\", \"STOP - ON BRIDGE\", \"STOP - ON CENTRE STRIP\", \"STOP - ON MIDDLE BOULEVARD\", \"STOP BUS-SIGNED HWY-PROH DY/TM\", \"STOP NON-BICYCLE IN CYCLE TRCK\", \"STOP NON-BUS - BUS LOAD ZONE\", \"STOP ONSTRT ACCESSIBLE NO PRMT\", \"STOP SIDE STOPPED/PARKED VEH\", \"STOP VEH OTR THN BCYCL-BYCL LN\", \"STOP VEH.RESRVD/DESIG LN TM/DY\", \"STOP-(ON/OVER) (SIDEWK/FTPATH)\", \"STOP-15M PEDESTRIAN X APPROACH\", \"STOP-9 M PEDESTRIAN X BEYOND\", \"STOP-ACROSS FROM EXCAV./OBSTR.\", \"STOP-ADJACENT CENTRE STRIP END\", \"STOP-ADJACENT CNTRE STRIP SIDE\", \"STOP-ADJACENT MID. BOUL. END\", \"STOP-ADJACENT MID. BOUL. SIDE\", \"STOP-ALONGSIDE EXCAV./OBSTR.\", \"STOP-NON-SCHL BUS IN SCHL LDZN\", \"STOP-ROAD SIDE-STOP/PARK VEH.\", \"STOP-SIGNED HIGHWAY-RUSH HOUR\", \"STOP-SIGNED HWY-PROHIBIT TM/DY\", \"STOP-WITHIN (INTERSCTN/PED X)\", \"STOP-WITHIN 15M OF SAFETY ZONE\", \"STOP-WITHIN 9M OF SCHOOL CROSS\", \"STOP/STAND/PARK VEND NO PERMIT\"], \"y\": [1, 1, 6, 5, 1670, 1081, 1, 4, 783, 9, 42027, 1, 499, 3333, 32, 5, 15, 1, 3, 123, 23, 6509, 475, 1, 588, 315, 1, 5362, 1298, 575, 1, 2, 3, 7, 82637, 56, 2, 611, 81, 1, 1, 4905, 2, 143717, 1, 950, 11, 5, 4, 2, 10, 110124, 39, 319, 1, 3, 18, 119, 718, 1, 88, 172, 6, 39, 2, 231, 141, 10, 485, 1612, 1, 1, 1, 2, 1, 6, 17237, 2044, 1, 2, 406, 62, 19467, 37, 118228, 4675, 127, 36077, 436, 10213, 4146, 191, 1, 3, 3, 676, 100, 9549, 1, 11, 20, 1969, 1, 9506, 158, 26410, 102, 1319, 104, 1, 1, 1, 60, 107, 107, 2083, 301, 6, 3, 68, 46, 14, 647, 2, 9, 1, 1967, 409, 5089, 286, 385, 12, 1, 1, 1, 10, 4, 340, 827, 25037, 36956, 35, 1, 3, 1]}, {\"mode\": \"markers\", \"name\": \"Total Fine Amount\", \"type\": \"scatter\", \"x\": [\"FAIL ANGLE PARK/STOP AT 45 DEG\", \"FAIL PARK/STP LEFT WHLS PARALL\", \"FAIL PARK/STP NEAR RIGHT LIMIT\", \"FAIL TO (PARK/STOP) ANGLE SPCE\", \"FAIL TO PARK/STOP PARALL. CURB\", \"FAIL TO PARK/STOP PARALL. RGHT\", \"PARAL PRK-MTRD-FR WHLS NO OPP\", \"PARK - 2 SPACES - NO FEE\", \"PARK - BETWEEN ROAD & SIDEWALK\", \"PARK - BOULEVD NO VALID PLATES\", \"PARK - LONGER THAN 3 HOURS\", \"PARK - LONGER THAN 3 HOURS \", \"PARK - NOT WITHIN PERIOD\", \"PARK - ON BOULEVARD\", \"PARK - ON FRONT YARD\", \"PARK ACC NO PERMIT\", \"PARK ACCESSIBLE LOAD NO PERMIT\", \"PARK ACCESSIBLE LOAD NOT DRP/O\", \"PARK ACCESSIBLE LOAD NOT DRP/O\", \"PARK ACCESSIBLE NOT DROP OFF\", \"PARK BUS-SIGNED HWY-PROH DY/TM\", \"PARK COMMERC LOAD ZONE NOT LDG\", \"PARK CONTRARY POSTED CONDITION\", \"PARK E-VEH. IN EV SP EXCESS TM\", \"PARK FAIL TO DEPOSIT FEE METER\", \"PARK HEAVY (TRUCK/VEH.) TM/DY\", \"PARK HWY PROHIBITED TIMES/DAYS\", \"PARK IN A FIRE ROUTE\", \"PARK IN ACCESSIBLE NO PERMIT\", \"PARK IN PARK NOT IN DESIG AREA\", \"PARK LESS THAN 0.3M FROM WALL\", \"PARK LT 0.3M FROM SIDEWALK\", \"PARK MACHINE-FAIL TO ACTIVATE\", \"PARK MACHINE-NOT IN PERMITD TM\", \"PARK MACHINE-REQD FEE NOT PAID\", \"PARK MORE THAN 7DAYS NO PERMIT\", \"PARK MTR REC VE NOT DESIG AREA\", \"PARK NON-BUS-BUS PK ZNE DY/TM\", \"PARK NON-MTRCYCLE IN MTRCYC SP\", \"PARK ON BOULEVARD\", \"PARK ON MUN PROP NO CONSENT\", \"PARK ON MUNICIPAL PROPERTY\", \"PARK ON PRIV PROP NO CONSENT\", \"PARK ON PRIVATE PROPERTY\", \"PARK ONSTRT ACCESSIBLE NO PRMT\", \"PARK ONSTRT ACCESSIBLE NO PRMT\", \"PARK ONSTRT ACCESSIBLE NOT D/O\", \"PARK OTHER THAN METERED SPACE\", \"PARK OVERNIGHT NO PERMIT\", \"PARK PRIVATE PROP NO CONSENT\", \"PARK PRO VEH ON BICYCLE PATH\", \"PARK PROHIBITED TIME NO PERMIT\", \"PARK TAXI FOR HIRE-UNAUTH LOC\", \"PARK VEH.-COMMERCIAL LOAD ZONE\", \"PARK VEH.-STRTCAR TRK SNOW RT\", \"PARK VEH.-WASH/GREASE/REPAIR\", \"PARK VEHICLE - FOR SALE\", \"PARK VEHICLE ON ROADWAY\", \"PARK VEHICLE OUTSIDE OF SPACE\", \"PARK VEHICLE PROHIBITED TIME\", \"PARK VEHICLE WHILE NOT IN PARK\", \"PARK-(FRNT/60 CM) DRWAY/LANEWY\", \"PARK-15M MAILBOX SAME SIDE\", \"PARK-15M OF DEAD END STREET\", \"PARK-30.5M APPROACH TO CRSSWLK\", \"PARK-30.5M FIRE HALL OPP SIDE\", \"PARK-30.5M SIGNALIZED INTERSCT\", \"PARK-7.5M FIRE HALL SAME SIDE\", \"PARK-FAIL TO ACTIVATE MACHINE\", \"PARK-FAIL TO DISPLAY PERMIT\", \"PARK-FRONT OF BLDG ENTRY/EXIT\", \"PARK-FRONT OF VEH NOT OPP MTR\", \"PARK-HWY DRNG PROH TIMES/DAYS\", \"PARK-HWY PROHIB TIMES/DAYS\", \"PARK-INTERF W FUNERAL PROCESS.\", \"PARK-ISSUED CARD NOT DISPLAYED\", \"PARK-N.YORK 2AM-6AM DEC1-MAR31\", \"PARK-OBSTRUCT (DRWAY/LANEWAY)\", \"PARK-PASSENGER/FREIGHT LOADING\", \"PARK-PREVENT VEHICLE REMOVAL\", \"PARK-SIGNED HWY-\\\"T\\\" INTERSECTN\", \"PARK-SIGNED HWY-15M INTERSECTN\", \"PARK-SIGNED HWY-EXC PERMT TIME\", \"PARK-SIGNED HWY-LESS THAN 6M W\", \"PARK-SIGNED HWY-PROHIBIT DY/TM\", \"PARK-SIGNED HWY-PUBLIC LANE\", \"PARK-SIGNED HWY-TURNING BASIN\", \"PARK-VEH. W/O VALID ONT PLATE\", \"PARK-W/O VALID NON-ONT PLATE\", \"PARK-WITHIN 3M OF FIRE HYDRANT\", \"PARK-WITHIN 9M INTERSECT ROAD\", \"PARK/LEAVE CONTRARY TO SIGN\", \"PARK/LEAVE UNPD PARKING INV\", \"PARK/LEAVE-FIRE ROUTE\", \"PARK/STAND CAR-SHARE VEH.-PERM\", \"PARK/STAND UNAUTH VEH. CAR SHR\", \"PARK/STOP RGHT WHLS > 30CM CRB\", \"PARKING MACH-NOT USED/NO FEE\", \"PRK/STP LEFT WHLS CLSE TO LEFT\", \"STAND ACCESSIBLE NOT DROP OFF\", \"STAND IN ACCESSIBLE NO PERMIT\", \"STAND NON-TAXI IN SIGNED STAND\", \"STAND SIGNED TAXICAB STAND\", \"STAND SIGNED TRANSIT STOP\", \"STAND TAXI-SIGNED STD-NOT HIRE\", \"STAND VEH.-PROHIBIT TIME/DAY\", \"STAND VEH.-PSGR LD ZN DAY TIME\", \"STAND VEH.-PSGR LD ZN LD/UNLD\", \"STAND VEH.-SIGNED HWY-RUSH HR\", \"STAND VEHICLE WHERE PROHIBITED\", \"STAND VEHICLE-SIGNED HIGHWAY\", \"STAND VEHICLE-SIGNED HIGHWAY-3\", \"STND ACCESSIBLE LOAD NO PERMIT\", \"STND ACCESSIBLE LOAD NOT DRP/O\", \"STND BUS-SIGNED HWY-PROH DY/TM\", \"STND ONSTRT ACCESSIBLE NO PRMT\", \"STND ONSTRT ACCESSIBLE NOT D/O\", \"STOP - IN UNDERPASS\", \"STOP - ON BRIDGE\", \"STOP - ON CENTRE STRIP\", \"STOP - ON MIDDLE BOULEVARD\", \"STOP BUS-SIGNED HWY-PROH DY/TM\", \"STOP NON-BICYCLE IN CYCLE TRCK\", \"STOP NON-BUS - BUS LOAD ZONE\", \"STOP ONSTRT ACCESSIBLE NO PRMT\", \"STOP SIDE STOPPED/PARKED VEH\", \"STOP VEH OTR THN BCYCL-BYCL LN\", \"STOP VEH.RESRVD/DESIG LN TM/DY\", \"STOP-(ON/OVER) (SIDEWK/FTPATH)\", \"STOP-15M PEDESTRIAN X APPROACH\", \"STOP-9 M PEDESTRIAN X BEYOND\", \"STOP-ACROSS FROM EXCAV./OBSTR.\", \"STOP-ADJACENT CENTRE STRIP END\", \"STOP-ADJACENT CNTRE STRIP SIDE\", \"STOP-ADJACENT MID. BOUL. END\", \"STOP-ADJACENT MID. BOUL. SIDE\", \"STOP-ALONGSIDE EXCAV./OBSTR.\", \"STOP-NON-SCHL BUS IN SCHL LDZN\", \"STOP-ROAD SIDE-STOP/PARK VEH.\", \"STOP-SIGNED HIGHWAY-RUSH HOUR\", \"STOP-SIGNED HWY-PROHIBIT TM/DY\", \"STOP-WITHIN (INTERSCTN/PED X)\", \"STOP-WITHIN 15M OF SAFETY ZONE\", \"STOP-WITHIN 9M OF SCHOOL CROSS\", \"STOP/STAND/PARK VEND NO PERMIT\"], \"y\": [30, 30, 180, 150, 50100, 32430, 30, 120, 39150, 450, 630405, 0, 14970, 166650, 1600, 1500, 6750, 0, 1350, 55350, 6900, 260360, 47500, 60, 17640, 28350, 0, 1340500, 584100, 57500, 50, 100, 90, 210, 2479110, 1680, 350, 91650, 3240, 0, 0, 147150, 0, 4311510, 0, 427500, 4950, 150, 400, 0, 600, 3303720, 1560, 12760, 200, 45, 270, 3570, 21540, 30, 8800, 8600, 240, 1560, 80, 9240, 7050, 400, 14550, 48360, 40, 30, 0, 0, 40, 180, 689480, 102200, 0, 80, 16240, 3100, 778680, 1480, 5911400, 187000, 5080, 1443080, 17440, 1021300, 207300, 5730, 30, 0, 180, 40560, 3000, 286470, 30, 4950, 9000, 118140, 0, 1425900, 9480, 1584600, 6120, 79140, 15600, 55, 0, 0, 27000, 48150, 32100, 937350, 135450, 360, 180, 4080, 2760, 4200, 97050, 600, 4050, 0, 295050, 61350, 763350, 17160, 23100, 720, 60, 60, 60, 600, 240, 20400, 124050, 3755550, 2217360, 2100, 60, 180, 0], \"yaxis\": \"y2\"}],                        {\"height\": 600, \"legend\": {\"orientation\": \"h\", \"y\": 1.1}, \"template\": {\"data\": {\"bar\": [{\"error_x\": {\"color\": \"#2a3f5f\"}, \"error_y\": {\"color\": \"#2a3f5f\"}, \"marker\": {\"line\": {\"color\": \"#E5ECF6\", \"width\": 0.5}}, \"type\": \"bar\"}], \"barpolar\": [{\"marker\": {\"line\": {\"color\": \"#E5ECF6\", \"width\": 0.5}}, \"type\": \"barpolar\"}], \"carpet\": [{\"aaxis\": {\"endlinecolor\": \"#2a3f5f\", \"gridcolor\": \"white\", \"linecolor\": \"white\", \"minorgridcolor\": \"white\", \"startlinecolor\": \"#2a3f5f\"}, \"baxis\": {\"endlinecolor\": \"#2a3f5f\", \"gridcolor\": \"white\", \"linecolor\": \"white\", \"minorgridcolor\": \"white\", \"startlinecolor\": \"#2a3f5f\"}, \"type\": \"carpet\"}], \"choropleth\": [{\"colorbar\": {\"outlinewidth\": 0, \"ticks\": \"\"}, \"type\": \"choropleth\"}], \"contour\": [{\"colorbar\": {\"outlinewidth\": 0, \"ticks\": \"\"}, \"colorscale\": [[0.0, \"#0d0887\"], [0.1111111111111111, \"#46039f\"], [0.2222222222222222, \"#7201a8\"], [0.3333333333333333, \"#9c179e\"], [0.4444444444444444, \"#bd3786\"], [0.5555555555555556, \"#d8576b\"], [0.6666666666666666, \"#ed7953\"], [0.7777777777777778, \"#fb9f3a\"], [0.8888888888888888, \"#fdca26\"], [1.0, \"#f0f921\"]], \"type\": \"contour\"}], \"contourcarpet\": [{\"colorbar\": {\"outlinewidth\": 0, \"ticks\": \"\"}, \"type\": \"contourcarpet\"}], \"heatmap\": [{\"colorbar\": {\"outlinewidth\": 0, \"ticks\": \"\"}, \"colorscale\": [[0.0, \"#0d0887\"], [0.1111111111111111, \"#46039f\"], [0.2222222222222222, \"#7201a8\"], [0.3333333333333333, \"#9c179e\"], [0.4444444444444444, \"#bd3786\"], [0.5555555555555556, \"#d8576b\"], [0.6666666666666666, \"#ed7953\"], [0.7777777777777778, \"#fb9f3a\"], [0.8888888888888888, \"#fdca26\"], [1.0, \"#f0f921\"]], \"type\": \"heatmap\"}], \"heatmapgl\": [{\"colorbar\": {\"outlinewidth\": 0, \"ticks\": \"\"}, \"colorscale\": [[0.0, \"#0d0887\"], [0.1111111111111111, \"#46039f\"], [0.2222222222222222, \"#7201a8\"], [0.3333333333333333, \"#9c179e\"], [0.4444444444444444, \"#bd3786\"], [0.5555555555555556, \"#d8576b\"], [0.6666666666666666, \"#ed7953\"], [0.7777777777777778, \"#fb9f3a\"], [0.8888888888888888, \"#fdca26\"], [1.0, \"#f0f921\"]], \"type\": \"heatmapgl\"}], \"histogram\": [{\"marker\": {\"colorbar\": {\"outlinewidth\": 0, \"ticks\": \"\"}}, \"type\": \"histogram\"}], \"histogram2d\": [{\"colorbar\": {\"outlinewidth\": 0, \"ticks\": \"\"}, \"colorscale\": [[0.0, \"#0d0887\"], [0.1111111111111111, \"#46039f\"], [0.2222222222222222, \"#7201a8\"], [0.3333333333333333, \"#9c179e\"], [0.4444444444444444, \"#bd3786\"], [0.5555555555555556, \"#d8576b\"], [0.6666666666666666, \"#ed7953\"], [0.7777777777777778, \"#fb9f3a\"], [0.8888888888888888, \"#fdca26\"], [1.0, \"#f0f921\"]], \"type\": \"histogram2d\"}], \"histogram2dcontour\": [{\"colorbar\": {\"outlinewidth\": 0, \"ticks\": \"\"}, \"colorscale\": [[0.0, \"#0d0887\"], [0.1111111111111111, \"#46039f\"], [0.2222222222222222, \"#7201a8\"], [0.3333333333333333, \"#9c179e\"], [0.4444444444444444, \"#bd3786\"], [0.5555555555555556, \"#d8576b\"], [0.6666666666666666, \"#ed7953\"], [0.7777777777777778, \"#fb9f3a\"], [0.8888888888888888, \"#fdca26\"], [1.0, \"#f0f921\"]], \"type\": \"histogram2dcontour\"}], \"mesh3d\": [{\"colorbar\": {\"outlinewidth\": 0, \"ticks\": \"\"}, \"type\": \"mesh3d\"}], \"parcoords\": [{\"line\": {\"colorbar\": {\"outlinewidth\": 0, \"ticks\": \"\"}}, \"type\": \"parcoords\"}], \"pie\": [{\"automargin\": true, \"type\": \"pie\"}], \"scatter\": [{\"marker\": {\"colorbar\": {\"outlinewidth\": 0, \"ticks\": \"\"}}, \"type\": \"scatter\"}], \"scatter3d\": [{\"line\": {\"colorbar\": {\"outlinewidth\": 0, \"ticks\": \"\"}}, \"marker\": {\"colorbar\": {\"outlinewidth\": 0, \"ticks\": \"\"}}, \"type\": \"scatter3d\"}], \"scattercarpet\": [{\"marker\": {\"colorbar\": {\"outlinewidth\": 0, \"ticks\": \"\"}}, \"type\": \"scattercarpet\"}], \"scattergeo\": [{\"marker\": {\"colorbar\": {\"outlinewidth\": 0, \"ticks\": \"\"}}, \"type\": \"scattergeo\"}], \"scattergl\": [{\"marker\": {\"colorbar\": {\"outlinewidth\": 0, \"ticks\": \"\"}}, \"type\": \"scattergl\"}], \"scattermapbox\": [{\"marker\": {\"colorbar\": {\"outlinewidth\": 0, \"ticks\": \"\"}}, \"type\": \"scattermapbox\"}], \"scatterpolar\": [{\"marker\": {\"colorbar\": {\"outlinewidth\": 0, \"ticks\": \"\"}}, \"type\": \"scatterpolar\"}], \"scatterpolargl\": [{\"marker\": {\"colorbar\": {\"outlinewidth\": 0, \"ticks\": \"\"}}, \"type\": \"scatterpolargl\"}], \"scatterternary\": [{\"marker\": {\"colorbar\": {\"outlinewidth\": 0, \"ticks\": \"\"}}, \"type\": \"scatterternary\"}], \"surface\": [{\"colorbar\": {\"outlinewidth\": 0, \"ticks\": \"\"}, \"colorscale\": [[0.0, \"#0d0887\"], [0.1111111111111111, \"#46039f\"], [0.2222222222222222, \"#7201a8\"], [0.3333333333333333, \"#9c179e\"], [0.4444444444444444, \"#bd3786\"], [0.5555555555555556, \"#d8576b\"], [0.6666666666666666, \"#ed7953\"], [0.7777777777777778, \"#fb9f3a\"], [0.8888888888888888, \"#fdca26\"], [1.0, \"#f0f921\"]], \"type\": \"surface\"}], \"table\": [{\"cells\": {\"fill\": {\"color\": \"#EBF0F8\"}, \"line\": {\"color\": \"white\"}}, \"header\": {\"fill\": {\"color\": \"#C8D4E3\"}, \"line\": {\"color\": \"white\"}}, \"type\": \"table\"}]}, \"layout\": {\"annotationdefaults\": {\"arrowcolor\": \"#2a3f5f\", \"arrowhead\": 0, \"arrowwidth\": 1}, \"coloraxis\": {\"colorbar\": {\"outlinewidth\": 0, \"ticks\": \"\"}}, \"colorscale\": {\"diverging\": [[0, \"#8e0152\"], [0.1, \"#c51b7d\"], [0.2, \"#de77ae\"], [0.3, \"#f1b6da\"], [0.4, \"#fde0ef\"], [0.5, \"#f7f7f7\"], [0.6, \"#e6f5d0\"], [0.7, \"#b8e186\"], [0.8, \"#7fbc41\"], [0.9, \"#4d9221\"], [1, \"#276419\"]], \"sequential\": [[0.0, \"#0d0887\"], [0.1111111111111111, \"#46039f\"], [0.2222222222222222, \"#7201a8\"], [0.3333333333333333, \"#9c179e\"], [0.4444444444444444, \"#bd3786\"], [0.5555555555555556, \"#d8576b\"], [0.6666666666666666, \"#ed7953\"], [0.7777777777777778, \"#fb9f3a\"], [0.8888888888888888, \"#fdca26\"], [1.0, \"#f0f921\"]], \"sequentialminus\": [[0.0, \"#0d0887\"], [0.1111111111111111, \"#46039f\"], [0.2222222222222222, \"#7201a8\"], [0.3333333333333333, \"#9c179e\"], [0.4444444444444444, \"#bd3786\"], [0.5555555555555556, \"#d8576b\"], [0.6666666666666666, \"#ed7953\"], [0.7777777777777778, \"#fb9f3a\"], [0.8888888888888888, \"#fdca26\"], [1.0, \"#f0f921\"]]}, \"colorway\": [\"#636efa\", \"#EF553B\", \"#00cc96\", \"#ab63fa\", \"#FFA15A\", \"#19d3f3\", \"#FF6692\", \"#B6E880\", \"#FF97FF\", \"#FECB52\"], \"font\": {\"color\": \"#2a3f5f\"}, \"geo\": {\"bgcolor\": \"white\", \"lakecolor\": \"white\", \"landcolor\": \"#E5ECF6\", \"showlakes\": true, \"showland\": true, \"subunitcolor\": \"white\"}, \"hoverlabel\": {\"align\": \"left\"}, \"hovermode\": \"closest\", \"mapbox\": {\"style\": \"light\"}, \"paper_bgcolor\": \"white\", \"plot_bgcolor\": \"#E5ECF6\", \"polar\": {\"angularaxis\": {\"gridcolor\": \"white\", \"linecolor\": \"white\", \"ticks\": \"\"}, \"bgcolor\": \"#E5ECF6\", \"radialaxis\": {\"gridcolor\": \"white\", \"linecolor\": \"white\", \"ticks\": \"\"}}, \"scene\": {\"xaxis\": {\"backgroundcolor\": \"#E5ECF6\", \"gridcolor\": \"white\", \"gridwidth\": 2, \"linecolor\": \"white\", \"showbackground\": true, \"ticks\": \"\", \"zerolinecolor\": \"white\"}, \"yaxis\": {\"backgroundcolor\": \"#E5ECF6\", \"gridcolor\": \"white\", \"gridwidth\": 2, \"linecolor\": \"white\", \"showbackground\": true, \"ticks\": \"\", \"zerolinecolor\": \"white\"}, \"zaxis\": {\"backgroundcolor\": \"#E5ECF6\", \"gridcolor\": \"white\", \"gridwidth\": 2, \"linecolor\": \"white\", \"showbackground\": true, \"ticks\": \"\", \"zerolinecolor\": \"white\"}}, \"shapedefaults\": {\"line\": {\"color\": \"#2a3f5f\"}}, \"ternary\": {\"aaxis\": {\"gridcolor\": \"white\", \"linecolor\": \"white\", \"ticks\": \"\"}, \"baxis\": {\"gridcolor\": \"white\", \"linecolor\": \"white\", \"ticks\": \"\"}, \"bgcolor\": \"#E5ECF6\", \"caxis\": {\"gridcolor\": \"white\", \"linecolor\": \"white\", \"ticks\": \"\"}}, \"title\": {\"x\": 0.05}, \"xaxis\": {\"automargin\": true, \"gridcolor\": \"white\", \"linecolor\": \"white\", \"ticks\": \"\", \"title\": {\"standoff\": 15}, \"zerolinecolor\": \"white\", \"zerolinewidth\": 2}, \"yaxis\": {\"automargin\": true, \"gridcolor\": \"white\", \"linecolor\": \"white\", \"ticks\": \"\", \"title\": {\"standoff\": 15}, \"zerolinecolor\": \"white\", \"zerolinewidth\": 2}}}, \"title\": {\"text\": \"Highest to Lowest Total Fine Amount and Frequency in Log Scale\"}, \"xaxis\": {\"categoryorder\": \"total descending\", \"tickfont\": {\"size\": 8}}, \"yaxis\": {\"title\": {\"text\": \"Number of Tickets Issued\"}, \"type\": \"log\"}, \"yaxis2\": {\"anchor\": \"x\", \"overlaying\": \"y\", \"side\": \"right\", \"title\": {\"text\": \"Total Fine Amount\"}, \"type\": \"log\"}},                        {\"responsive\": true}                    ).then(function(){\n",
       "                            \n",
       "var gd = document.getElementById('2a4d542b-d389-4677-9e3e-0bc30d4ef3b8');\n",
       "var x = new MutationObserver(function (mutations, observer) {{\n",
       "        var display = window.getComputedStyle(gd).display;\n",
       "        if (!display || display === 'none') {{\n",
       "            console.log([gd, 'removed!']);\n",
       "            Plotly.purge(gd);\n",
       "            observer.disconnect();\n",
       "        }}\n",
       "}});\n",
       "\n",
       "// Listen for the removal of the full notebook cells\n",
       "var notebookContainer = gd.closest('#notebook-container');\n",
       "if (notebookContainer) {{\n",
       "    x.observe(notebookContainer, {childList: true});\n",
       "}}\n",
       "\n",
       "// Listen for the clearing of the current output cell\n",
       "var outputEl = gd.closest('.output');\n",
       "if (outputEl) {{\n",
       "    x.observe(outputEl, {childList: true});\n",
       "}}\n",
       "\n",
       "                        })                };                });            </script>        </div>"
      ]
     },
     "metadata": {},
     "output_type": "display_data"
    }
   ],
   "source": [
    "# highest to lowest total fine amount and frequency\n",
    "\n",
    "fig4 = go.Figure()\n",
    "\n",
    "fig4.add_trace(go.Bar(x=fine_type_df['infraction_description'], \n",
    "                      y=fine_type_df['tag_number_masked'],\n",
    "                      name='Number of Tickets Issued'\n",
    "                     )\n",
    "                ) \n",
    "\n",
    "fig4.add_trace(go.Scatter(x=fine_type_df['infraction_description'], \n",
    "                          y=fine_type_df['total_fine_amt'],\n",
    "                          yaxis='y2',\n",
    "                          mode=\"markers\",\n",
    "                          name='Total Fine Amount')\n",
    "              )\n",
    "\n",
    "\n",
    "fig4.update_layout(xaxis=dict({'categoryorder':'total descending'},\n",
    "                              tickfont=dict(size=8)), \n",
    "                   title_text='Highest to Lowest Total Fine Amount and Frequency in Log Scale',\n",
    "                   yaxis_title='Number of Tickets Issued',\n",
    "                   yaxis=dict(type='log'),\n",
    "                   yaxis2=dict(anchor='x',\n",
    "                              overlaying='y',\n",
    "                              side='right',\n",
    "                              type='log',\n",
    "                              title='Total Fine Amount'),\n",
    "                   legend=dict(orientation='h',\n",
    "                               y=1.1),\n",
    "                   height=600\n",
    "                  )\n",
    "fig4.show()"
   ]
  },
  {
   "cell_type": "markdown",
   "metadata": {},
   "source": [
    "### Which areas of Toronto do infractions occur? ###"
   ]
  },
  {
   "cell_type": "code",
   "execution_count": 228,
   "metadata": {
    "scrolled": true
   },
   "outputs": [
    {
     "name": "stdout",
     "output_type": "stream",
     "text": [
      "Number of rows and cols:  (49, 11)\n"
     ]
    }
   ],
   "source": [
    "# test dataframe\n",
    "#del test_data, test_df\n",
    "test_data = pd.read_csv('test_data.csv')\n",
    "test_df = pd.DataFrame(test_data)\n",
    "print('Number of rows and cols: ', str(test_df.shape))"
   ]
  },
  {
   "cell_type": "code",
   "execution_count": 266,
   "metadata": {},
   "outputs": [
    {
     "name": "stdout",
     "output_type": "stream",
     "text": [
      "43.76603304166667\n",
      "(43.6920292, -79.5577647)\n",
      "Newcastle Street, Royal York Road, Etobicoke—Lakeshore, Etobicoke, Toronto, Golden Horseshoe, Ontario, M8Y 2R3, Canada\n",
      "43.6185434 -79.4995218\n"
     ]
    }
   ],
   "source": [
    "# Geocoding to converting street addresses to lat and long coordinates test\n",
    "\n",
    "# Try converting 1 physical address using Geopy\n",
    "geolocator = Nominatim(user_agent='toronto_parking_ticket_analysis')\n",
    "location = geolocator.geocode('3 DE JONG ST, Toronto, Ontario, Canada').latitude\n",
    "print((location))\n",
    "\n",
    "# Is geopy able to handle intersections\n",
    "location1 = geolocator.geocode('HAYHURST RD and KIPLING AVE, Toronto, Ontario')\n",
    "print((location1.latitude, location1.longitude))\n",
    "\n",
    "location2 = geolocator.geocode('NEWCASTLE ST and ROYAL YORK RD, Toronto, Ontario, Canada')\n",
    "print(location2)\n",
    "\n",
    "# Handle Postal code\n",
    "location3 = geolocator.geocode('M8Y 2R3')\n",
    "print(location3.latitude, location3.longitude)"
   ]
  },
  {
   "cell_type": "markdown",
   "metadata": {},
   "source": [
    "Geopy geocode handles full addresses well, but not intersections. Could potentially retrieven the postal code for coordinates but the address returned is not fully accurate. "
   ]
  },
  {
   "cell_type": "code",
   "execution_count": 259,
   "metadata": {},
   "outputs": [
    {
     "name": "stdout",
     "output_type": "stream",
     "text": [
      "11\n"
     ]
    }
   ],
   "source": [
    "# Patch intersections data, combine the street names for an intersection name if a numbered address is not available\n",
    "# Add Toronto, Ontario to the end of the addresses\n",
    "# Currently skipping some of geocoding when only intersection data is available\n",
    "\n",
    "skipped_rows = 0\n",
    "\n",
    "for i in range(len(test_df)):\n",
    "    an_address = test_df.loc[i, 'location2'][0].isdigit()    \n",
    "    if an_address:\n",
    "        test_df.loc[i, 'full_location'] = test_df.loc[i, 'location2'] + str(', Toronto, Ontario, Canada') \n",
    "    else:      \n",
    "        test_df.loc[i, 'full_location'] = test_df.loc[i, 'location2'] + str(' and ') + test_df.loc[i, 'location4'] + str(', Toronto, Ontario, Canada') \n",
    "    \n",
    "    try:\n",
    "        test_df.loc[i, 'latitude'] = geolocator.geocode(test_df.loc[i, 'full_location']).latitude\n",
    "        test_df.loc[i, 'longitude'] = geolocator.geocode(test_df.loc[i, 'full_location']).longitude\n",
    "    except:\n",
    "        skipped_rows += 1\n",
    "    \n",
    "        \n",
    "print(skipped_rows)"
   ]
  },
  {
   "cell_type": "code",
   "execution_count": 260,
   "metadata": {},
   "outputs": [
    {
     "data": {
      "text/html": [
       "<div>\n",
       "<style scoped>\n",
       "    .dataframe tbody tr th:only-of-type {\n",
       "        vertical-align: middle;\n",
       "    }\n",
       "\n",
       "    .dataframe tbody tr th {\n",
       "        vertical-align: top;\n",
       "    }\n",
       "\n",
       "    .dataframe thead th {\n",
       "        text-align: right;\n",
       "    }\n",
       "</style>\n",
       "<table border=\"1\" class=\"dataframe\">\n",
       "  <thead>\n",
       "    <tr style=\"text-align: right;\">\n",
       "      <th></th>\n",
       "      <th>tag_number_masked</th>\n",
       "      <th>date_of_infraction</th>\n",
       "      <th>infraction_code</th>\n",
       "      <th>infraction_description</th>\n",
       "      <th>set_fine_amount</th>\n",
       "      <th>time_of_infraction</th>\n",
       "      <th>location1</th>\n",
       "      <th>location2</th>\n",
       "      <th>location3</th>\n",
       "      <th>location4</th>\n",
       "      <th>province</th>\n",
       "      <th>full_location</th>\n",
       "      <th>latitude</th>\n",
       "      <th>longitude</th>\n",
       "    </tr>\n",
       "  </thead>\n",
       "  <tbody>\n",
       "    <tr>\n",
       "      <th>0</th>\n",
       "      <td>***71720</td>\n",
       "      <td>20180101</td>\n",
       "      <td>5</td>\n",
       "      <td>PARK-SIGNED HWY-PROHIBIT DY/TM</td>\n",
       "      <td>50</td>\n",
       "      <td>12</td>\n",
       "      <td>NR</td>\n",
       "      <td>202 DOVERCOURT RD</td>\n",
       "      <td>NaN</td>\n",
       "      <td>NaN</td>\n",
       "      <td>ON</td>\n",
       "      <td>202 DOVERCOURT RD, Toronto, Ontario, Canada</td>\n",
       "      <td>43.647129</td>\n",
       "      <td>-79.423922</td>\n",
       "    </tr>\n",
       "    <tr>\n",
       "      <th>1</th>\n",
       "      <td>***61115</td>\n",
       "      <td>20180101</td>\n",
       "      <td>5</td>\n",
       "      <td>PARK-SIGNED HWY-PROHIBIT DY/TM</td>\n",
       "      <td>50</td>\n",
       "      <td>19</td>\n",
       "      <td>W/S</td>\n",
       "      <td>GREAT WEST DR</td>\n",
       "      <td>S/O</td>\n",
       "      <td>DE JONG ST</td>\n",
       "      <td>ON</td>\n",
       "      <td>GREAT WEST DR and DE JONG ST, Toronto, Ontario...</td>\n",
       "      <td>NaN</td>\n",
       "      <td>NaN</td>\n",
       "    </tr>\n",
       "    <tr>\n",
       "      <th>2</th>\n",
       "      <td>***61117</td>\n",
       "      <td>20180101</td>\n",
       "      <td>5</td>\n",
       "      <td>PARK-SIGNED HWY-PROHIBIT DY/TM</td>\n",
       "      <td>50</td>\n",
       "      <td>22</td>\n",
       "      <td>NR</td>\n",
       "      <td>3 DE JONG ST</td>\n",
       "      <td>NaN</td>\n",
       "      <td>NaN</td>\n",
       "      <td>ON</td>\n",
       "      <td>3 DE JONG ST, Toronto, Ontario, Canada</td>\n",
       "      <td>43.766033</td>\n",
       "      <td>-79.274797</td>\n",
       "    </tr>\n",
       "    <tr>\n",
       "      <th>3</th>\n",
       "      <td>***61118</td>\n",
       "      <td>20180101</td>\n",
       "      <td>5</td>\n",
       "      <td>PARK-SIGNED HWY-PROHIBIT DY/TM</td>\n",
       "      <td>50</td>\n",
       "      <td>23</td>\n",
       "      <td>OPP</td>\n",
       "      <td>54 ZEZEL WAY</td>\n",
       "      <td>NaN</td>\n",
       "      <td>NaN</td>\n",
       "      <td>ON</td>\n",
       "      <td>54 ZEZEL WAY, Toronto, Ontario, Canada</td>\n",
       "      <td>43.766148</td>\n",
       "      <td>-79.275421</td>\n",
       "    </tr>\n",
       "    <tr>\n",
       "      <th>4</th>\n",
       "      <td>***92520</td>\n",
       "      <td>20180101</td>\n",
       "      <td>5</td>\n",
       "      <td>PARK-SIGNED HWY-PROHIBIT DY/TM</td>\n",
       "      <td>50</td>\n",
       "      <td>24</td>\n",
       "      <td>E/S</td>\n",
       "      <td>FORD ST</td>\n",
       "      <td>S/O</td>\n",
       "      <td>ST CLAIR AVE W</td>\n",
       "      <td>ON</td>\n",
       "      <td>FORD ST and ST CLAIR AVE W, Toronto, Ontario, ...</td>\n",
       "      <td>NaN</td>\n",
       "      <td>NaN</td>\n",
       "    </tr>\n",
       "  </tbody>\n",
       "</table>\n",
       "</div>"
      ],
      "text/plain": [
       "  tag_number_masked  date_of_infraction  infraction_code  \\\n",
       "0          ***71720            20180101                5   \n",
       "1          ***61115            20180101                5   \n",
       "2          ***61117            20180101                5   \n",
       "3          ***61118            20180101                5   \n",
       "4          ***92520            20180101                5   \n",
       "\n",
       "           infraction_description  set_fine_amount  time_of_infraction  \\\n",
       "0  PARK-SIGNED HWY-PROHIBIT DY/TM               50                  12   \n",
       "1  PARK-SIGNED HWY-PROHIBIT DY/TM               50                  19   \n",
       "2  PARK-SIGNED HWY-PROHIBIT DY/TM               50                  22   \n",
       "3  PARK-SIGNED HWY-PROHIBIT DY/TM               50                  23   \n",
       "4  PARK-SIGNED HWY-PROHIBIT DY/TM               50                  24   \n",
       "\n",
       "  location1          location2 location3       location4 province  \\\n",
       "0        NR  202 DOVERCOURT RD       NaN             NaN       ON   \n",
       "1       W/S      GREAT WEST DR       S/O      DE JONG ST       ON   \n",
       "2        NR       3 DE JONG ST       NaN             NaN       ON   \n",
       "3       OPP       54 ZEZEL WAY       NaN             NaN       ON   \n",
       "4       E/S            FORD ST       S/O  ST CLAIR AVE W       ON   \n",
       "\n",
       "                                       full_location   latitude  longitude  \n",
       "0        202 DOVERCOURT RD, Toronto, Ontario, Canada  43.647129 -79.423922  \n",
       "1  GREAT WEST DR and DE JONG ST, Toronto, Ontario...        NaN        NaN  \n",
       "2             3 DE JONG ST, Toronto, Ontario, Canada  43.766033 -79.274797  \n",
       "3             54 ZEZEL WAY, Toronto, Ontario, Canada  43.766148 -79.275421  \n",
       "4  FORD ST and ST CLAIR AVE W, Toronto, Ontario, ...        NaN        NaN  "
      ]
     },
     "execution_count": 260,
     "metadata": {},
     "output_type": "execute_result"
    }
   ],
   "source": [
    "test_df.head()"
   ]
  },
  {
   "cell_type": "code",
   "execution_count": null,
   "metadata": {},
   "outputs": [],
   "source": []
  }
 ],
 "metadata": {
  "kernelspec": {
   "display_name": "Python 3",
   "language": "python",
   "name": "python3"
  },
  "language_info": {
   "codemirror_mode": {
    "name": "ipython",
    "version": 3
   },
   "file_extension": ".py",
   "mimetype": "text/x-python",
   "name": "python",
   "nbconvert_exporter": "python",
   "pygments_lexer": "ipython3",
   "version": "3.7.7"
  }
 },
 "nbformat": 4,
 "nbformat_minor": 4
}
